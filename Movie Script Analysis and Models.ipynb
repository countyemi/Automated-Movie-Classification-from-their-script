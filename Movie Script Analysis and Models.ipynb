{
 "cells": [
  {
   "cell_type": "markdown",
   "id": "b9383004",
   "metadata": {},
   "source": [
    "# AUTOMATED CLASSIFICATION OF MOVIES FROM THEIR SCRIPTS\n",
    "# Data Analysis and Models"
   ]
  },
  {
   "cell_type": "markdown",
   "id": "08b49970",
   "metadata": {},
   "source": [
    "The dataframe from data source and cleaning notebook will be imported here and used for building the models for prediction. \n",
    "\n",
    "This was done to avoid errors that might arise when scrapping the script tags online."
   ]
  },
  {
   "cell_type": "code",
   "execution_count": 1,
   "id": "3e9e1406",
   "metadata": {},
   "outputs": [
    {
     "name": "stderr",
     "output_type": "stream",
     "text": [
      "C:\\Users\\HP\\AppData\\Local\\Programs\\Python\\Python39\\lib\\site-packages\\matplotlib\\__init__.py:152: DeprecationWarning: distutils Version classes are deprecated. Use packaging.version instead.\n",
      "  if LooseVersion(module.__version__) < minver:\n",
      "C:\\Users\\HP\\AppData\\Local\\Programs\\Python\\Python39\\lib\\site-packages\\setuptools\\_distutils\\version.py:346: DeprecationWarning: distutils Version classes are deprecated. Use packaging.version instead.\n",
      "  other = LooseVersion(other)\n",
      "C:\\Users\\HP\\AppData\\Local\\Programs\\Python\\Python39\\lib\\site-packages\\matplotlib\\__init__.py:152: DeprecationWarning: distutils Version classes are deprecated. Use packaging.version instead.\n",
      "  if LooseVersion(module.__version__) < minver:\n",
      "C:\\Users\\HP\\AppData\\Local\\Programs\\Python\\Python39\\lib\\site-packages\\setuptools\\_distutils\\version.py:346: DeprecationWarning: distutils Version classes are deprecated. Use packaging.version instead.\n",
      "  other = LooseVersion(other)\n",
      "C:\\Users\\HP\\AppData\\Local\\Programs\\Python\\Python39\\lib\\site-packages\\matplotlib\\__init__.py:152: DeprecationWarning: distutils Version classes are deprecated. Use packaging.version instead.\n",
      "  if LooseVersion(module.__version__) < minver:\n",
      "C:\\Users\\HP\\AppData\\Local\\Programs\\Python\\Python39\\lib\\site-packages\\setuptools\\_distutils\\version.py:346: DeprecationWarning: distutils Version classes are deprecated. Use packaging.version instead.\n",
      "  other = LooseVersion(other)\n",
      "C:\\Users\\HP\\AppData\\Local\\Programs\\Python\\Python39\\lib\\site-packages\\matplotlib\\__init__.py:152: DeprecationWarning: distutils Version classes are deprecated. Use packaging.version instead.\n",
      "  if LooseVersion(module.__version__) < minver:\n",
      "C:\\Users\\HP\\AppData\\Local\\Programs\\Python\\Python39\\lib\\site-packages\\setuptools\\_distutils\\version.py:346: DeprecationWarning: distutils Version classes are deprecated. Use packaging.version instead.\n",
      "  other = LooseVersion(other)\n",
      "C:\\Users\\HP\\AppData\\Local\\Programs\\Python\\Python39\\lib\\site-packages\\matplotlib\\__init__.py:152: DeprecationWarning: distutils Version classes are deprecated. Use packaging.version instead.\n",
      "  if LooseVersion(module.__version__) < minver:\n",
      "C:\\Users\\HP\\AppData\\Local\\Programs\\Python\\Python39\\lib\\site-packages\\setuptools\\_distutils\\version.py:346: DeprecationWarning: distutils Version classes are deprecated. Use packaging.version instead.\n",
      "  other = LooseVersion(other)\n",
      "C:\\Users\\HP\\AppData\\Local\\Programs\\Python\\Python39\\lib\\site-packages\\seaborn\\rcmod.py:82: DeprecationWarning: distutils Version classes are deprecated. Use packaging.version instead.\n",
      "  if LooseVersion(mpl.__version__) >= \"3.0\":\n",
      "C:\\Users\\HP\\AppData\\Local\\Programs\\Python\\Python39\\lib\\site-packages\\setuptools\\_distutils\\version.py:346: DeprecationWarning: distutils Version classes are deprecated. Use packaging.version instead.\n",
      "  other = LooseVersion(other)\n",
      "C:\\Users\\HP\\AppData\\Local\\Programs\\Python\\Python39\\lib\\site-packages\\tensorflow_hub\\__init__.py:74: DeprecationWarning: distutils Version classes are deprecated. Use packaging.version instead.\n",
      "  if (distutils.version.LooseVersion(tf.__version__) <\n",
      "C:\\Users\\HP\\AppData\\Local\\Programs\\Python\\Python39\\lib\\site-packages\\tensorflow_hub\\__init__.py:75: DeprecationWarning: distutils Version classes are deprecated. Use packaging.version instead.\n",
      "  distutils.version.LooseVersion(required_tensorflow_version)):\n"
     ]
    }
   ],
   "source": [
    "#Import all libraries needed\n",
    "\n",
    "import os\n",
    "import warnings\n",
    "import requests\n",
    "import gensim\n",
    "import pyLDAvis\n",
    "import pyLDAvis.gensim_models\n",
    "import seaborn\n",
    "import nltk\n",
    "import re\n",
    "import json\n",
    "import string\n",
    "import pyLDAvis\n",
    "\n",
    "import pandas as pd\n",
    "import numpy as np\n",
    "import seaborn as sns\n",
    "import tensorflow_hub as hub\n",
    "import tensorflow_text as text\n",
    "import transformers as trf\n",
    "import tensorflow as tf\n",
    "import matplotlib.pyplot as plt\n",
    "import nlpaug.augmenter.word.context_word_embs as aug\n",
    "import gensim.corpora as corpora\n",
    "import gensim.downloader as api\n",
    "import pyLDAvis.gensim_models as gensimvis\n",
    "import nlpaug.augmenter.word.context_word_embs as aug\n",
    "\n",
    "from tensorflow import keras\n",
    "from tensorflow.keras import models, layers, optimizers\n",
    "\n",
    "from sklearn.model_selection import train_test_split\n",
    "from sklearn.feature_extraction.text import TfidfVectorizer, CountVectorizer\n",
    "from sklearn.metrics import accuracy_score, classification_report, confusion_matrix, f1_score\n",
    "from sklearn.preprocessing import LabelEncoder, LabelBinarizer, MultiLabelBinarizer\n",
    "from sklearn.naive_bayes import MultinomialNB\n",
    "from xgboost import XGBClassifier\n",
    "\n",
    "from keras.models import Sequential\n",
    "from keras.layers import Flatten, Dense, Embedding, Dropout, SpatialDropout1D, Bidirectional, GlobalAveragePooling1D, LSTM\n",
    "from keras.preprocessing.text import Tokenizer\n",
    "from nltk.stem import WordNetLemmatizer \n",
    "\n",
    "from keras.layers.convolutional import Conv1D, MaxPooling1D\n",
    "from keras_preprocessing.sequence import pad_sequences\n",
    "from keras.callbacks import EarlyStopping\n",
    "\n",
    "from pprint import pprint\n",
    "from wordcloud import WordCloud\n",
    "from gensim import corpora, models\n",
    "from gensim.models import CoherenceModel, Phrases\n",
    "from gensim.models.ldamodel import LdaModel\n",
    "\n",
    "from collections import Counter, defaultdict\n",
    "warnings.filterwarnings ('ignore' )"
   ]
  },
  {
   "cell_type": "code",
   "execution_count": 2,
   "id": "7711a981",
   "metadata": {},
   "outputs": [],
   "source": [
    "#Import the cleaned movie script data set\n",
    "df = pd.read_csv('movie_data.csv')"
   ]
  },
  {
   "cell_type": "code",
   "execution_count": 3,
   "id": "c6cb7500",
   "metadata": {},
   "outputs": [
    {
     "name": "stdout",
     "output_type": "stream",
     "text": [
      "<class 'pandas.core.frame.DataFrame'>\n",
      "RangeIndex: 655 entries, 0 to 654\n",
      "Data columns (total 4 columns):\n",
      " #   Column        Non-Null Count  Dtype \n",
      "---  ------        --------------  ----- \n",
      " 0   title         655 non-null    object\n",
      " 1   movie_script  655 non-null    object\n",
      " 2   movie_genre   655 non-null    object\n",
      " 3   age_rating    655 non-null    object\n",
      "dtypes: object(4)\n",
      "memory usage: 20.6+ KB\n"
     ]
    }
   ],
   "source": [
    "df.info()"
   ]
  },
  {
   "cell_type": "code",
   "execution_count": 4,
   "id": "1cc61ff6",
   "metadata": {},
   "outputs": [],
   "source": [
    "df = df.reset_index()\n",
    "df.drop('index', axis=1, inplace= True)"
   ]
  },
  {
   "cell_type": "code",
   "execution_count": 5,
   "id": "a38b9110",
   "metadata": {},
   "outputs": [
    {
     "data": {
      "text/html": [
       "<div>\n",
       "<style scoped>\n",
       "    .dataframe tbody tr th:only-of-type {\n",
       "        vertical-align: middle;\n",
       "    }\n",
       "\n",
       "    .dataframe tbody tr th {\n",
       "        vertical-align: top;\n",
       "    }\n",
       "\n",
       "    .dataframe thead th {\n",
       "        text-align: right;\n",
       "    }\n",
       "</style>\n",
       "<table border=\"1\" class=\"dataframe\">\n",
       "  <thead>\n",
       "    <tr style=\"text-align: right;\">\n",
       "      <th></th>\n",
       "      <th>title</th>\n",
       "      <th>movie_script</th>\n",
       "      <th>movie_genre</th>\n",
       "      <th>age_rating</th>\n",
       "    </tr>\n",
       "  </thead>\n",
       "  <tbody>\n",
       "    <tr>\n",
       "      <th>0</th>\n",
       "      <td>10 things i hate about you</td>\n",
       "      <td>ten things hate mccullah lutz ten things hate ...</td>\n",
       "      <td>Comedy, Drama, Romance</td>\n",
       "      <td>13</td>\n",
       "    </tr>\n",
       "    <tr>\n",
       "      <th>1</th>\n",
       "      <td>12 and holding</td>\n",
       "      <td>holding cipriano fade neighborhood street morn...</td>\n",
       "      <td>Drama</td>\n",
       "      <td>R</td>\n",
       "    </tr>\n",
       "    <tr>\n",
       "      <th>2</th>\n",
       "      <td>12 monkeys</td>\n",
       "      <td>twelve monkeys twelve monkeys original screenp...</td>\n",
       "      <td>Mystery, Sci-Fi, Thriller</td>\n",
       "      <td>R</td>\n",
       "    </tr>\n",
       "    <tr>\n",
       "      <th>3</th>\n",
       "      <td>12</td>\n",
       "      <td>cut black title fin exterior la day fin chevy ...</td>\n",
       "      <td>Crime, Drama, Thriller</td>\n",
       "      <td>13</td>\n",
       "    </tr>\n",
       "    <tr>\n",
       "      <th>4</th>\n",
       "      <td>127 hours</td>\n",
       "      <td>hours beaufoy scenes various massive could spo...</td>\n",
       "      <td>Biography, Drama</td>\n",
       "      <td>R</td>\n",
       "    </tr>\n",
       "    <tr>\n",
       "      <th>...</th>\n",
       "      <td>...</td>\n",
       "      <td>...</td>\n",
       "      <td>...</td>\n",
       "      <td>...</td>\n",
       "    </tr>\n",
       "    <tr>\n",
       "      <th>650</th>\n",
       "      <td>year one</td>\n",
       "      <td>year one ramis stupnitsky eisenberg october be...</td>\n",
       "      <td>Comedy</td>\n",
       "      <td>13</td>\n",
       "    </tr>\n",
       "    <tr>\n",
       "      <th>651</th>\n",
       "      <td>yes man</td>\n",
       "      <td>yes stoller based yes first draft february new...</td>\n",
       "      <td>Comedy, Romance</td>\n",
       "      <td>13</td>\n",
       "    </tr>\n",
       "    <tr>\n",
       "      <th>652</th>\n",
       "      <td>you can count on me</td>\n",
       "      <td>count screenplay lonergan shooting draft fade ...</td>\n",
       "      <td>Drama</td>\n",
       "      <td>R</td>\n",
       "    </tr>\n",
       "    <tr>\n",
       "      <th>653</th>\n",
       "      <td>youth in revolt</td>\n",
       "      <td>revolt gustin nash july black comes deep heavi...</td>\n",
       "      <td>Comedy, Drama, Romance</td>\n",
       "      <td>R</td>\n",
       "    </tr>\n",
       "    <tr>\n",
       "      <th>654</th>\n",
       "      <td>zero dark thirty</td>\n",
       "      <td>dark thirty boal october black emerge hear act...</td>\n",
       "      <td>Drama, History, Thriller</td>\n",
       "      <td>R</td>\n",
       "    </tr>\n",
       "  </tbody>\n",
       "</table>\n",
       "<p>655 rows × 4 columns</p>\n",
       "</div>"
      ],
      "text/plain": [
       "                          title  \\\n",
       "0    10 things i hate about you   \n",
       "1                12 and holding   \n",
       "2                    12 monkeys   \n",
       "3                            12   \n",
       "4                     127 hours   \n",
       "..                          ...   \n",
       "650                    year one   \n",
       "651                     yes man   \n",
       "652         you can count on me   \n",
       "653             youth in revolt   \n",
       "654            zero dark thirty   \n",
       "\n",
       "                                          movie_script  \\\n",
       "0    ten things hate mccullah lutz ten things hate ...   \n",
       "1    holding cipriano fade neighborhood street morn...   \n",
       "2    twelve monkeys twelve monkeys original screenp...   \n",
       "3    cut black title fin exterior la day fin chevy ...   \n",
       "4    hours beaufoy scenes various massive could spo...   \n",
       "..                                                 ...   \n",
       "650  year one ramis stupnitsky eisenberg october be...   \n",
       "651  yes stoller based yes first draft february new...   \n",
       "652  count screenplay lonergan shooting draft fade ...   \n",
       "653  revolt gustin nash july black comes deep heavi...   \n",
       "654  dark thirty boal october black emerge hear act...   \n",
       "\n",
       "                   movie_genre age_rating  \n",
       "0       Comedy, Drama, Romance         13  \n",
       "1                        Drama          R  \n",
       "2    Mystery, Sci-Fi, Thriller          R  \n",
       "3       Crime, Drama, Thriller         13  \n",
       "4             Biography, Drama          R  \n",
       "..                         ...        ...  \n",
       "650                     Comedy         13  \n",
       "651            Comedy, Romance         13  \n",
       "652                      Drama          R  \n",
       "653     Comedy, Drama, Romance          R  \n",
       "654   Drama, History, Thriller          R  \n",
       "\n",
       "[655 rows x 4 columns]"
      ]
     },
     "execution_count": 5,
     "metadata": {},
     "output_type": "execute_result"
    }
   ],
   "source": [
    "df"
   ]
  },
  {
   "cell_type": "code",
   "execution_count": 6,
   "id": "5887de67",
   "metadata": {},
   "outputs": [
    {
     "data": {
      "text/html": [
       "<div>\n",
       "<style scoped>\n",
       "    .dataframe tbody tr th:only-of-type {\n",
       "        vertical-align: middle;\n",
       "    }\n",
       "\n",
       "    .dataframe tbody tr th {\n",
       "        vertical-align: top;\n",
       "    }\n",
       "\n",
       "    .dataframe thead th {\n",
       "        text-align: right;\n",
       "    }\n",
       "</style>\n",
       "<table border=\"1\" class=\"dataframe\">\n",
       "  <thead>\n",
       "    <tr style=\"text-align: right;\">\n",
       "      <th></th>\n",
       "      <th>title</th>\n",
       "      <th>movie_script</th>\n",
       "      <th>movie_genre</th>\n",
       "      <th>age_rating</th>\n",
       "    </tr>\n",
       "  </thead>\n",
       "  <tbody>\n",
       "    <tr>\n",
       "      <th>0</th>\n",
       "      <td>10 things i hate about you</td>\n",
       "      <td>ten things hate mccullah lutz ten things hate ...</td>\n",
       "      <td>Comedy, Drama, Romance</td>\n",
       "      <td>13</td>\n",
       "    </tr>\n",
       "    <tr>\n",
       "      <th>1</th>\n",
       "      <td>12 and holding</td>\n",
       "      <td>holding cipriano fade neighborhood street morn...</td>\n",
       "      <td>Drama</td>\n",
       "      <td>R</td>\n",
       "    </tr>\n",
       "    <tr>\n",
       "      <th>2</th>\n",
       "      <td>12 monkeys</td>\n",
       "      <td>twelve monkeys twelve monkeys original screenp...</td>\n",
       "      <td>Mystery, Sci-Fi, Thriller</td>\n",
       "      <td>R</td>\n",
       "    </tr>\n",
       "    <tr>\n",
       "      <th>3</th>\n",
       "      <td>12</td>\n",
       "      <td>cut black title fin exterior la day fin chevy ...</td>\n",
       "      <td>Crime, Drama, Thriller</td>\n",
       "      <td>13</td>\n",
       "    </tr>\n",
       "    <tr>\n",
       "      <th>4</th>\n",
       "      <td>127 hours</td>\n",
       "      <td>hours beaufoy scenes various massive could spo...</td>\n",
       "      <td>Biography, Drama</td>\n",
       "      <td>R</td>\n",
       "    </tr>\n",
       "  </tbody>\n",
       "</table>\n",
       "</div>"
      ],
      "text/plain": [
       "                        title  \\\n",
       "0  10 things i hate about you   \n",
       "1              12 and holding   \n",
       "2                  12 monkeys   \n",
       "3                          12   \n",
       "4                   127 hours   \n",
       "\n",
       "                                        movie_script  \\\n",
       "0  ten things hate mccullah lutz ten things hate ...   \n",
       "1  holding cipriano fade neighborhood street morn...   \n",
       "2  twelve monkeys twelve monkeys original screenp...   \n",
       "3  cut black title fin exterior la day fin chevy ...   \n",
       "4  hours beaufoy scenes various massive could spo...   \n",
       "\n",
       "                 movie_genre age_rating  \n",
       "0     Comedy, Drama, Romance         13  \n",
       "1                      Drama          R  \n",
       "2  Mystery, Sci-Fi, Thriller          R  \n",
       "3     Crime, Drama, Thriller         13  \n",
       "4           Biography, Drama          R  "
      ]
     },
     "execution_count": 6,
     "metadata": {},
     "output_type": "execute_result"
    }
   ],
   "source": [
    "df.head(5)"
   ]
  },
  {
   "cell_type": "markdown",
   "id": "4383c534",
   "metadata": {},
   "source": [
    "The word count of the movie scripts will be checked, and scripts with less than 200 words will be discarded."
   ]
  },
  {
   "cell_type": "code",
   "execution_count": 7,
   "id": "360c728c",
   "metadata": {},
   "outputs": [],
   "source": [
    "#To compute the number of words in each of the scripts\n",
    "df['length'] = df ['movie_script'].apply(lambda x : len(x) )"
   ]
  },
  {
   "cell_type": "code",
   "execution_count": 8,
   "id": "69fa0f10",
   "metadata": {},
   "outputs": [
    {
     "data": {
      "text/html": [
       "<div>\n",
       "<style scoped>\n",
       "    .dataframe tbody tr th:only-of-type {\n",
       "        vertical-align: middle;\n",
       "    }\n",
       "\n",
       "    .dataframe tbody tr th {\n",
       "        vertical-align: top;\n",
       "    }\n",
       "\n",
       "    .dataframe thead th {\n",
       "        text-align: right;\n",
       "    }\n",
       "</style>\n",
       "<table border=\"1\" class=\"dataframe\">\n",
       "  <thead>\n",
       "    <tr style=\"text-align: right;\">\n",
       "      <th></th>\n",
       "      <th>title</th>\n",
       "      <th>movie_script</th>\n",
       "      <th>movie_genre</th>\n",
       "      <th>age_rating</th>\n",
       "      <th>length</th>\n",
       "    </tr>\n",
       "  </thead>\n",
       "  <tbody>\n",
       "    <tr>\n",
       "      <th>0</th>\n",
       "      <td>10 things i hate about you</td>\n",
       "      <td>ten things hate mccullah lutz ten things hate ...</td>\n",
       "      <td>Comedy, Drama, Romance</td>\n",
       "      <td>13</td>\n",
       "      <td>46941</td>\n",
       "    </tr>\n",
       "    <tr>\n",
       "      <th>1</th>\n",
       "      <td>12 and holding</td>\n",
       "      <td>holding cipriano fade neighborhood street morn...</td>\n",
       "      <td>Drama</td>\n",
       "      <td>R</td>\n",
       "      <td>45360</td>\n",
       "    </tr>\n",
       "  </tbody>\n",
       "</table>\n",
       "</div>"
      ],
      "text/plain": [
       "                        title  \\\n",
       "0  10 things i hate about you   \n",
       "1              12 and holding   \n",
       "\n",
       "                                        movie_script             movie_genre  \\\n",
       "0  ten things hate mccullah lutz ten things hate ...  Comedy, Drama, Romance   \n",
       "1  holding cipriano fade neighborhood street morn...                   Drama   \n",
       "\n",
       "  age_rating  length  \n",
       "0         13   46941  \n",
       "1          R   45360  "
      ]
     },
     "execution_count": 8,
     "metadata": {},
     "output_type": "execute_result"
    }
   ],
   "source": [
    "df.head(2)"
   ]
  },
  {
   "cell_type": "code",
   "execution_count": 9,
   "id": "d2b13e25",
   "metadata": {},
   "outputs": [
    {
     "data": {
      "text/plain": [
       "<AxesSubplot:>"
      ]
     },
     "execution_count": 9,
     "metadata": {},
     "output_type": "execute_result"
    },
    {
     "data": {
      "image/png": "[encoded data removed]",
      "text/plain": [
       "<Figure size 432x288 with 1 Axes>"
      ]
     },
     "metadata": {
      "needs_background": "light"
     },
     "output_type": "display_data"
    }
   ],
   "source": [
    "#Visualise the length of words\n",
    "pd.Series(df['length'] ).hist()"
   ]
  },
  {
   "cell_type": "code",
   "execution_count": 10,
   "id": "34c9db0d",
   "metadata": {},
   "outputs": [],
   "source": [
    "#Remove scripts with less than 200 words\n",
    "df = df [df['length'] > 200 ]"
   ]
  },
  {
   "cell_type": "code",
   "execution_count": 11,
   "id": "235e18cc",
   "metadata": {},
   "outputs": [
    {
     "data": {
      "text/plain": [
       "<AxesSubplot:>"
      ]
     },
     "execution_count": 11,
     "metadata": {},
     "output_type": "execute_result"
    },
    {
     "data": {
      "image/png": "[encoded data removed]",
      "text/plain": [
       "<Figure size 432x288 with 1 Axes>"
      ]
     },
     "metadata": {
      "needs_background": "light"
     },
     "output_type": "display_data"
    }
   ],
   "source": [
    "#Visualise after discarding less than 200 words\n",
    "pd.Series(df['length'] ).hist()\n"
   ]
  },
  {
   "cell_type": "markdown",
   "id": "a8747245",
   "metadata": {},
   "source": [
    "Since the scripts were not lemmatized initially, so that character names could be easily removed. The next operation will be to lemmatize the scripts. so that all words can be uniformly reduced to their root words."
   ]
  },
  {
   "cell_type": "code",
   "execution_count": 12,
   "id": "3eaac605",
   "metadata": {},
   "outputs": [],
   "source": [
    "def lemmatize_script (df_col):\n",
    "    ''' The function takes in the a pandas series and \n",
    "        returns a lemmatized output of the series '''\n",
    "    \n",
    "    tokenizer = nltk.tokenize.WhitespaceTokenizer()\n",
    "    lemmatizer = nltk.stem.WordNetLemmatizer()\n",
    "    \n",
    "    script =  [lemmatizer.lemmatize(word) for word in tokenizer.tokenize(df_col)]\n",
    "    return ' '.join(script)\n",
    "\n",
    "\n",
    "\n",
    "df['movie_script'] = df.movie_script.apply(lemmatize_script)\n"
   ]
  },
  {
   "cell_type": "markdown",
   "id": "c5dece60",
   "metadata": {},
   "source": [
    "Since the movie script has now been lemmatized, the distribution of words across the scripts can be visualised using word cloud. This will show the frequently occuring words across all scripts."
   ]
  },
  {
   "cell_type": "code",
   "execution_count": 13,
   "id": "11a6c665",
   "metadata": {},
   "outputs": [],
   "source": [
    "def plot_wordcloud (df_col):\n",
    "    ''' The function takes in a pandas series of string input\n",
    "        and returns a visual of top occuring words '''\n",
    "    \n",
    "    words = ','.join(list(df_col.values))\n",
    "    wordcloud = WordCloud(background_color=\"white\", max_words=1000, contour_width=3, contour_color='steelblue').generate(words)\n",
    "    return wordcloud.to_image()\n"
   ]
  },
  {
   "cell_type": "code",
   "execution_count": 14,
   "id": "e8dda61f",
   "metadata": {},
   "outputs": [
    {
     "data": {
      "image/png": "[encoded data removed]",
      "text/plain": [
       "<PIL.Image.Image image mode=RGB size=400x200 at 0x20FB91B8F70>"
      ]
     },
     "execution_count": 14,
     "metadata": {},
     "output_type": "execute_result"
    }
   ],
   "source": [
    "plot_wordcloud(df['movie_script'])"
   ]
  },
  {
   "cell_type": "code",
   "execution_count": 15,
   "id": "2487b71d",
   "metadata": {},
   "outputs": [
    {
     "data": {
      "image/png": "[encoded data removed]",
      "text/plain": [
       "<Figure size 432x288 with 1 Axes>"
      ]
     },
     "metadata": {
      "needs_background": "light"
     },
     "output_type": "display_data"
    }
   ],
   "source": [
    "#To visualize the class distribution of the target label\n",
    "sns.countplot (df['age_rating'])\n",
    "plt.title('Age Rating Distribution', {'size':16})\n",
    "plt.xlabel( 'Age_rating', fontdict= {'size':16})\n",
    "plt.ylabel ('Count', fontdict= {'size':16})\n",
    "plt.show()"
   ]
  },
  {
   "cell_type": "markdown",
   "id": "662e2040",
   "metadata": {},
   "source": [
    "The data set clearly needs to be balanced. \n",
    "\n",
    "\n",
    "before balancing, '13' and '14' will be grouped as 14, giving four classes to be predicted.\n",
    "\n",
    "A section of the data will also be held out for testing. This will be used to evaluate how well the models will perform on new sets of data that has not been seen at all by the model."
   ]
  },
  {
   "cell_type": "code",
   "execution_count": 16,
   "id": "0dd6d610",
   "metadata": {},
   "outputs": [],
   "source": [
    "#Class all '13' rated movies as '14'\n",
    "df['age_rating'] = np.where ( (df['age_rating'] == '13'), '14', df['age_rating'] )"
   ]
  },
  {
   "cell_type": "code",
   "execution_count": 17,
   "id": "56381845",
   "metadata": {},
   "outputs": [
    {
     "data": {
      "image/png": "[encoded data removed]",
      "text/plain": [
       "<Figure size 432x288 with 1 Axes>"
      ]
     },
     "metadata": {
      "needs_background": "light"
     },
     "output_type": "display_data"
    }
   ],
   "source": [
    "sns.countplot (df['age_rating'])\n",
    "plt.title('Age Rating Distribution After Grouping 13&14', {'size':16})\n",
    "plt.xlabel( 'Age_rating', fontdict= {'size':16})\n",
    "plt.ylabel ('Count', fontdict= {'size':16})\n",
    "plt.show()"
   ]
  },
  {
   "cell_type": "markdown",
   "id": "29c31b01",
   "metadata": {},
   "source": [
    "The last 55 entries of the data set will be used for the testing data"
   ]
  },
  {
   "cell_type": "code",
   "execution_count": 18,
   "id": "c5b2b61f",
   "metadata": {},
   "outputs": [],
   "source": [
    "test_df = df.tail(55)"
   ]
  },
  {
   "cell_type": "code",
   "execution_count": 19,
   "id": "f86b39d6",
   "metadata": {},
   "outputs": [],
   "source": [
    "#The remaining part of the data set will be used for training and validation\n",
    "use_df = df [:590]"
   ]
  },
  {
   "cell_type": "code",
   "execution_count": 20,
   "id": "9621081e",
   "metadata": {},
   "outputs": [
    {
     "data": {
      "text/plain": [
       "array(['G', 'R', '14', 'PG'], dtype=object)"
      ]
     },
     "execution_count": 20,
     "metadata": {},
     "output_type": "execute_result"
    }
   ],
   "source": [
    "#Check the target label in the test data to ensure all class labels are represented\n",
    "test_df['age_rating'].unique()"
   ]
  },
  {
   "cell_type": "markdown",
   "id": "59923123",
   "metadata": {},
   "source": [
    "The dataset will now be balanced to be used for training the models\n",
    "Since only the 'movie_script' and the 'age_rating' feature is needed, they will only be used"
   ]
  },
  {
   "cell_type": "code",
   "execution_count": 21,
   "id": "f9754d6c",
   "metadata": {},
   "outputs": [],
   "source": [
    "use_df = use_df[['movie_script', 'age_rating']]\n",
    "test_df = test_df[['movie_script', 'age_rating' ]]"
   ]
  },
  {
   "cell_type": "code",
   "execution_count": 22,
   "id": "35b2aead",
   "metadata": {},
   "outputs": [
    {
     "data": {
      "text/html": [
       "<div>\n",
       "<style scoped>\n",
       "    .dataframe tbody tr th:only-of-type {\n",
       "        vertical-align: middle;\n",
       "    }\n",
       "\n",
       "    .dataframe tbody tr th {\n",
       "        vertical-align: top;\n",
       "    }\n",
       "\n",
       "    .dataframe thead th {\n",
       "        text-align: right;\n",
       "    }\n",
       "</style>\n",
       "<table border=\"1\" class=\"dataframe\">\n",
       "  <thead>\n",
       "    <tr style=\"text-align: right;\">\n",
       "      <th></th>\n",
       "      <th>movie_script</th>\n",
       "      <th>age_rating</th>\n",
       "    </tr>\n",
       "  </thead>\n",
       "  <tbody>\n",
       "    <tr>\n",
       "      <th>0</th>\n",
       "      <td>ten thing hate mccullah lutz ten thing hate mc...</td>\n",
       "      <td>14</td>\n",
       "    </tr>\n",
       "    <tr>\n",
       "      <th>1</th>\n",
       "      <td>holding cipriano fade neighborhood street morn...</td>\n",
       "      <td>R</td>\n",
       "    </tr>\n",
       "    <tr>\n",
       "      <th>2</th>\n",
       "      <td>twelve monkey twelve monkey original screenpla...</td>\n",
       "      <td>R</td>\n",
       "    </tr>\n",
       "    <tr>\n",
       "      <th>3</th>\n",
       "      <td>cut black title fin exterior la day fin chevy ...</td>\n",
       "      <td>14</td>\n",
       "    </tr>\n",
       "    <tr>\n",
       "      <th>4</th>\n",
       "      <td>hour beaufoy scene various massive could sport...</td>\n",
       "      <td>R</td>\n",
       "    </tr>\n",
       "  </tbody>\n",
       "</table>\n",
       "</div>"
      ],
      "text/plain": [
       "                                        movie_script age_rating\n",
       "0  ten thing hate mccullah lutz ten thing hate mc...         14\n",
       "1  holding cipriano fade neighborhood street morn...          R\n",
       "2  twelve monkey twelve monkey original screenpla...          R\n",
       "3  cut black title fin exterior la day fin chevy ...         14\n",
       "4  hour beaufoy scene various massive could sport...          R"
      ]
     },
     "execution_count": 22,
     "metadata": {},
     "output_type": "execute_result"
    }
   ],
   "source": [
    "use_df.head()"
   ]
  },
  {
   "cell_type": "markdown",
   "id": "fd263820",
   "metadata": {},
   "source": [
    "The dataset will now be balanced using the NLP AUG library"
   ]
  },
  {
   "cell_type": "code",
   "execution_count": 23,
   "id": "3c2ce5ac",
   "metadata": {},
   "outputs": [],
   "source": [
    "#Initialize the augmeter\n",
    "augmeter = aug.ContextualWordEmbsAug (model_path = 'bert-base-uncased', action= 'insert')"
   ]
  },
  {
   "cell_type": "code",
   "execution_count": 24,
   "id": "4c2a67e8",
   "metadata": {},
   "outputs": [],
   "source": [
    "def augmentData (df, aug, rating, samples):\n",
    "    \n",
    "    ''' The function takes the dataframe, the augmeter object, the class to be upsampled in the target label\n",
    "        and the count of the highest occuring class '''\n",
    "    \n",
    "    #Empty list to store the augmented text data\n",
    "    augmented = []\n",
    "    #Creates a new dataframe where the 'age_rating' is the class to be upsampled\n",
    "    n_df = df[df['age_rating'] == rating ].reset_index (drop = True) \n",
    "    \n",
    "    #defines the number of times the augmentation should be carried out on each of the scripts.\n",
    "    #This will help to have a unifrom distribution of among the augmented scripts\n",
    "    repetition = int (most/len(n_df))\n",
    "    \n",
    "    for i in   range (len (n_df)):\n",
    "        \n",
    "        for _ in range (repetition):\n",
    "            \n",
    "            augmented_text = aug.augment (n_df['movie_script'].iloc[i])\n",
    "            \n",
    "            augmented.append(augmented_text)\n",
    "            \n",
    "    data = {'age_rating': rating,\n",
    "            \n",
    "            'movie_script': augmented }\n",
    "\n",
    "    aug_df = pd.DataFrame(data)\n",
    "    \n",
    "    df = df.append(aug_df).reset_index(drop = True)\n",
    "    \n",
    "    \n",
    "    return df "
   ]
  },
  {
   "cell_type": "markdown",
   "id": "f2bcf6d5",
   "metadata": {},
   "source": [
    "Since only the 'movie_script' and 'age_rating' will be needed from this point on, the other columns will be left out for now"
   ]
  },
  {
   "cell_type": "code",
   "execution_count": 25,
   "id": "2f2b94a6",
   "metadata": {},
   "outputs": [],
   "source": [
    "#compute the class with the most values\n",
    "most = use_df['age_rating'].value_counts().max()"
   ]
  },
  {
   "cell_type": "code",
   "execution_count": 26,
   "id": "24fd917c",
   "metadata": {},
   "outputs": [],
   "source": [
    "#balancing the data set\n",
    "df_bal = augmentData (use_df, augmeter, '14', samples = most)\n",
    "df_bal = augmentData (df_bal, augmeter, 'PG', samples = most)\n",
    "df_bal = augmentData (df_bal, augmeter, 'G', samples = most)"
   ]
  },
  {
   "cell_type": "code",
   "execution_count": 27,
   "id": "5bbfde19",
   "metadata": {},
   "outputs": [
    {
     "data": {
      "image/png": "[encoded data removed]",
      "text/plain": [
       "<Figure size 432x288 with 1 Axes>"
      ]
     },
     "metadata": {
      "needs_background": "light"
     },
     "output_type": "display_data"
    }
   ],
   "source": [
    "#After augmenting the data\n",
    "sns.countplot (df_bal['age_rating'])\n",
    "plt.title('Balanced Dataset', {'size':20})\n",
    "plt.xlabel( 'Age_rating', fontdict= {'size':20})\n",
    "plt.ylabel ('Count', fontdict= {'size':20})\n",
    "plt.show()"
   ]
  },
  {
   "cell_type": "markdown",
   "id": "9d1caac5",
   "metadata": {},
   "source": [
    "The data set can now be trained with naive bayes, which has been chosen as the baseline model.\n",
    "\n",
    "Before training:  \n",
    "\n",
    "the values of 'age_rating' will be assigned integer values using the LabelEncoder \n",
    "\n",
    "the data will be split into training and test sets\n",
    "\n",
    "the training and test sets will be pre-processed"
   ]
  },
  {
   "cell_type": "code",
   "execution_count": 28,
   "id": "7ea553e2",
   "metadata": {},
   "outputs": [],
   "source": [
    "label_encode = LabelEncoder()\n",
    "y = label_encode.fit_transform(df_bal['age_rating'])"
   ]
  },
  {
   "cell_type": "code",
   "execution_count": 29,
   "id": "0d5f9bef",
   "metadata": {},
   "outputs": [],
   "source": [
    "x_train, x_test, y_train, y_test = train_test_split(df_bal['movie_script'], y, test_size=0.20, random_state=100, stratify= y)"
   ]
  },
  {
   "cell_type": "code",
   "execution_count": 30,
   "id": "be658481",
   "metadata": {},
   "outputs": [
    {
     "data": {
      "text/plain": [
       "TfidfVectorizer()"
      ]
     },
     "execution_count": 30,
     "metadata": {},
     "output_type": "execute_result"
    }
   ],
   "source": [
    "#create the vectorizer object and fit on the training data\n",
    "vectorizer = TfidfVectorizer(analyzer= 'word')\n",
    "#fit the vectorizer on the training data\n",
    "vectorizer.fit(x_train)"
   ]
  },
  {
   "cell_type": "code",
   "execution_count": 31,
   "id": "a1342302",
   "metadata": {},
   "outputs": [],
   "source": [
    "#The vectorizer can now be used to transform the training and the test data\n",
    "xtrain = vectorizer.transform(x_train).toarray()\n",
    "xtest = vectorizer.transform(x_test).toarray()"
   ]
  },
  {
   "cell_type": "code",
   "execution_count": 32,
   "id": "3cf40f51",
   "metadata": {},
   "outputs": [],
   "source": [
    "#Create an instance of the baseline model and fit on the training data\n",
    "base_line = MultinomialNB()"
   ]
  },
  {
   "cell_type": "code",
   "execution_count": 33,
   "id": "5eb69404",
   "metadata": {},
   "outputs": [
    {
     "name": "stdout",
     "output_type": "stream",
     "text": [
      "Wall time: 296 ms\n"
     ]
    },
    {
     "data": {
      "text/plain": [
       "MultinomialNB()"
      ]
     },
     "execution_count": 33,
     "metadata": {},
     "output_type": "execute_result"
    }
   ],
   "source": [
    "%%time\n",
    "base_line.fit (xtrain, y_train)"
   ]
  },
  {
   "cell_type": "code",
   "execution_count": 34,
   "id": "536837a6",
   "metadata": {},
   "outputs": [],
   "source": [
    "#predict on the test data\n",
    "base_pred = base_line.predict(xtest)"
   ]
  },
  {
   "cell_type": "code",
   "execution_count": 35,
   "id": "4a3ab7b6",
   "metadata": {},
   "outputs": [],
   "source": [
    "base_accuracy = accuracy_score(base_pred, y_test)\n",
    "base_accuracy = round (base_accuracy *100)"
   ]
  },
  {
   "cell_type": "code",
   "execution_count": 36,
   "id": "100c7844",
   "metadata": {},
   "outputs": [
    {
     "name": "stdout",
     "output_type": "stream",
     "text": [
      "Base Line Accuracy: 66\n"
     ]
    }
   ],
   "source": [
    "print('Base Line Accuracy:', base_accuracy)"
   ]
  },
  {
   "cell_type": "markdown",
   "id": "edc10f2f",
   "metadata": {},
   "source": [
    "train and test data with  XGBoost classifier"
   ]
  },
  {
   "cell_type": "code",
   "execution_count": 37,
   "id": "c8c7a6af",
   "metadata": {},
   "outputs": [],
   "source": [
    "#create the classifier object, using its default parameters    \n",
    "xg = XGBClassifier()"
   ]
  },
  {
   "cell_type": "code",
   "execution_count": 38,
   "id": "10b4d68a",
   "metadata": {},
   "outputs": [
    {
     "name": "stdout",
     "output_type": "stream",
     "text": [
      "Wall time: 4min 14s\n"
     ]
    },
    {
     "data": {
      "text/plain": [
       "XGBClassifier(base_score=0.5, booster='gbtree', callbacks=None,\n",
       "              colsample_bylevel=1, colsample_bynode=1, colsample_bytree=1,\n",
       "              early_stopping_rounds=None, enable_categorical=False,\n",
       "              eval_metric=None, gamma=0, gpu_id=-1, grow_policy='depthwise',\n",
       "              importance_type=None, interaction_constraints='',\n",
       "              learning_rate=0.300000012, max_bin=256, max_cat_to_onehot=4,\n",
       "              max_delta_step=0, max_depth=6, max_leaves=0, min_child_weight=1,\n",
       "              missing=nan, monotone_constraints='()', n_estimators=100,\n",
       "              n_jobs=0, num_parallel_tree=1, objective='multi:softprob',\n",
       "              predictor='auto', random_state=0, reg_alpha=0, ...)"
      ]
     },
     "execution_count": 38,
     "metadata": {},
     "output_type": "execute_result"
    }
   ],
   "source": [
    "%%time\n",
    "#train the data\n",
    "xg.fit (xtrain, y_train)"
   ]
  },
  {
   "cell_type": "code",
   "execution_count": 39,
   "id": "b8b55316",
   "metadata": {},
   "outputs": [],
   "source": [
    "xg_pred = xg.predict(xtest)"
   ]
  },
  {
   "cell_type": "code",
   "execution_count": 40,
   "id": "945c3d52",
   "metadata": {},
   "outputs": [],
   "source": [
    "xg_accuracy = accuracy_score (xg_pred, y_test)\n",
    "xg_accuracy = round (xg_accuracy * 100)"
   ]
  },
  {
   "cell_type": "code",
   "execution_count": 41,
   "id": "f49b57a3",
   "metadata": {},
   "outputs": [
    {
     "name": "stdout",
     "output_type": "stream",
     "text": [
      "XGBoost Accuracy: 95\n"
     ]
    }
   ],
   "source": [
    "print('XGBoost Accuracy:', xg_accuracy)"
   ]
  },
  {
   "cell_type": "markdown",
   "id": "d4b00b0c",
   "metadata": {},
   "source": [
    "The data was trained by the XGBoost classifier for 5mins 56secs and achieved 95% accuracy on the test data"
   ]
  },
  {
   "cell_type": "markdown",
   "id": "6973f48f",
   "metadata": {},
   "source": [
    "The model will now be tested on new sets of data to see how well it performs"
   ]
  },
  {
   "cell_type": "code",
   "execution_count": 42,
   "id": "6d945a82",
   "metadata": {},
   "outputs": [
    {
     "data": {
      "text/html": [
       "<div>\n",
       "<style scoped>\n",
       "    .dataframe tbody tr th:only-of-type {\n",
       "        vertical-align: middle;\n",
       "    }\n",
       "\n",
       "    .dataframe tbody tr th {\n",
       "        vertical-align: top;\n",
       "    }\n",
       "\n",
       "    .dataframe thead th {\n",
       "        text-align: right;\n",
       "    }\n",
       "</style>\n",
       "<table border=\"1\" class=\"dataframe\">\n",
       "  <thead>\n",
       "    <tr style=\"text-align: right;\">\n",
       "      <th></th>\n",
       "      <th>movie_script</th>\n",
       "      <th>age_rating</th>\n",
       "    </tr>\n",
       "  </thead>\n",
       "  <tbody>\n",
       "    <tr>\n",
       "      <th>599</th>\n",
       "      <td>toy story break frame website abstraction http...</td>\n",
       "      <td>G</td>\n",
       "    </tr>\n",
       "    <tr>\n",
       "      <th>600</th>\n",
       "      <td>gaghan gaghan based miniseries traffik columbu...</td>\n",
       "      <td>R</td>\n",
       "    </tr>\n",
       "    <tr>\n",
       "      <th>601</th>\n",
       "      <td>training day ayer training day ayer draft augu...</td>\n",
       "      <td>R</td>\n",
       "    </tr>\n",
       "    <tr>\n",
       "      <th>602</th>\n",
       "      <td>trainspotting screenplay based novel irvine we...</td>\n",
       "      <td>R</td>\n",
       "    </tr>\n",
       "    <tr>\n",
       "      <th>603</th>\n",
       "      <td>maddock tremor beneath perfection maddock dese...</td>\n",
       "      <td>14</td>\n",
       "    </tr>\n",
       "    <tr>\n",
       "      <th>604</th>\n",
       "      <td>digitized special duarte physical copy based s...</td>\n",
       "      <td>PG</td>\n",
       "    </tr>\n",
       "    <tr>\n",
       "      <th>605</th>\n",
       "      <td>tropic thunder stiller theroux movie black mov...</td>\n",
       "      <td>R</td>\n",
       "    </tr>\n",
       "    <tr>\n",
       "      <th>606</th>\n",
       "      <td>true grit adaptation coen based novel portis w...</td>\n",
       "      <td>14</td>\n",
       "    </tr>\n",
       "    <tr>\n",
       "      <th>607</th>\n",
       "      <td>u title sequence mountain near geneva switzerl...</td>\n",
       "      <td>R</td>\n",
       "    </tr>\n",
       "    <tr>\n",
       "      <th>608</th>\n",
       "      <td>true romance body background color ffffff font...</td>\n",
       "      <td>R</td>\n",
       "    </tr>\n",
       "    <tr>\n",
       "      <th>609</th>\n",
       "      <td>based novel stephenie meyer shooting draft feb...</td>\n",
       "      <td>14</td>\n",
       "    </tr>\n",
       "    <tr>\n",
       "      <th>610</th>\n",
       "      <td>fire walk bank last day screenplay engels type...</td>\n",
       "      <td>R</td>\n",
       "    </tr>\n",
       "    <tr>\n",
       "      <th>611</th>\n",
       "      <td>osborne revision weingrod goldman lu el lo ol ...</td>\n",
       "      <td>PG</td>\n",
       "    </tr>\n",
       "    <tr>\n",
       "      <th>612</th>\n",
       "      <td>two money final draft home movie day toss base...</td>\n",
       "      <td>R</td>\n",
       "    </tr>\n",
       "    <tr>\n",
       "      <th>613</th>\n",
       "      <td>u turn shooting draft rutowski oliver u turn s...</td>\n",
       "      <td>R</td>\n",
       "    </tr>\n",
       "    <tr>\n",
       "      <th>614</th>\n",
       "      <td>unbreakable unbreakable october eighth ninety ...</td>\n",
       "      <td>14</td>\n",
       "    </tr>\n",
       "    <tr>\n",
       "      <th>615</th>\n",
       "      <td>oliver cornwell adapted novel head didier van ...</td>\n",
       "      <td>14</td>\n",
       "    </tr>\n",
       "    <tr>\n",
       "      <th>616</th>\n",
       "      <td>air reitman secure mask assisting common pre i...</td>\n",
       "      <td>R</td>\n",
       "    </tr>\n",
       "    <tr>\n",
       "      <th>617</th>\n",
       "      <td>docter mccarthy newsreel newsreel movietown ne...</td>\n",
       "      <td>PG</td>\n",
       "    </tr>\n",
       "    <tr>\n",
       "      <th>618</th>\n",
       "      <td>vendetta wachowski based graphic novel fade da...</td>\n",
       "      <td>R</td>\n",
       "    </tr>\n",
       "    <tr>\n",
       "      <th>619</th>\n",
       "      <td>valkyrie mcquarrie january swear god sacred oa...</td>\n",
       "      <td>14</td>\n",
       "    </tr>\n",
       "    <tr>\n",
       "      <th>620</th>\n",
       "      <td>shooting black hear whooshing getting louder b...</td>\n",
       "      <td>R</td>\n",
       "    </tr>\n",
       "    <tr>\n",
       "      <th>622</th>\n",
       "      <td>bad thing berg september fade title sequence d...</td>\n",
       "      <td>R</td>\n",
       "    </tr>\n",
       "    <tr>\n",
       "      <th>623</th>\n",
       "      <td>bernt rewrite bernt third rewrite august two b...</td>\n",
       "      <td>R</td>\n",
       "    </tr>\n",
       "    <tr>\n",
       "      <th>624</th>\n",
       "      <td>wag dog production draft mamet wag dog mamet f...</td>\n",
       "      <td>R</td>\n",
       "    </tr>\n",
       "    <tr>\n",
       "      <th>625</th>\n",
       "      <td>walking tall mort briskin klass transcribed im...</td>\n",
       "      <td>14</td>\n",
       "    </tr>\n",
       "    <tr>\n",
       "      <th>626</th>\n",
       "      <td>wall street wall street original screenplay we...</td>\n",
       "      <td>R</td>\n",
       "    </tr>\n",
       "    <tr>\n",
       "      <th>627</th>\n",
       "      <td>haas fade close face gibson staring camera six...</td>\n",
       "      <td>R</td>\n",
       "    </tr>\n",
       "    <tr>\n",
       "      <th>628</th>\n",
       "      <td>war hall devon england day bucolic magnificenc...</td>\n",
       "      <td>14</td>\n",
       "    </tr>\n",
       "    <tr>\n",
       "      <th>629</th>\n",
       "      <td>war world screenplay friedman koepp submitted ...</td>\n",
       "      <td>14</td>\n",
       "    </tr>\n",
       "    <tr>\n",
       "      <th>630</th>\n",
       "      <td>gavin tambakis dorfman pittsburgh beautiful bl...</td>\n",
       "      <td>14</td>\n",
       "    </tr>\n",
       "    <tr>\n",
       "      <th>631</th>\n",
       "      <td>hayter tse int apartment kitchen evening close...</td>\n",
       "      <td>R</td>\n",
       "    </tr>\n",
       "    <tr>\n",
       "      <th>632</th>\n",
       "      <td>water elephant lagravenese modern circus groun...</td>\n",
       "      <td>14</td>\n",
       "    </tr>\n",
       "    <tr>\n",
       "      <th>633</th>\n",
       "      <td>gray fade pair smokestack orange autumn sun ca...</td>\n",
       "      <td>R</td>\n",
       "    </tr>\n",
       "    <tr>\n",
       "      <th>634</th>\n",
       "      <td>lie beneath gregg fade moving murky haze dark ...</td>\n",
       "      <td>14</td>\n",
       "    </tr>\n",
       "    <tr>\n",
       "      <th>635</th>\n",
       "      <td>call feke shooting draft fade suburban street ...</td>\n",
       "      <td>14</td>\n",
       "    </tr>\n",
       "    <tr>\n",
       "      <th>636</th>\n",
       "      <td>montford based short story draft december map ...</td>\n",
       "      <td>R</td>\n",
       "    </tr>\n",
       "    <tr>\n",
       "      <th>637</th>\n",
       "      <td>white squall first draft october fade true sto...</td>\n",
       "      <td>14</td>\n",
       "    </tr>\n",
       "    <tr>\n",
       "      <th>638</th>\n",
       "      <td>jon hoeber hoeber based graphic novel rucka de...</td>\n",
       "      <td>R</td>\n",
       "    </tr>\n",
       "    <tr>\n",
       "      <th>639</th>\n",
       "      <td>framed rabbit shot rabbit working title third ...</td>\n",
       "      <td>PG</td>\n",
       "    </tr>\n",
       "    <tr>\n",
       "      <th>640</th>\n",
       "      <td>break frame website abstraction http wsabstrac...</td>\n",
       "      <td>R</td>\n",
       "    </tr>\n",
       "    <tr>\n",
       "      <th>641</th>\n",
       "      <td>wild hog copeland first draft fade int kitchen...</td>\n",
       "      <td>14</td>\n",
       "    </tr>\n",
       "    <tr>\n",
       "      <th>642</th>\n",
       "      <td>wild thing production draft kem nunn wild thin...</td>\n",
       "      <td>R</td>\n",
       "    </tr>\n",
       "    <tr>\n",
       "      <th>643</th>\n",
       "      <td>pink yellow goldenrod buff salmon wild wild st...</td>\n",
       "      <td>14</td>\n",
       "    </tr>\n",
       "    <tr>\n",
       "      <th>644</th>\n",
       "      <td>willow willow story lucas screenplay dolman fi...</td>\n",
       "      <td>PG</td>\n",
       "    </tr>\n",
       "    <tr>\n",
       "      <th>645</th>\n",
       "      <td>win win mccarthy watchung reservation dawn bit...</td>\n",
       "      <td>R</td>\n",
       "    </tr>\n",
       "    <tr>\n",
       "      <th>646</th>\n",
       "      <td>wind chill gangemi katz int university lecture...</td>\n",
       "      <td>R</td>\n",
       "    </tr>\n",
       "    <tr>\n",
       "      <th>647</th>\n",
       "      <td>lancaster county countryside day title sequenc...</td>\n",
       "      <td>R</td>\n",
       "    </tr>\n",
       "    <tr>\n",
       "      <th>648</th>\n",
       "      <td>wonder wonder based novel chabon screenplay kl...</td>\n",
       "      <td>R</td>\n",
       "    </tr>\n",
       "    <tr>\n",
       "      <th>649</th>\n",
       "      <td>xxx wilkes august third draft fade prague hill...</td>\n",
       "      <td>14</td>\n",
       "    </tr>\n",
       "    <tr>\n",
       "      <th>650</th>\n",
       "      <td>year one ramis stupnitsky eisenberg october be...</td>\n",
       "      <td>14</td>\n",
       "    </tr>\n",
       "    <tr>\n",
       "      <th>651</th>\n",
       "      <td>yes stoller based yes first draft february new...</td>\n",
       "      <td>14</td>\n",
       "    </tr>\n",
       "    <tr>\n",
       "      <th>652</th>\n",
       "      <td>count screenplay lonergan shooting draft fade ...</td>\n",
       "      <td>R</td>\n",
       "    </tr>\n",
       "    <tr>\n",
       "      <th>653</th>\n",
       "      <td>revolt gustin nash july black come deep heavin...</td>\n",
       "      <td>R</td>\n",
       "    </tr>\n",
       "    <tr>\n",
       "      <th>654</th>\n",
       "      <td>dark thirty boal october black emerge hear act...</td>\n",
       "      <td>R</td>\n",
       "    </tr>\n",
       "  </tbody>\n",
       "</table>\n",
       "</div>"
      ],
      "text/plain": [
       "                                          movie_script age_rating\n",
       "599  toy story break frame website abstraction http...          G\n",
       "600  gaghan gaghan based miniseries traffik columbu...          R\n",
       "601  training day ayer training day ayer draft augu...          R\n",
       "602  trainspotting screenplay based novel irvine we...          R\n",
       "603  maddock tremor beneath perfection maddock dese...         14\n",
       "604  digitized special duarte physical copy based s...         PG\n",
       "605  tropic thunder stiller theroux movie black mov...          R\n",
       "606  true grit adaptation coen based novel portis w...         14\n",
       "607  u title sequence mountain near geneva switzerl...          R\n",
       "608  true romance body background color ffffff font...          R\n",
       "609  based novel stephenie meyer shooting draft feb...         14\n",
       "610  fire walk bank last day screenplay engels type...          R\n",
       "611  osborne revision weingrod goldman lu el lo ol ...         PG\n",
       "612  two money final draft home movie day toss base...          R\n",
       "613  u turn shooting draft rutowski oliver u turn s...          R\n",
       "614  unbreakable unbreakable october eighth ninety ...         14\n",
       "615  oliver cornwell adapted novel head didier van ...         14\n",
       "616  air reitman secure mask assisting common pre i...          R\n",
       "617  docter mccarthy newsreel newsreel movietown ne...         PG\n",
       "618  vendetta wachowski based graphic novel fade da...          R\n",
       "619  valkyrie mcquarrie january swear god sacred oa...         14\n",
       "620  shooting black hear whooshing getting louder b...          R\n",
       "622  bad thing berg september fade title sequence d...          R\n",
       "623  bernt rewrite bernt third rewrite august two b...          R\n",
       "624  wag dog production draft mamet wag dog mamet f...          R\n",
       "625  walking tall mort briskin klass transcribed im...         14\n",
       "626  wall street wall street original screenplay we...          R\n",
       "627  haas fade close face gibson staring camera six...          R\n",
       "628  war hall devon england day bucolic magnificenc...         14\n",
       "629  war world screenplay friedman koepp submitted ...         14\n",
       "630  gavin tambakis dorfman pittsburgh beautiful bl...         14\n",
       "631  hayter tse int apartment kitchen evening close...          R\n",
       "632  water elephant lagravenese modern circus groun...         14\n",
       "633  gray fade pair smokestack orange autumn sun ca...          R\n",
       "634  lie beneath gregg fade moving murky haze dark ...         14\n",
       "635  call feke shooting draft fade suburban street ...         14\n",
       "636  montford based short story draft december map ...          R\n",
       "637  white squall first draft october fade true sto...         14\n",
       "638  jon hoeber hoeber based graphic novel rucka de...          R\n",
       "639  framed rabbit shot rabbit working title third ...         PG\n",
       "640  break frame website abstraction http wsabstrac...          R\n",
       "641  wild hog copeland first draft fade int kitchen...         14\n",
       "642  wild thing production draft kem nunn wild thin...          R\n",
       "643  pink yellow goldenrod buff salmon wild wild st...         14\n",
       "644  willow willow story lucas screenplay dolman fi...         PG\n",
       "645  win win mccarthy watchung reservation dawn bit...          R\n",
       "646  wind chill gangemi katz int university lecture...          R\n",
       "647  lancaster county countryside day title sequenc...          R\n",
       "648  wonder wonder based novel chabon screenplay kl...          R\n",
       "649  xxx wilkes august third draft fade prague hill...         14\n",
       "650  year one ramis stupnitsky eisenberg october be...         14\n",
       "651  yes stoller based yes first draft february new...         14\n",
       "652  count screenplay lonergan shooting draft fade ...          R\n",
       "653  revolt gustin nash july black come deep heavin...          R\n",
       "654  dark thirty boal october black emerge hear act...          R"
      ]
     },
     "execution_count": 42,
     "metadata": {},
     "output_type": "execute_result"
    }
   ],
   "source": [
    "#The data to be used\n",
    "test_df"
   ]
  },
  {
   "cell_type": "markdown",
   "id": "57453db3",
   "metadata": {},
   "source": [
    "The movie script and age rating column will be pre-processed before feeding into the model"
   ]
  },
  {
   "cell_type": "code",
   "execution_count": 43,
   "id": "d7c07df8",
   "metadata": {},
   "outputs": [],
   "source": [
    "#Vectorize and encode the data\n",
    "test_data = vectorizer.transform(test_df['movie_script']).toarray()\n",
    "test_target = label_encode.fit_transform(test_df['age_rating'])"
   ]
  },
  {
   "cell_type": "code",
   "execution_count": 44,
   "id": "9d917291",
   "metadata": {},
   "outputs": [],
   "source": [
    "#Make predictions on the test data\n",
    "prediction = xg.predict(test_data)"
   ]
  },
  {
   "cell_type": "code",
   "execution_count": 45,
   "id": "e4d97b41",
   "metadata": {},
   "outputs": [
    {
     "data": {
      "text/plain": [
       "array([1, 3, 3, 3, 3, 0, 3, 3, 3, 3, 0, 3, 0, 3, 3, 3, 0, 3, 0, 3, 3, 3,\n",
       "       3, 3, 3, 0, 3, 3, 0, 0, 0, 0, 0, 3, 3, 3, 3, 3, 3, 0, 3, 2, 3, 0,\n",
       "       2, 3, 0, 3, 3, 0, 3, 0, 3, 3, 3], dtype=int64)"
      ]
     },
     "execution_count": 45,
     "metadata": {},
     "output_type": "execute_result"
    }
   ],
   "source": [
    "prediction"
   ]
  },
  {
   "cell_type": "code",
   "execution_count": 46,
   "id": "8ab569db",
   "metadata": {},
   "outputs": [
    {
     "data": {
      "text/plain": [
       "array([1, 3, 3, 3, 0, 2, 3, 0, 3, 3, 0, 3, 2, 3, 3, 0, 0, 3, 2, 3, 0, 3,\n",
       "       3, 3, 3, 0, 3, 3, 0, 0, 0, 3, 0, 3, 0, 0, 3, 0, 3, 2, 3, 0, 3, 0,\n",
       "       2, 3, 3, 3, 3, 0, 0, 0, 3, 3, 3])"
      ]
     },
     "execution_count": 46,
     "metadata": {},
     "output_type": "execute_result"
    }
   ],
   "source": [
    "test_target"
   ]
  },
  {
   "cell_type": "code",
   "execution_count": 47,
   "id": "4d8eeeee",
   "metadata": {},
   "outputs": [],
   "source": [
    "xg_test_accuracy = accuracy_score (prediction, test_target)"
   ]
  },
  {
   "cell_type": "code",
   "execution_count": 48,
   "id": "f6970d63",
   "metadata": {},
   "outputs": [
    {
     "name": "stdout",
     "output_type": "stream",
     "text": [
      "Accuracy on New Test Data  : 0.73\n"
     ]
    }
   ],
   "source": [
    "print('Accuracy on New Test Data  : {:.2f}'.format(xg_test_accuracy))"
   ]
  },
  {
   "cell_type": "markdown",
   "id": "f6e8bf0a",
   "metadata": {},
   "source": [
    "The XGBoost classifier achieved 75% accuracy in classifying new movie script data into age rating"
   ]
  },
  {
   "cell_type": "code",
   "execution_count": 49,
   "id": "af273a1a",
   "metadata": {},
   "outputs": [
    {
     "name": "stdout",
     "output_type": "stream",
     "text": [
      "XGboost accuracy score: 0.73\n",
      "\n",
      " Classificaton Report: \n",
      "               precision    recall  f1-score   support\n",
      "\n",
      "           0       0.53      0.62      0.57        16\n",
      "           1       1.00      1.00      1.00         1\n",
      "           2       0.20      0.50      0.29         2\n",
      "           3       0.93      0.78      0.85        36\n",
      "\n",
      "    accuracy                           0.73        55\n",
      "   macro avg       0.66      0.73      0.68        55\n",
      "weighted avg       0.79      0.73      0.75        55\n",
      "\n"
     ]
    }
   ],
   "source": [
    "print ('XGboost accuracy score:',  round (xg_test_accuracy, 2))\n",
    "\n",
    "print ('\\n Classificaton Report: \\n',classification_report(prediction, test_target))"
   ]
  },
  {
   "cell_type": "code",
   "execution_count": 50,
   "id": "89ead7e1",
   "metadata": {},
   "outputs": [
    {
     "name": "stdout",
     "output_type": "stream",
     "text": [
      "73\n"
     ]
    }
   ],
   "source": [
    "xg_test_accuracy = round (xg_test_accuracy * 100)\n",
    "print (xg_test_accuracy)"
   ]
  },
  {
   "cell_type": "markdown",
   "id": "ebf84c4e",
   "metadata": {},
   "source": [
    "# Using an embedding layer with CNN"
   ]
  },
  {
   "cell_type": "markdown",
   "id": "6b75f826",
   "metadata": {},
   "source": [
    "The data will be pre-processed differently for this purpose\n",
    "\n",
    "The steps involved here are to tokenize and encode the data. The length of the input vector will also be defined. data with shorter lenght will be padded\n"
   ]
  },
  {
   "cell_type": "code",
   "execution_count": 51,
   "id": "c3e53397",
   "metadata": {},
   "outputs": [],
   "source": [
    "#Function to tokenize and encode training and test data\n",
    "#This function will also tokenize the test_df data as well, since it will be used to test the model later on\n",
    "def token_encode (train_data, test_data, new_data):\n",
    "    '''Function to encode the train and test data\n",
    "        It takes the train and test data and returns thier corresponding \n",
    "        padded vectors as well as the input dimensions to the embedding layer'''\n",
    "    tokenizer = Tokenizer(oov_token= '<OOV>')\n",
    "    #fit tokenizer on train data and encode\n",
    "    tokenizer.fit_on_texts (train_data)\n",
    "    length = max([len(s.split()) for s in train_data])\n",
    "    encoded_train = tokenizer.texts_to_sequences(train_data)\n",
    "    padded_train = pad_sequences (encoded_train, length, padding= 'post')\n",
    "    #encode test data\n",
    "    encoded_test = tokenizer.texts_to_sequences(test_data)\n",
    "    padded_test = pad_sequences (encoded_test, length, padding= 'post')\n",
    "    #encode new data\n",
    "    encoded_new = tokenizer.texts_to_sequences(new_data)\n",
    "    padded_new = pad_sequences (encoded_new, length, padding= 'post')\n",
    "    \n",
    "    size = len (tokenizer.word_index ) + 1\n",
    "    \n",
    "    return padded_train, padded_test, padded_new, size, length\n",
    "    "
   ]
  },
  {
   "cell_type": "markdown",
   "id": "b16e47eb",
   "metadata": {},
   "source": [
    "SInce neural networks will be used from this pouint.The target label will be encoded using the Label binarizer to give binary arrays."
   ]
  },
  {
   "cell_type": "code",
   "execution_count": 52,
   "id": "f8518a70",
   "metadata": {},
   "outputs": [],
   "source": [
    "#Hot encode the target label\n",
    "binary_encode = LabelBinarizer()\n",
    "y = binary_encode.fit_transform(df_bal['age_rating'])"
   ]
  },
  {
   "cell_type": "code",
   "execution_count": 53,
   "id": "03599cff",
   "metadata": {},
   "outputs": [],
   "source": [
    "#Perform the train test split, using thesame test size and random state\n",
    "x_train, x_test, y_train, y_test = train_test_split(df_bal['movie_script'], y, test_size=0.2, random_state=100, stratify= y)"
   ]
  },
  {
   "cell_type": "code",
   "execution_count": 54,
   "id": "e72e3f69",
   "metadata": {},
   "outputs": [],
   "source": [
    "#Prepare the data for training\n",
    "padded_train, padded_test, padded_new, size, length = token_encode (x_train, x_test, test_df['movie_script'])"
   ]
  },
  {
   "cell_type": "markdown",
   "id": "c3cdbe43",
   "metadata": {},
   "source": [
    "The frist embedding model will be trianed over 20 epochs with an input batch size of 128 with an output dimension of 150, 32, filters, kernel size 2, using the default learning rate and one hidden layer"
   ]
  },
  {
   "cell_type": "code",
   "execution_count": 55,
   "id": "d7f73d64",
   "metadata": {},
   "outputs": [],
   "source": [
    "model1 = Sequential()\n",
    "model1.add(Embedding(size, 150, input_length=length, trainable = True))\n",
    "model1.add(Conv1D(filters=32, kernel_size=2, activation='relu'))\n",
    "model1.add(MaxPooling1D(pool_size=2))\n",
    "\n",
    "model1.add(Flatten())\n",
    "model1.add(Dense(300, activation='relu'))\n",
    "\n",
    "model1.add(Dense(4, activation='softmax'))"
   ]
  },
  {
   "cell_type": "code",
   "execution_count": 56,
   "id": "b7ce9b2f",
   "metadata": {},
   "outputs": [],
   "source": [
    "model1.compile(optimizer='adam', loss='categorical_crossentropy', metrics=['accuracy'])"
   ]
  },
  {
   "cell_type": "code",
   "execution_count": 57,
   "id": "9d6708cc",
   "metadata": {},
   "outputs": [
    {
     "name": "stdout",
     "output_type": "stream",
     "text": [
      "Model: \"sequential\"\n",
      "_________________________________________________________________\n",
      " Layer (type)                Output Shape              Param #   \n",
      "=================================================================\n",
      " embedding (Embedding)       (None, 21115, 150)        11077350  \n",
      "                                                                 \n",
      " conv1d (Conv1D)             (None, 21114, 32)         9632      \n",
      "                                                                 \n",
      " max_pooling1d (MaxPooling1D  (None, 10557, 32)        0         \n",
      " )                                                               \n",
      "                                                                 \n",
      " flatten (Flatten)           (None, 337824)            0         \n",
      "                                                                 \n",
      " dense (Dense)               (None, 300)               101347500 \n",
      "                                                                 \n",
      " dense_1 (Dense)             (None, 4)                 1204      \n",
      "                                                                 \n",
      "=================================================================\n",
      "Total params: 112,435,686\n",
      "Trainable params: 112,435,686\n",
      "Non-trainable params: 0\n",
      "_________________________________________________________________\n"
     ]
    }
   ],
   "source": [
    "model1.summary()"
   ]
  },
  {
   "cell_type": "code",
   "execution_count": 58,
   "id": "f7e658a1",
   "metadata": {},
   "outputs": [
    {
     "name": "stdout",
     "output_type": "stream",
     "text": [
      "Epoch 1/20\n",
      "20/20 [==============================] - 70s 3s/step - loss: 4.1709 - accuracy: 0.4562 - val_loss: 0.8935 - val_accuracy: 0.6879\n",
      "Epoch 2/20\n",
      "20/20 [==============================] - 71s 4s/step - loss: 0.5575 - accuracy: 0.8400 - val_loss: 0.3724 - val_accuracy: 0.8822\n",
      "Epoch 3/20\n",
      "20/20 [==============================] - 72s 4s/step - loss: 0.1272 - accuracy: 0.9944 - val_loss: 0.1846 - val_accuracy: 0.9427\n",
      "Epoch 4/20\n",
      "20/20 [==============================] - 64s 3s/step - loss: 0.0088 - accuracy: 1.0000 - val_loss: 0.1590 - val_accuracy: 0.9427\n",
      "Epoch 5/20\n",
      "20/20 [==============================] - 64s 3s/step - loss: 0.0016 - accuracy: 1.0000 - val_loss: 0.1625 - val_accuracy: 0.9459\n",
      "Epoch 6/20\n",
      "20/20 [==============================] - 64s 3s/step - loss: 9.1842e-04 - accuracy: 1.0000 - val_loss: 0.1578 - val_accuracy: 0.9427\n",
      "Epoch 7/20\n",
      "20/20 [==============================] - 65s 3s/step - loss: 6.7004e-04 - accuracy: 1.0000 - val_loss: 0.1569 - val_accuracy: 0.9427\n",
      "Epoch 8/20\n",
      "20/20 [==============================] - 64s 3s/step - loss: 5.2622e-04 - accuracy: 1.0000 - val_loss: 0.1589 - val_accuracy: 0.9427\n",
      "Epoch 9/20\n",
      "20/20 [==============================] - 69s 3s/step - loss: 4.2912e-04 - accuracy: 1.0000 - val_loss: 0.1591 - val_accuracy: 0.9427\n",
      "Epoch 10/20\n",
      "20/20 [==============================] - 75s 4s/step - loss: 3.5180e-04 - accuracy: 1.0000 - val_loss: 0.1557 - val_accuracy: 0.9427\n",
      "Epoch 11/20\n",
      "20/20 [==============================] - 71s 4s/step - loss: 2.9420e-04 - accuracy: 1.0000 - val_loss: 0.1580 - val_accuracy: 0.9427\n",
      "Epoch 12/20\n",
      "20/20 [==============================] - 66s 3s/step - loss: 2.4846e-04 - accuracy: 1.0000 - val_loss: 0.1569 - val_accuracy: 0.9427\n",
      "Epoch 13/20\n",
      "20/20 [==============================] - 64s 3s/step - loss: 2.1290e-04 - accuracy: 1.0000 - val_loss: 0.1585 - val_accuracy: 0.9427\n",
      "Epoch 14/20\n",
      "20/20 [==============================] - 64s 3s/step - loss: 1.8352e-04 - accuracy: 1.0000 - val_loss: 0.1560 - val_accuracy: 0.9427\n",
      "Epoch 15/20\n",
      "20/20 [==============================] - 63s 3s/step - loss: 1.5885e-04 - accuracy: 1.0000 - val_loss: 0.1571 - val_accuracy: 0.9427\n",
      "Epoch 16/20\n",
      "20/20 [==============================] - 64s 3s/step - loss: 1.3861e-04 - accuracy: 1.0000 - val_loss: 0.1568 - val_accuracy: 0.9427\n",
      "Epoch 17/20\n",
      "20/20 [==============================] - 63s 3s/step - loss: 1.2104e-04 - accuracy: 1.0000 - val_loss: 0.1562 - val_accuracy: 0.9427\n",
      "Epoch 18/20\n",
      "20/20 [==============================] - 64s 3s/step - loss: 1.0714e-04 - accuracy: 1.0000 - val_loss: 0.1579 - val_accuracy: 0.9427\n",
      "Epoch 19/20\n",
      "20/20 [==============================] - 63s 3s/step - loss: 9.5465e-05 - accuracy: 1.0000 - val_loss: 0.1561 - val_accuracy: 0.9427\n",
      "Epoch 20/20\n",
      "20/20 [==============================] - 64s 3s/step - loss: 8.5594e-05 - accuracy: 1.0000 - val_loss: 0.1566 - val_accuracy: 0.9427\n",
      "Wall time: 22min 5s\n"
     ]
    }
   ],
   "source": [
    "%%time\n",
    "history1 = model1.fit(padded_train, y_train, batch_size=64, shuffle=True, epochs=20, verbose=True, validation_data= (padded_test, y_test))\n"
   ]
  },
  {
   "cell_type": "code",
   "execution_count": 59,
   "id": "e2645578",
   "metadata": {},
   "outputs": [],
   "source": [
    "#Function to plot the metric outputs from the neural network\n",
    "def plot_result(history):\n",
    "    '''Function to plot the training and loss accuracies of the neural network.\n",
    "    It takes in the vlaues of the training results and outputs the line plot'''\n",
    "    \n",
    "    fig, axes = plt.subplots(1, 2, figsize=(10,4))\n",
    "    axes[0].set_title('Loss Plot', fontsize = 14)\n",
    "    axes[1].set_title('Accuracy Plot', fontsize = 14)\n",
    "    axes[0].plot(history.history['loss'], label='Training Loss')\n",
    "    axes[0].plot(history.history['val_loss'], label='Validation Loss')\n",
    "    axes[0].legend(fontsize = 14)\n",
    "    axes[1].plot(history.history['accuracy'], label='Training Accuracy')\n",
    "    axes[1].plot(history.history['val_accuracy'], label='Validation Accuracy')\n",
    "    axes[1].legend(fontsize = 14)\n",
    "    \n",
    "    \n",
    "    return plt.show()"
   ]
  },
  {
   "cell_type": "code",
   "execution_count": 60,
   "id": "33977481",
   "metadata": {},
   "outputs": [
    {
     "data": {
      "image/png": "[encoded data removed]",
      "text/plain": [
       "<Figure size 720x288 with 2 Axes>"
      ]
     },
     "metadata": {
      "needs_background": "light"
     },
     "output_type": "display_data"
    }
   ],
   "source": [
    "plot_result(history1 )"
   ]
  },
  {
   "cell_type": "markdown",
   "id": "de991cf9",
   "metadata": {},
   "source": [
    "At around the 4th epoch, the loss became constant. The training accuracy also reached 100%. This suggests an overfitting into the training data"
   ]
  },
  {
   "cell_type": "markdown",
   "id": "7f5d18bd",
   "metadata": {},
   "source": [
    "Drop out layer will be introduced, the batch size will be increased and early stopping as well"
   ]
  },
  {
   "cell_type": "code",
   "execution_count": 61,
   "id": "8681b02a",
   "metadata": {},
   "outputs": [],
   "source": [
    "model2 = Sequential()\n",
    "model2.add(Embedding(size, 150, input_length=length, trainable = True))\n",
    "\n",
    "model2.add(Conv1D(filters=32, kernel_size=2, activation='relu'))\n",
    "model2.add(MaxPooling1D(pool_size=2))\n",
    "\n",
    "model2.add(Flatten())\n",
    "model2.add(Dropout(0.2))\n",
    "model2.add(Dense(300, activation='relu'))\n",
    "model2.add(Dense(4, activation='softmax'))\n",
    "es = EarlyStopping(monitor = 'val_loss', patience=4)\n",
    "model2.compile(optimizer='adam', loss='categorical_crossentropy', metrics=['accuracy'])"
   ]
  },
  {
   "cell_type": "code",
   "execution_count": 62,
   "id": "25b13e70",
   "metadata": {},
   "outputs": [
    {
     "name": "stdout",
     "output_type": "stream",
     "text": [
      "Epoch 1/20\n",
      "10/10 [==============================] - 81s 7s/step - loss: 6.9277 - accuracy: 0.3575 - val_loss: 1.0043 - val_accuracy: 0.5064\n",
      "Epoch 2/20\n",
      "10/10 [==============================] - 64s 6s/step - loss: 0.8576 - accuracy: 0.6019 - val_loss: 0.7581 - val_accuracy: 0.7420\n",
      "Epoch 3/20\n",
      "10/10 [==============================] - 64s 6s/step - loss: 0.5912 - accuracy: 0.8758 - val_loss: 0.5668 - val_accuracy: 0.8790\n",
      "Epoch 4/20\n",
      "10/10 [==============================] - 65s 7s/step - loss: 0.2607 - accuracy: 0.9984 - val_loss: 0.3133 - val_accuracy: 0.9331\n",
      "Epoch 5/20\n",
      "10/10 [==============================] - 64s 6s/step - loss: 0.0510 - accuracy: 0.9992 - val_loss: 0.2012 - val_accuracy: 0.9427\n",
      "Epoch 6/20\n",
      "10/10 [==============================] - 65s 6s/step - loss: 0.0081 - accuracy: 1.0000 - val_loss: 0.1670 - val_accuracy: 0.9490\n",
      "Epoch 7/20\n",
      "10/10 [==============================] - 65s 7s/step - loss: 0.0021 - accuracy: 1.0000 - val_loss: 0.1576 - val_accuracy: 0.9427\n",
      "Epoch 8/20\n",
      "10/10 [==============================] - 69s 7s/step - loss: 9.6749e-04 - accuracy: 1.0000 - val_loss: 0.1534 - val_accuracy: 0.9427\n",
      "Epoch 9/20\n",
      "10/10 [==============================] - 71s 7s/step - loss: 6.6652e-04 - accuracy: 1.0000 - val_loss: 0.1516 - val_accuracy: 0.9427\n",
      "Epoch 10/20\n",
      "10/10 [==============================] - 75s 8s/step - loss: 5.2695e-04 - accuracy: 1.0000 - val_loss: 0.1498 - val_accuracy: 0.9427\n",
      "Epoch 11/20\n",
      "10/10 [==============================] - 76s 8s/step - loss: 4.5378e-04 - accuracy: 1.0000 - val_loss: 0.1485 - val_accuracy: 0.9427\n",
      "Epoch 12/20\n",
      "10/10 [==============================] - 76s 8s/step - loss: 4.0244e-04 - accuracy: 1.0000 - val_loss: 0.1480 - val_accuracy: 0.9427\n",
      "Epoch 13/20\n",
      "10/10 [==============================] - 76s 8s/step - loss: 3.5969e-04 - accuracy: 1.0000 - val_loss: 0.1474 - val_accuracy: 0.9427\n",
      "Epoch 14/20\n",
      "10/10 [==============================] - 78s 8s/step - loss: 3.2856e-04 - accuracy: 1.0000 - val_loss: 0.1466 - val_accuracy: 0.9427\n",
      "Epoch 15/20\n",
      "10/10 [==============================] - 65s 6s/step - loss: 3.0285e-04 - accuracy: 1.0000 - val_loss: 0.1459 - val_accuracy: 0.9427\n",
      "Epoch 16/20\n",
      "10/10 [==============================] - 63s 6s/step - loss: 2.7414e-04 - accuracy: 1.0000 - val_loss: 0.1455 - val_accuracy: 0.9427\n",
      "Epoch 17/20\n",
      "10/10 [==============================] - 63s 6s/step - loss: 2.5111e-04 - accuracy: 1.0000 - val_loss: 0.1452 - val_accuracy: 0.9427\n",
      "Epoch 18/20\n",
      "10/10 [==============================] - 63s 6s/step - loss: 2.3337e-04 - accuracy: 1.0000 - val_loss: 0.1449 - val_accuracy: 0.9427\n",
      "Epoch 19/20\n",
      "10/10 [==============================] - 64s 6s/step - loss: 2.1559e-04 - accuracy: 1.0000 - val_loss: 0.1445 - val_accuracy: 0.9427\n",
      "Epoch 20/20\n",
      "10/10 [==============================] - 64s 6s/step - loss: 1.9968e-04 - accuracy: 1.0000 - val_loss: 0.1442 - val_accuracy: 0.9427\n",
      "Wall time: 22min 50s\n"
     ]
    }
   ],
   "source": [
    "%%time\n",
    "history2 = model2.fit(padded_train, y_train, batch_size= 128, shuffle=True, epochs=20, verbose=True,\n",
    "                      validation_data= (padded_test, y_test), callbacks = [es])\n"
   ]
  },
  {
   "cell_type": "code",
   "execution_count": 63,
   "id": "72e7edde",
   "metadata": {},
   "outputs": [
    {
     "data": {
      "image/png": "[encoded data removed]",
      "text/plain": [
       "<Figure size 720x288 with 2 Axes>"
      ]
     },
     "metadata": {
      "needs_background": "light"
     },
     "output_type": "display_data"
    }
   ],
   "source": [
    "plot_result(history2)"
   ]
  },
  {
   "cell_type": "markdown",
   "id": "7398cda0",
   "metadata": {},
   "source": [
    "The result still looks similar to that of model1"
   ]
  },
  {
   "cell_type": "markdown",
   "id": "7ab52666",
   "metadata": {},
   "source": [
    "Using output dimension of 200, and increasing the number of hidden layers as well as changing the learning rate"
   ]
  },
  {
   "cell_type": "code",
   "execution_count": 64,
   "id": "83111097",
   "metadata": {},
   "outputs": [],
   "source": [
    "model3 = Sequential()\n",
    "model3.add(Embedding(size, 200, input_length=length, trainable = True))\n",
    "#model2.add(Dropout(0.2))\n",
    "model3.add(Conv1D(filters=32, kernel_size=2, activation='relu'))\n",
    "model3.add(MaxPooling1D(pool_size=2))\n",
    "\n",
    "model3.add(Flatten())\n",
    "model3.add(Dense(100, activation='relu'))\n",
    "model3.add(Dropout(0.5))\n",
    "model3.add(Dense(10, activation='relu'))\n",
    "#model2.add(Dropout(0.2))\n",
    "model3.add(Dense(4, activation='softmax'))\n",
    "model3.compile(optimizer='adam', loss='categorical_crossentropy', metrics=['accuracy'])\n",
    "\n",
    "\n",
    "#opt = optimizers.Adam(learning_rate= 0.0001)\n",
    "#model3.compile(optimizer= opt, loss='categorical_crossentropy', metrics=['accuracy'])\n",
    "\n"
   ]
  },
  {
   "cell_type": "code",
   "execution_count": 65,
   "id": "6b997ce3",
   "metadata": {},
   "outputs": [
    {
     "name": "stdout",
     "output_type": "stream",
     "text": [
      "Epoch 1/20\n",
      "10/10 [==============================] - 75s 7s/step - loss: 2.9290 - accuracy: 0.2818 - val_loss: 1.3718 - val_accuracy: 0.2484\n",
      "Epoch 2/20\n",
      "10/10 [==============================] - 69s 7s/step - loss: 1.3226 - accuracy: 0.3662 - val_loss: 1.2893 - val_accuracy: 0.3981\n",
      "Epoch 3/20\n",
      "10/10 [==============================] - 69s 7s/step - loss: 1.1926 - accuracy: 0.4570 - val_loss: 1.1278 - val_accuracy: 0.5318\n",
      "Epoch 4/20\n",
      "10/10 [==============================] - 68s 7s/step - loss: 0.9881 - accuracy: 0.5318 - val_loss: 0.8598 - val_accuracy: 0.5541\n",
      "Epoch 5/20\n",
      "10/10 [==============================] - 68s 7s/step - loss: 0.8026 - accuracy: 0.5995 - val_loss: 0.7338 - val_accuracy: 0.6529\n",
      "Epoch 6/20\n",
      "10/10 [==============================] - 70s 7s/step - loss: 0.6647 - accuracy: 0.6911 - val_loss: 0.5855 - val_accuracy: 0.7930\n",
      "Epoch 7/20\n",
      "10/10 [==============================] - 69s 7s/step - loss: 0.5186 - accuracy: 0.8010 - val_loss: 0.4259 - val_accuracy: 0.8662\n",
      "Epoch 8/20\n",
      "10/10 [==============================] - 69s 7s/step - loss: 0.3620 - accuracy: 0.8654 - val_loss: 0.2519 - val_accuracy: 0.9268\n",
      "Epoch 9/20\n",
      "10/10 [==============================] - 70s 7s/step - loss: 0.2630 - accuracy: 0.9180 - val_loss: 0.2134 - val_accuracy: 0.9172\n",
      "Epoch 10/20\n",
      "10/10 [==============================] - 70s 7s/step - loss: 0.2004 - accuracy: 0.9291 - val_loss: 0.1842 - val_accuracy: 0.9459\n",
      "Epoch 11/20\n",
      "10/10 [==============================] - 69s 7s/step - loss: 0.1645 - accuracy: 0.9403 - val_loss: 0.2040 - val_accuracy: 0.9331\n",
      "Epoch 12/20\n",
      "10/10 [==============================] - 69s 7s/step - loss: 0.1178 - accuracy: 0.9658 - val_loss: 0.1971 - val_accuracy: 0.9490\n",
      "Epoch 13/20\n",
      "10/10 [==============================] - 69s 7s/step - loss: 0.1045 - accuracy: 0.9666 - val_loss: 0.2176 - val_accuracy: 0.9363\n",
      "Epoch 14/20\n",
      "10/10 [==============================] - 69s 7s/step - loss: 0.0725 - accuracy: 0.9833 - val_loss: 0.1878 - val_accuracy: 0.9522\n",
      "Wall time: 16min 13s\n"
     ]
    }
   ],
   "source": [
    "%%time\n",
    "history3 = model3.fit(padded_train, y_train, batch_size=128, shuffle=True, epochs=20, verbose=True,\n",
    "                      validation_data= (padded_test, y_test),callbacks= [es] )\n",
    "\n"
   ]
  },
  {
   "cell_type": "code",
   "execution_count": 66,
   "id": "a3af20cc",
   "metadata": {},
   "outputs": [
    {
     "data": {
      "image/png": "[encoded data removed]",
      "text/plain": [
       "<Figure size 720x288 with 2 Axes>"
      ]
     },
     "metadata": {
      "needs_background": "light"
     },
     "output_type": "display_data"
    }
   ],
   "source": [
    "plot_result(history3)"
   ]
  },
  {
   "cell_type": "code",
   "execution_count": 67,
   "id": "fdd65cea",
   "metadata": {},
   "outputs": [
    {
     "name": "stdout",
     "output_type": "stream",
     "text": [
      "95\n"
     ]
    }
   ],
   "source": [
    "#The cnn accuracy\n",
    "cnn_accuracy = round (model3.evaluate(padded_test, y_test, verbose=0)[1]  * 100 )\n",
    "print (cnn_accuracy)"
   ]
  },
  {
   "cell_type": "markdown",
   "id": "0532cff2",
   "metadata": {},
   "source": [
    "The model will be tested on a new data set to see how well it classifies new data"
   ]
  },
  {
   "cell_type": "code",
   "execution_count": 68,
   "id": "d852f55c",
   "metadata": {},
   "outputs": [],
   "source": [
    "#encode the target class of the new data\n",
    "y_new = binary_encode.fit_transform(test_df['age_rating'])"
   ]
  },
  {
   "cell_type": "code",
   "execution_count": 69,
   "id": "8eede29c",
   "metadata": {},
   "outputs": [
    {
     "data": {
      "text/plain": [
       "58"
      ]
     },
     "execution_count": 69,
     "metadata": {},
     "output_type": "execute_result"
    }
   ],
   "source": [
    "cnn_test_accuracy = round ( ( model3.evaluate(padded_new, y_new, verbose=0)[1] ) * 100 ) \n",
    "cnn_test_accuracy"
   ]
  },
  {
   "cell_type": "markdown",
   "id": "7aa69009",
   "metadata": {},
   "source": [
    "# BERT"
   ]
  },
  {
   "cell_type": "markdown",
   "id": "64947ad7",
   "metadata": {},
   "source": [
    "The code for BERT implementation was from (https://tfhub.dev/tensorflow/bert_en_uncased_L-12_H-768_A-12/4). And modified for the purpose of this research"
   ]
  },
  {
   "cell_type": "code",
   "execution_count": 70,
   "id": "cb41bd48",
   "metadata": {},
   "outputs": [],
   "source": [
    "#file path to pre-process and transform the scripts\n",
    "process_url = 'https://tfhub.dev/tensorflow/bert_en_uncased_preprocess/3'\n",
    "encode_url = 'https://tfhub.dev/tensorflow/bert_en_uncased_L-12_H-768_A-12/4'"
   ]
  },
  {
   "cell_type": "code",
   "execution_count": 71,
   "id": "afd5efa4",
   "metadata": {},
   "outputs": [],
   "source": [
    "preprocess = hub.KerasLayer(process_url)\n",
    "\n",
    "encode = hub.KerasLayer(encode_url )"
   ]
  },
  {
   "cell_type": "code",
   "execution_count": 72,
   "id": "4c7f6b61",
   "metadata": {},
   "outputs": [],
   "source": [
    "text_input = keras.layers.Input(shape=(), dtype= tf.string )\n",
    "\n",
    "#The text_input will be passed into the bert preprocessing model and encoder\n",
    "\n",
    "processed_text = preprocess(text_input)\n",
    "\n",
    "encoded_text = encode (processed_text)\n"
   ]
  },
  {
   "cell_type": "markdown",
   "id": "10312f8b",
   "metadata": {},
   "source": [
    "Functional neural network will be used here"
   ]
  },
  {
   "cell_type": "code",
   "execution_count": 73,
   "id": "6a870e32",
   "metadata": {},
   "outputs": [],
   "source": [
    "xbert = keras.layers.Dropout(0.2)(encoded_text['pooled_output']) \n",
    "xbert = keras.layers.Dense(400, activation = 'relu') (xbert)\n",
    "xbert = keras.layers.Dense(4, activation = 'softmax') (xbert)"
   ]
  },
  {
   "cell_type": "code",
   "execution_count": 74,
   "id": "bc2d3f95",
   "metadata": {},
   "outputs": [],
   "source": [
    "model_bert = keras.Model(inputs = [text_input], outputs = [xbert])"
   ]
  },
  {
   "cell_type": "code",
   "execution_count": 75,
   "id": "0a7e771e",
   "metadata": {},
   "outputs": [],
   "source": [
    "model_bert.compile(optimizer='adam', loss='categorical_crossentropy', metrics=['accuracy'])"
   ]
  },
  {
   "cell_type": "code",
   "execution_count": 76,
   "id": "bbfd098a",
   "metadata": {},
   "outputs": [
    {
     "name": "stdout",
     "output_type": "stream",
     "text": [
      "Epoch 1/20\n",
      "40/40 [==============================] - 445s 11s/step - loss: 1.4255 - accuracy: 0.3264 - val_loss: 1.2567 - val_accuracy: 0.3949\n",
      "Epoch 2/20\n",
      "40/40 [==============================] - 464s 12s/step - loss: 1.2343 - accuracy: 0.4037 - val_loss: 1.1519 - val_accuracy: 0.4777\n",
      "Epoch 3/20\n",
      "40/40 [==============================] - 472s 12s/step - loss: 1.1202 - accuracy: 0.4697 - val_loss: 1.1210 - val_accuracy: 0.5032\n",
      "Epoch 4/20\n",
      "40/40 [==============================] - 467s 12s/step - loss: 1.1003 - accuracy: 0.4737 - val_loss: 0.9982 - val_accuracy: 0.5000\n",
      "Epoch 5/20\n",
      "40/40 [==============================] - 464s 12s/step - loss: 1.0086 - accuracy: 0.5127 - val_loss: 0.9515 - val_accuracy: 0.5255\n",
      "Epoch 6/20\n",
      "40/40 [==============================] - 464s 12s/step - loss: 0.9644 - accuracy: 0.5350 - val_loss: 0.9125 - val_accuracy: 0.5318\n",
      "Epoch 7/20\n",
      "40/40 [==============================] - 464s 12s/step - loss: 0.9409 - accuracy: 0.5446 - val_loss: 0.9335 - val_accuracy: 0.5255\n",
      "Epoch 8/20\n",
      "40/40 [==============================] - 461s 12s/step - loss: 0.9184 - accuracy: 0.5589 - val_loss: 0.8699 - val_accuracy: 0.5796\n",
      "Epoch 9/20\n",
      "40/40 [==============================] - 358s 9s/step - loss: 0.8894 - accuracy: 0.5565 - val_loss: 0.8761 - val_accuracy: 0.5414\n",
      "Epoch 10/20\n",
      "40/40 [==============================] - 357s 9s/step - loss: 0.8823 - accuracy: 0.5756 - val_loss: 0.8537 - val_accuracy: 0.5382\n",
      "Epoch 11/20\n",
      "40/40 [==============================] - 356s 9s/step - loss: 0.8915 - accuracy: 0.5549 - val_loss: 0.8585 - val_accuracy: 0.6051\n",
      "Epoch 12/20\n",
      "40/40 [==============================] - 356s 9s/step - loss: 0.8690 - accuracy: 0.5756 - val_loss: 0.8666 - val_accuracy: 0.5255\n",
      "Epoch 13/20\n",
      "40/40 [==============================] - 356s 9s/step - loss: 0.8391 - accuracy: 0.5868 - val_loss: 0.8301 - val_accuracy: 0.5669\n",
      "Epoch 14/20\n",
      "40/40 [==============================] - 360s 9s/step - loss: 0.8343 - accuracy: 0.5916 - val_loss: 0.8226 - val_accuracy: 0.6019\n",
      "Epoch 15/20\n",
      "40/40 [==============================] - 358s 9s/step - loss: 0.8190 - accuracy: 0.5932 - val_loss: 0.8118 - val_accuracy: 0.6146\n",
      "Epoch 16/20\n",
      "40/40 [==============================] - 358s 9s/step - loss: 0.8330 - accuracy: 0.5860 - val_loss: 0.8109 - val_accuracy: 0.5892\n",
      "Epoch 17/20\n",
      "40/40 [==============================] - 358s 9s/step - loss: 0.8063 - accuracy: 0.6115 - val_loss: 0.8138 - val_accuracy: 0.5478\n",
      "Epoch 18/20\n",
      "40/40 [==============================] - 359s 9s/step - loss: 0.8024 - accuracy: 0.6003 - val_loss: 0.7913 - val_accuracy: 0.6115\n",
      "Epoch 19/20\n",
      "40/40 [==============================] - 359s 9s/step - loss: 0.7954 - accuracy: 0.6099 - val_loss: 0.8682 - val_accuracy: 0.5382\n",
      "Epoch 20/20\n",
      "40/40 [==============================] - 361s 9s/step - loss: 0.8128 - accuracy: 0.5955 - val_loss: 0.8144 - val_accuracy: 0.5924\n",
      "Wall time: 2h 13min 21s\n"
     ]
    }
   ],
   "source": [
    "%%time\n",
    "history_bert = model_bert.fit (x_train, y_train, verbose= True, epochs= 20, validation_data= (x_test, y_test))"
   ]
  },
  {
   "cell_type": "code",
   "execution_count": 77,
   "id": "06e21520",
   "metadata": {},
   "outputs": [
    {
     "data": {
      "image/png": "[encoded data removed]",
      "text/plain": [
       "<Figure size 720x288 with 2 Axes>"
      ]
     },
     "metadata": {
      "needs_background": "light"
     },
     "output_type": "display_data"
    }
   ],
   "source": [
    "plot_result(history_bert)"
   ]
  },
  {
   "cell_type": "code",
   "execution_count": 78,
   "id": "edb3aae0",
   "metadata": {},
   "outputs": [
    {
     "name": "stdout",
     "output_type": "stream",
     "text": [
      "59\n"
     ]
    }
   ],
   "source": [
    "bert_accuracy = round (model_bert.evaluate(x_test, y_test, verbose=0)[1]  * 100 )\n",
    "print (bert_accuracy)"
   ]
  },
  {
   "cell_type": "markdown",
   "id": "af2c0119",
   "metadata": {},
   "source": [
    "# Bert with extra layer"
   ]
  },
  {
   "cell_type": "code",
   "execution_count": 79,
   "id": "d026362b",
   "metadata": {},
   "outputs": [],
   "source": [
    "xbert2 = keras.layers.Dropout(0.2)(encoded_text['pooled_output']) \n",
    "xbert2 = keras.layers.Dense(400, activation = 'relu') (xbert2)\n",
    "xbert2 = keras.layers.Dropout(0.5)(xbert2)\n",
    "xbert2 = keras.layers.Dense(200, activation = 'relu') (xbert2)\n",
    "\n",
    "xbert2 = keras.layers.Dense(4, activation = 'softmax') (xbert2)\n"
   ]
  },
  {
   "cell_type": "code",
   "execution_count": 80,
   "id": "3e5cfb8d",
   "metadata": {},
   "outputs": [],
   "source": [
    "model_bert2 = keras.Model(inputs = [text_input], outputs = [xbert2])"
   ]
  },
  {
   "cell_type": "code",
   "execution_count": 81,
   "id": "bfe089f4",
   "metadata": {},
   "outputs": [],
   "source": [
    "\n",
    "model_bert2.compile(optimizer='adam', loss='categorical_crossentropy', metrics=['accuracy'])"
   ]
  },
  {
   "cell_type": "code",
   "execution_count": 82,
   "id": "4c962e9f",
   "metadata": {},
   "outputs": [
    {
     "name": "stdout",
     "output_type": "stream",
     "text": [
      "Epoch 1/40\n",
      "40/40 [==============================] - 345s 9s/step - loss: 1.4894 - accuracy: 0.2803 - val_loss: 1.3303 - val_accuracy: 0.2930\n",
      "Epoch 2/40\n",
      "40/40 [==============================] - 349s 9s/step - loss: 1.3627 - accuracy: 0.3153 - val_loss: 1.2751 - val_accuracy: 0.3949\n",
      "Epoch 3/40\n",
      "40/40 [==============================] - 358s 9s/step - loss: 1.3026 - accuracy: 0.3495 - val_loss: 1.2114 - val_accuracy: 0.4076\n",
      "Epoch 4/40\n",
      "40/40 [==============================] - 359s 9s/step - loss: 1.2485 - accuracy: 0.3806 - val_loss: 1.1721 - val_accuracy: 0.3503\n",
      "Epoch 5/40\n",
      "40/40 [==============================] - 359s 9s/step - loss: 1.1858 - accuracy: 0.4204 - val_loss: 1.0942 - val_accuracy: 0.4777\n",
      "Epoch 6/40\n",
      "40/40 [==============================] - 359s 9s/step - loss: 1.1278 - accuracy: 0.4220 - val_loss: 1.0903 - val_accuracy: 0.4459\n",
      "Epoch 7/40\n",
      "40/40 [==============================] - 361s 9s/step - loss: 1.0933 - accuracy: 0.4427 - val_loss: 0.9919 - val_accuracy: 0.5127\n",
      "Epoch 8/40\n",
      "40/40 [==============================] - 358s 9s/step - loss: 1.0710 - accuracy: 0.4586 - val_loss: 0.9441 - val_accuracy: 0.4682\n",
      "Epoch 9/40\n",
      "40/40 [==============================] - 361s 9s/step - loss: 1.0801 - accuracy: 0.4459 - val_loss: 0.9562 - val_accuracy: 0.5510\n",
      "Epoch 10/40\n",
      "40/40 [==============================] - 360s 9s/step - loss: 1.0317 - accuracy: 0.4522 - val_loss: 0.9202 - val_accuracy: 0.5096\n",
      "Epoch 11/40\n",
      "40/40 [==============================] - 361s 9s/step - loss: 1.0022 - accuracy: 0.4777 - val_loss: 0.8887 - val_accuracy: 0.4936\n",
      "Epoch 12/40\n",
      "40/40 [==============================] - 360s 9s/step - loss: 0.9787 - accuracy: 0.4976 - val_loss: 0.8940 - val_accuracy: 0.5064\n",
      "Epoch 13/40\n",
      "40/40 [==============================] - 359s 9s/step - loss: 0.9677 - accuracy: 0.4912 - val_loss: 0.8515 - val_accuracy: 0.5287\n",
      "Epoch 14/40\n",
      "40/40 [==============================] - 360s 9s/step - loss: 0.9772 - accuracy: 0.4650 - val_loss: 0.8807 - val_accuracy: 0.5318\n",
      "Epoch 15/40\n",
      "40/40 [==============================] - 361s 9s/step - loss: 0.9558 - accuracy: 0.4801 - val_loss: 0.8663 - val_accuracy: 0.4841\n",
      "Epoch 16/40\n",
      "40/40 [==============================] - 362s 9s/step - loss: 0.9560 - accuracy: 0.5000 - val_loss: 0.8319 - val_accuracy: 0.5541\n",
      "Epoch 17/40\n",
      "40/40 [==============================] - 360s 9s/step - loss: 0.9432 - accuracy: 0.4920 - val_loss: 0.8418 - val_accuracy: 0.5414\n",
      "Epoch 18/40\n",
      "40/40 [==============================] - 362s 9s/step - loss: 1.0008 - accuracy: 0.4697 - val_loss: 0.8642 - val_accuracy: 0.5605\n",
      "Epoch 19/40\n",
      "40/40 [==============================] - 360s 9s/step - loss: 0.9643 - accuracy: 0.4785 - val_loss: 0.8424 - val_accuracy: 0.5446\n",
      "Epoch 20/40\n",
      "40/40 [==============================] - 360s 9s/step - loss: 0.9539 - accuracy: 0.5135 - val_loss: 0.8535 - val_accuracy: 0.5796\n",
      "Epoch 21/40\n",
      "40/40 [==============================] - 360s 9s/step - loss: 0.9232 - accuracy: 0.5032 - val_loss: 0.8298 - val_accuracy: 0.5637\n",
      "Epoch 22/40\n",
      "40/40 [==============================] - 360s 9s/step - loss: 0.9403 - accuracy: 0.5072 - val_loss: 0.8278 - val_accuracy: 0.5764\n",
      "Epoch 23/40\n",
      "40/40 [==============================] - 360s 9s/step - loss: 0.9176 - accuracy: 0.5111 - val_loss: 0.8406 - val_accuracy: 0.5541\n",
      "Epoch 24/40\n",
      "40/40 [==============================] - 361s 9s/step - loss: 0.9284 - accuracy: 0.5159 - val_loss: 0.8900 - val_accuracy: 0.5159\n",
      "Epoch 25/40\n",
      "40/40 [==============================] - 360s 9s/step - loss: 0.9265 - accuracy: 0.5135 - val_loss: 0.8227 - val_accuracy: 0.5605\n",
      "Epoch 26/40\n",
      "40/40 [==============================] - 360s 9s/step - loss: 0.9079 - accuracy: 0.5104 - val_loss: 0.8338 - val_accuracy: 0.5000\n",
      "Epoch 27/40\n",
      "40/40 [==============================] - 360s 9s/step - loss: 0.9079 - accuracy: 0.5151 - val_loss: 0.8196 - val_accuracy: 0.5382\n",
      "Epoch 28/40\n",
      "40/40 [==============================] - 361s 9s/step - loss: 0.9288 - accuracy: 0.5064 - val_loss: 0.8332 - val_accuracy: 0.5573\n",
      "Epoch 29/40\n",
      "40/40 [==============================] - 360s 9s/step - loss: 0.8974 - accuracy: 0.5295 - val_loss: 0.8325 - val_accuracy: 0.5446\n",
      "Epoch 30/40\n",
      "40/40 [==============================] - 361s 9s/step - loss: 0.8979 - accuracy: 0.5135 - val_loss: 0.8204 - val_accuracy: 0.5605\n",
      "Epoch 31/40\n",
      "40/40 [==============================] - 358s 9s/step - loss: 0.8973 - accuracy: 0.5191 - val_loss: 0.8140 - val_accuracy: 0.5478\n",
      "Epoch 32/40\n",
      "40/40 [==============================] - 359s 9s/step - loss: 0.9194 - accuracy: 0.5207 - val_loss: 0.8139 - val_accuracy: 0.5318\n",
      "Epoch 33/40\n",
      "40/40 [==============================] - 358s 9s/step - loss: 0.9070 - accuracy: 0.5247 - val_loss: 0.8419 - val_accuracy: 0.5223\n",
      "Epoch 34/40\n",
      "40/40 [==============================] - 358s 9s/step - loss: 0.9338 - accuracy: 0.5255 - val_loss: 0.8354 - val_accuracy: 0.4936\n",
      "Epoch 35/40\n",
      "40/40 [==============================] - 358s 9s/step - loss: 0.9173 - accuracy: 0.5119 - val_loss: 0.8268 - val_accuracy: 0.5191\n",
      "Epoch 36/40\n",
      "40/40 [==============================] - 358s 9s/step - loss: 0.9083 - accuracy: 0.5215 - val_loss: 0.8145 - val_accuracy: 0.5764\n",
      "Epoch 37/40\n",
      "40/40 [==============================] - 358s 9s/step - loss: 0.8856 - accuracy: 0.5271 - val_loss: 0.8058 - val_accuracy: 0.5478\n",
      "Epoch 38/40\n",
      "40/40 [==============================] - 360s 9s/step - loss: 0.9095 - accuracy: 0.5064 - val_loss: 0.8365 - val_accuracy: 0.5350\n",
      "Epoch 39/40\n",
      "40/40 [==============================] - 358s 9s/step - loss: 0.9027 - accuracy: 0.5199 - val_loss: 0.8137 - val_accuracy: 0.5318\n",
      "Epoch 40/40\n",
      "40/40 [==============================] - 358s 9s/step - loss: 0.9102 - accuracy: 0.5048 - val_loss: 0.7958 - val_accuracy: 0.5605\n",
      "Wall time: 3h 59min 21s\n"
     ]
    }
   ],
   "source": [
    "%%time\n",
    "history_bert2 = model_bert2.fit (x_train, y_train, verbose= True, epochs= 40, validation_data= (x_test, y_test))"
   ]
  },
  {
   "cell_type": "code",
   "execution_count": 83,
   "id": "5bdfda1b",
   "metadata": {
    "scrolled": true
   },
   "outputs": [
    {
     "data": {
      "image/png": "[encoded data removed]",
      "text/plain": [
       "<Figure size 720x288 with 2 Axes>"
      ]
     },
     "metadata": {
      "needs_background": "light"
     },
     "output_type": "display_data"
    }
   ],
   "source": [
    "plot_result(history_bert2)"
   ]
  },
  {
   "cell_type": "code",
   "execution_count": 84,
   "id": "5055ed40",
   "metadata": {},
   "outputs": [
    {
     "name": "stdout",
     "output_type": "stream",
     "text": [
      "56\n"
     ]
    }
   ],
   "source": [
    "bert_accuracy2 = round (model_bert2.evaluate(x_test, y_test, verbose=0)[1]  * 100 )\n",
    "print(bert_accuracy2)"
   ]
  },
  {
   "cell_type": "markdown",
   "id": "85c0657c",
   "metadata": {},
   "source": [
    "# Next task is to build the LDA model\n"
   ]
  },
  {
   "cell_type": "markdown",
   "id": "c8c7ddef",
   "metadata": {},
   "source": [
    "The code used for the topic modeling was from https://www.dataknowsall.com/topicmodels.html. It was modified to fit in to this experiment"
   ]
  },
  {
   "cell_type": "markdown",
   "id": "c305f1c2",
   "metadata": {},
   "source": [
    "The orignal data frame will be used for the topic modeling"
   ]
  },
  {
   "cell_type": "code",
   "execution_count": 85,
   "id": "047842ab",
   "metadata": {},
   "outputs": [],
   "source": [
    "#re-import the data frame\n",
    "df = pd.read_csv('movie_data.csv')"
   ]
  },
  {
   "cell_type": "code",
   "execution_count": 86,
   "id": "c703dd61",
   "metadata": {},
   "outputs": [
    {
     "name": "stdout",
     "output_type": "stream",
     "text": [
      "<class 'pandas.core.frame.DataFrame'>\n",
      "RangeIndex: 655 entries, 0 to 654\n",
      "Data columns (total 4 columns):\n",
      " #   Column        Non-Null Count  Dtype \n",
      "---  ------        --------------  ----- \n",
      " 0   title         655 non-null    object\n",
      " 1   movie_script  655 non-null    object\n",
      " 2   movie_genre   655 non-null    object\n",
      " 3   age_rating    655 non-null    object\n",
      "dtypes: object(4)\n",
      "memory usage: 20.6+ KB\n"
     ]
    }
   ],
   "source": [
    "df.info()"
   ]
  },
  {
   "cell_type": "markdown",
   "id": "74d8d95c",
   "metadata": {},
   "source": [
    "In order to create the topic model, the first genre entry of all the movies were used. This was assumed to be the genre that dominates in the movie"
   ]
  },
  {
   "cell_type": "code",
   "execution_count": 87,
   "id": "2f8600fa",
   "metadata": {},
   "outputs": [],
   "source": [
    "#Function to extract the first genre entry\n",
    "def create_genre_list (df):\n",
    "    ''' The function takes a series, splits the string in the series,\n",
    "        appends the first element in the list to a new list\n",
    "        and create a frequency count of the genres.\n",
    "        The first genre list and frequency count will be returned\n",
    "                                                                '''\n",
    "    first_genre = []\n",
    "    lst = [genre.split() for genre in df]\n",
    "    for word in lst:\n",
    "        first_genre.append(word[0])\n",
    "    first_genre = ' '.join(first_genre) \n",
    "    first_genre = first_genre.replace(',', '')\n",
    "    first_genre = first_genre.split()\n",
    "    first_genre = [word.lower() for word in first_genre]\n",
    "    \n",
    "    \n",
    "    return first_genre, nltk.FreqDist(first_genre)"
   ]
  },
  {
   "cell_type": "code",
   "execution_count": 88,
   "id": "7cae6186",
   "metadata": {},
   "outputs": [],
   "source": [
    "genre_list, genre_frequency = create_genre_list(df['movie_genre'])"
   ]
  },
  {
   "cell_type": "code",
   "execution_count": 89,
   "id": "446c3ae6",
   "metadata": {},
   "outputs": [
    {
     "data": {
      "image/png": "[encoded data removed]",
      "text/plain": [
       "<Figure size 576x288 with 1 Axes>"
      ]
     },
     "metadata": {
      "needs_background": "light"
     },
     "output_type": "display_data"
    }
   ],
   "source": [
    "#Visualize how the genres appear in the dataset\n",
    "plt.figure(figsize=(8,4)) \n",
    "sns.barplot(y= list (genre_frequency.keys()), x = list( genre_frequency.values()) )\n",
    "plt.title('Genre Distribution Across The Data', fontdict={'size':20})\n",
    "plt.xlabel( 'Count', fontdict= {'size':20})\n",
    "plt.ylabel ('Genre', fontdict= {'size':20})\n",
    "plt.show()\n"
   ]
  },
  {
   "cell_type": "markdown",
   "id": "ce48e79e",
   "metadata": {},
   "source": [
    "A cluster was also created for the movies, where closely related movies are put in the same clusters.\n",
    "\n",
    "From the first genre generated, five clusters were created. \n",
    "\n",
    "A = Drama, Comedy,  Biography, Game-Show\n",
    "\t\n",
    "B = Romance, Adventure\n",
    "\t\n",
    "C = Sci-Fi, Fantasy, Animation, Action\n",
    "\t\n",
    "D = Crime, Mystery\n",
    "\t\n",
    "E = Horror"
   ]
  },
  {
   "cell_type": "code",
   "execution_count": 90,
   "id": "7efc48e9",
   "metadata": {},
   "outputs": [],
   "source": [
    "#Creating the cluster list\n",
    "cluster_list = []\n",
    "for genre in genre_list:\n",
    "    if (genre == 'drama') | ( genre == 'comedy')  | ( genre == 'biography') | ( genre == 'game-show') :\n",
    "        cluster_list.append('a')\n",
    "    if ( genre == 'romance') | ( genre == 'adventure'):\n",
    "        cluster_list.append('b')\n",
    "    if ( genre == 'sci-fi') | ( genre == 'fantasy')  | ( genre == 'animation') | ( genre == 'action'):\n",
    "        cluster_list.append('c')\n",
    "    if ( genre == 'crime') | ( genre == 'mystery'):\n",
    "        cluster_list.append('d')\n",
    "    if ( genre == 'horror'):\n",
    "        cluster_list.append('e')"
   ]
  },
  {
   "cell_type": "code",
   "execution_count": 91,
   "id": "0f7d474c",
   "metadata": {},
   "outputs": [],
   "source": [
    "#appending the cluster list and first genre to the data frame\n",
    "df['first_genre'] = genre_list\n",
    "df['genre_cluster'] = cluster_list"
   ]
  },
  {
   "cell_type": "markdown",
   "id": "9d3c9db7",
   "metadata": {},
   "source": [
    "The scripts will now be prepared for the LDA model.\n",
    "\n",
    "First step is to create a list of all the words in the scripts in the data set"
   ]
  },
  {
   "cell_type": "code",
   "execution_count": 92,
   "id": "ed393a45",
   "metadata": {},
   "outputs": [
    {
     "name": "stdout",
     "output_type": "stream",
     "text": [
      "6366843\n"
     ]
    }
   ],
   "source": [
    "#create a list of words in the script.\n",
    "tokens = []\n",
    "\n",
    "scripts = [word.split() for word in df['movie_script']]\n",
    "\n",
    "for items in range(len(scripts)): \n",
    "    for words in range (len(scripts[items])): \n",
    "        tokens.append(scripts[items][words])     \n",
    "        \n",
    "print (len(tokens))"
   ]
  },
  {
   "cell_type": "markdown",
   "id": "d940628e",
   "metadata": {},
   "source": [
    "Of the 6366843 words, only words with word length greater than three will be considered. This will help reduce the words and filter out the common pronouns and prepositions"
   ]
  },
  {
   "cell_type": "code",
   "execution_count": 93,
   "id": "dd9dc6af",
   "metadata": {},
   "outputs": [
    {
     "name": "stdout",
     "output_type": "stream",
     "text": [
      "5612759\n"
     ]
    }
   ],
   "source": [
    "#keep only words where the legth of characters is more than 3\n",
    "tokens = [word for word in tokens if len(word) > 3]\n",
    "print (len(tokens))"
   ]
  },
  {
   "cell_type": "markdown",
   "id": "c53ac5cb",
   "metadata": {},
   "source": [
    "The number of words has been reduced by almost 1,000,000"
   ]
  },
  {
   "cell_type": "code",
   "execution_count": 94,
   "id": "cf6d71d1",
   "metadata": {},
   "outputs": [],
   "source": [
    "#Create a frequency to represent the count of words\n",
    "\n",
    "frequency = defaultdict(int)\n",
    "\n",
    "for token in tokens:\n",
    "    frequency[token] += 1"
   ]
  },
  {
   "cell_type": "code",
   "execution_count": 95,
   "id": "33f3a565",
   "metadata": {},
   "outputs": [],
   "source": [
    "#Remove words that appear less than two tines from the scripts\n",
    "\n",
    "scripts = [[word for word in text if frequency[word] > 2]  for text in scripts]"
   ]
  },
  {
   "cell_type": "code",
   "execution_count": 96,
   "id": "7e930d56",
   "metadata": {},
   "outputs": [],
   "source": [
    "#make a dictionary of words from the filtered scripts\n",
    "\n",
    "dictionary = corpora.Dictionary(scripts)"
   ]
  },
  {
   "cell_type": "markdown",
   "id": "d02b11c0",
   "metadata": {},
   "source": [
    "In order to reduce the words in the scripts to words that correctly identifies what genre the scripts belong to, a boundary will be defined for how the words appear in the document, so as to find a balance between words that are general, and words that are common across genres"
   ]
  },
  {
   "cell_type": "code",
   "execution_count": 97,
   "id": "29460284",
   "metadata": {},
   "outputs": [
    {
     "name": "stdout",
     "output_type": "stream",
     "text": [
      "using no_below = 20 and no_above = 0.2\n",
      "[(0,\n",
      "  '0.021*\"rooster\" + 0.016*\"crow\" + 0.015*\"tent\" + 0.011*\"sword\" + '\n",
      "  '0.009*\"leaf\" + 0.008*\"jungle\" + 0.006*\"trench\" + 0.006*\"warriors\" + '\n",
      "  '0.005*\"creatures\" + 0.005*\"spear\"'),\n",
      " (1,\n",
      "  '0.033*\"willow\" + 0.011*\"rabbit\" + 0.008*\"august\" + 0.005*\"barn\" + '\n",
      "  '0.005*\"goose\" + 0.004*\"gale\" + 0.004*\"oldsmobile\" + 0.003*\"rover\" + '\n",
      "  '0.003*\"sail\" + 0.003*\"stranded\"'),\n",
      " (2,\n",
      "  '0.014*\"august\" + 0.012*\"madison\" + 0.009*\"manhattan\" + 0.008*\"alabama\" + '\n",
      "  '0.007*\"prince\" + 0.006*\"german\" + 0.006*\"writers\" + 0.004*\"circus\" + '\n",
      "  '0.004*\"london\" + 0.004*\"hitler\"'),\n",
      " (3,\n",
      "  '0.014*\"revisions\" + 0.004*\"thug\" + 0.004*\"chopper\" + 0.004*\"hatch\" + '\n",
      "  '0.004*\"cockpit\" + 0.003*\"missile\" + 0.003*\"trailer\" + 0.003*\"rocket\" + '\n",
      "  '0.003*\"port\" + 0.003*\"wham\"'),\n",
      " (4,\n",
      "  '0.009*\"smiley\" + 0.005*\"babe\" + 0.004*\"trailer\" + 0.004*\"closeup\" + '\n",
      "  '0.003*\"korean\" + 0.003*\"golf\" + 0.002*\"potato\" + 0.002*\"mustang\" + '\n",
      "  '0.002*\"roach\" + 0.002*\"abraham\"')]\n",
      "using no_below = 20 and no_above = 0.3\n",
      "[(0,\n",
      "  '0.037*\"willow\" + 0.008*\"rooster\" + 0.008*\"tent\" + 0.007*\"prince\" + '\n",
      "  '0.007*\"german\" + 0.007*\"horses\" + 0.006*\"writers\" + 0.005*\"camp\" + '\n",
      "  '0.005*\"farm\" + 0.004*\"london\"'),\n",
      " (1,\n",
      "  '0.006*\"forest\" + 0.006*\"crow\" + 0.005*\"barn\" + 0.004*\"sword\" + 0.004*\"gale\" '\n",
      "  '+ 0.004*\"wagon\" + 0.003*\"leaf\" + 0.003*\"village\" + 0.002*\"jungle\" + '\n",
      "  '0.002*\"corpse\"'),\n",
      " (2,\n",
      "  '0.014*\"august\" + 0.008*\"madison\" + 0.008*\"smiley\" + 0.008*\"revisions\" + '\n",
      "  '0.006*\"trailer\" + 0.006*\"alabama\" + 0.005*\"manhattan\" + 0.004*\"motel\" + '\n",
      "  '0.004*\"closeup\" + 0.003*\"oldsmobile\"'),\n",
      " (3,\n",
      "  '0.020*\"ship\" + 0.008*\"cabin\" + 0.007*\"desert\" + 0.006*\"helicopter\" + '\n",
      "  '0.006*\"bomb\" + 0.004*\"dock\" + 0.004*\"chopper\" + 0.004*\"device\" + '\n",
      "  '0.004*\"hatch\" + 0.004*\"rover\"'),\n",
      " (4,\n",
      "  '0.005*\"rabbit\" + 0.003*\"babe\" + 0.002*\"bike\" + 0.002*\"toys\" + '\n",
      "  '0.002*\"tiffany\" + 0.002*\"chill\" + 0.002*\"studio\" + 0.002*\"potato\" + '\n",
      "  '0.001*\"champagne\" + 0.001*\"corn\"')]\n",
      "using no_below = 20 and no_above = 0.4\n",
      "[(0,\n",
      "  '0.017*\"willow\" + 0.007*\"snow\" + 0.005*\"buzz\" + 0.005*\"cage\" + 0.004*\"woods\" '\n",
      "  '+ 0.004*\"forest\" + 0.004*\"crow\" + 0.003*\"boat\" + 0.003*\"thunder\" + '\n",
      "  '0.003*\"flashlight\"'),\n",
      " (1,\n",
      "  '0.013*\"august\" + 0.012*\"prince\" + 0.012*\"horses\" + 0.011*\"german\" + '\n",
      "  '0.008*\"rooster\" + 0.007*\"tent\" + 0.007*\"hitler\" + 0.007*\"london\" + '\n",
      "  '0.006*\"camp\" + 0.006*\"bennett\"'),\n",
      " (2,\n",
      "  '0.004*\"writers\" + 0.002*\"oldsmobile\" + 0.002*\"goose\" + 0.002*\"tiffany\" + '\n",
      "  '0.002*\"studio\" + 0.002*\"laden\" + 0.002*\"willow\" + 0.002*\"darling\" + '\n",
      "  '0.002*\"abraham\" + 0.002*\"continuous\"'),\n",
      " (3,\n",
      "  '0.005*\"continuous\" + 0.005*\"august\" + 0.004*\"madison\" + 0.004*\"smiley\" + '\n",
      "  '0.004*\"revisions\" + 0.004*\"highway\" + 0.003*\"fuckin\" + 0.003*\"rabbit\" + '\n",
      "  '0.003*\"manhattan\" + 0.003*\"trailer\"'),\n",
      " (4,\n",
      "  '0.018*\"ship\" + 0.008*\"boat\" + 0.007*\"monitor\" + 0.006*\"helicopter\" + '\n",
      "  '0.005*\"bomb\" + 0.005*\"weapons\" + 0.004*\"target\" + 0.004*\"panel\" + '\n",
      "  '0.004*\"vehicle\" + 0.004*\"military\"')]\n",
      "using no_below = 20 and no_above = 0.5\n",
      "[(0,\n",
      "  '0.006*\"hotel\" + 0.006*\"madison\" + 0.006*\"smiley\" + 0.006*\"revisions\" + '\n",
      "  '0.005*\"highway\" + 0.005*\"fuckin\" + 0.005*\"continuing\" + 0.004*\"elevator\" + '\n",
      "  '0.004*\"trailer\" + 0.003*\"trunk\"'),\n",
      " (1,\n",
      "  '0.004*\"continuous\" + 0.004*\"august\" + 0.003*\"rabbit\" + 0.002*\"alabama\" + '\n",
      "  '0.002*\"restaurant\" + 0.002*\"alright\" + 0.002*\"babe\" + 0.002*\"writers\" + '\n",
      "  '0.002*\"porch\" + 0.002*\"letter\"'),\n",
      " (2,\n",
      "  '0.013*\"ship\" + 0.013*\"deck\" + 0.010*\"boat\" + 0.009*\"bridge\" + 0.007*\"crew\" '\n",
      "  '+ 0.007*\"plane\" + 0.005*\"monitor\" + 0.005*\"weapons\" + 0.004*\"helicopter\" + '\n",
      "  '0.004*\"steel\"'),\n",
      " (3,\n",
      "  '0.017*\"august\" + 0.015*\"horses\" + 0.012*\"german\" + 0.012*\"prince\" + '\n",
      "  '0.011*\"army\" + 0.010*\"camp\" + 0.010*\"tent\" + 0.009*\"village\" + '\n",
      "  '0.008*\"hitler\" + 0.007*\"shall\"'),\n",
      " (4,\n",
      "  '0.014*\"willow\" + 0.005*\"buzz\" + 0.005*\"snow\" + 0.004*\"cage\" + 0.003*\"woods\" '\n",
      "  '+ 0.003*\"bird\" + 0.003*\"crow\" + 0.002*\"thunder\" + 0.002*\"flashlight\" + '\n",
      "  '0.002*\"rooster\"')]\n",
      "using no_below = 20 and no_above = 0.6\n"
     ]
    },
    {
     "name": "stderr",
     "output_type": "stream",
     "text": [
      "WARNING:gensim.models.ldamodel:updated prior is not positive\n"
     ]
    },
    {
     "name": "stdout",
     "output_type": "stream",
     "text": [
      "[(0,\n",
      "  '0.028*\"ship\" + 0.025*\"deck\" + 0.020*\"boat\" + 0.015*\"crew\" + 0.014*\"plane\" + '\n",
      "  '0.011*\"alabama\" + 0.009*\"bridge\" + 0.008*\"military\" + 0.007*\"helicopter\" + '\n",
      "  '0.006*\"bomb\"'),\n",
      " (1,\n",
      "  '0.004*\"horses\" + 0.004*\"stage\" + 0.004*\"tent\" + 0.003*\"prince\" + '\n",
      "  '0.003*\"perhaps\" + 0.003*\"writers\" + 0.003*\"german\" + 0.003*\"snow\" + '\n",
      "  '0.002*\"cannot\" + 0.002*\"shall\"'),\n",
      " (2,\n",
      "  '0.005*\"train\" + 0.003*\"corridor\" + 0.003*\"desert\" + 0.003*\"steel\" + '\n",
      "  '0.003*\"bridge\" + 0.003*\"tunnel\" + 0.002*\"bullets\" + 0.002*\"rifle\" + '\n",
      "  '0.002*\"guns\" + 0.002*\"mask\"'),\n",
      " (3,\n",
      "  '0.008*\"apartment\" + 0.005*\"hotel\" + 0.003*\"madison\" + 0.003*\"bank\" + '\n",
      "  '0.003*\"smiley\" + 0.003*\"photo\" + 0.003*\"club\" + 0.003*\"fuckin\" + '\n",
      "  '0.003*\"manhattan\" + 0.003*\"dollars\"'),\n",
      " (4,\n",
      "  '0.014*\"willow\" + 0.006*\"august\" + 0.006*\"buzz\" + 0.006*\"continuous\" + '\n",
      "  '0.005*\"revisions\" + 0.004*\"highway\" + 0.004*\"rabbit\" + 0.003*\"yellow\" + '\n",
      "  '0.003*\"trailer\" + 0.003*\"porch\"')]\n",
      "using no_below = 20 and no_above = 0.7\n"
     ]
    },
    {
     "name": "stderr",
     "output_type": "stream",
     "text": [
      "WARNING:gensim.models.ldamodel:updated prior is not positive\n"
     ]
    },
    {
     "name": "stdout",
     "output_type": "stream",
     "text": [
      "[(0,\n",
      "  '0.009*\"ship\" + 0.009*\"deck\" + 0.007*\"boat\" + 0.007*\"bridge\" + 0.005*\"crew\" '\n",
      "  '+ 0.004*\"tunnel\" + 0.004*\"surface\" + 0.004*\"steel\" + 0.003*\"desert\" + '\n",
      "  '0.003*\"base\"'),\n",
      " (1,\n",
      "  '0.005*\"continuous\" + 0.005*\"apartment\" + 0.004*\"fucking\" + 0.004*\"smiley\" + '\n",
      "  '0.004*\"ball\" + 0.004*\"evening\" + 0.003*\"wanna\" + 0.003*\"honey\" + '\n",
      "  '0.003*\"movie\" + 0.003*\"beer\"'),\n",
      " (2,\n",
      "  '0.009*\"willow\" + 0.004*\"towards\" + 0.004*\"buzz\" + 0.004*\"wild\" + '\n",
      "  '0.004*\"snow\" + 0.003*\"tree\" + 0.003*\"train\" + 0.003*\"rain\" + 0.003*\"bird\" + '\n",
      "  '0.003*\"trees\"'),\n",
      " (3,\n",
      "  '0.013*\"angle\" + 0.008*\"august\" + 0.008*\"truck\" + 0.006*\"bank\" + '\n",
      "  '0.006*\"apartment\" + 0.006*\"madison\" + 0.005*\"revisions\" + 0.004*\"highway\" + '\n",
      "  '0.004*\"trailer\" + 0.003*\"hotel\"'),\n",
      " (4,\n",
      "  '0.005*\"alabama\" + 0.004*\"prince\" + 0.004*\"country\" + 0.004*\"german\" + '\n",
      "  '0.003*\"writers\" + 0.003*\"american\" + 0.003*\"horses\" + 0.003*\"army\" + '\n",
      "  '0.003*\"perhaps\" + 0.003*\"letter\"')]\n",
      "using no_below = 20 and no_above = 0.8\n"
     ]
    },
    {
     "name": "stderr",
     "output_type": "stream",
     "text": [
      "WARNING:gensim.models.ldamodel:updated prior is not positive\n"
     ]
    },
    {
     "name": "stdout",
     "output_type": "stream",
     "text": [
      "[(0,\n",
      "  '0.008*\"willow\" + 0.004*\"wind\" + 0.004*\"road\" + 0.003*\"snow\" + '\n",
      "  '0.003*\"towards\" + 0.003*\"wild\" + 0.003*\"tree\" + 0.003*\"trees\" + '\n",
      "  '0.003*\"glances\" + 0.003*\"beside\"'),\n",
      " (1,\n",
      "  '0.005*\"school\" + 0.003*\"party\" + 0.003*\"continuous\" + 0.003*\"game\" + '\n",
      "  '0.003*\"evening\" + 0.003*\"ball\" + 0.003*\"apartment\" + 0.002*\"hallway\" + '\n",
      "  '0.002*\"coffee\" + 0.002*\"bottle\"'),\n",
      " (2,\n",
      "  '0.009*\"august\" + 0.005*\"city\" + 0.005*\"alabama\" + 0.004*\"american\" + '\n",
      "  '0.004*\"prince\" + 0.004*\"train\" + 0.004*\"country\" + 0.004*\"german\" + '\n",
      "  '0.003*\"fight\" + 0.003*\"army\"'),\n",
      " (3,\n",
      "  '0.010*\"ship\" + 0.010*\"deck\" + 0.007*\"boat\" + 0.007*\"bridge\" + 0.005*\"crew\" '\n",
      "  '+ 0.005*\"space\" + 0.005*\"metal\" + 0.005*\"speed\" + 0.004*\"steel\" + '\n",
      "  '0.004*\"power\"'),\n",
      " (4,\n",
      "  '0.009*\"angle\" + 0.006*\"truck\" + 0.005*\"apartment\" + 0.005*\"cars\" + '\n",
      "  '0.005*\"gotta\" + 0.004*\"bank\" + 0.004*\"madison\" + 0.004*\"smiley\" + '\n",
      "  '0.004*\"revisions\" + 0.004*\"road\"')]\n",
      "using no_below = 30 and no_above = 0.2\n"
     ]
    },
    {
     "name": "stderr",
     "output_type": "stream",
     "text": [
      "WARNING:gensim.models.ldamodel:updated prior is not positive\n",
      "WARNING:gensim.models.ldamodel:updated prior is not positive\n",
      "WARNING:gensim.models.ldamodel:updated prior is not positive\n"
     ]
    },
    {
     "name": "stdout",
     "output_type": "stream",
     "text": [
      "[(0,\n",
      "  '0.049*\"august\" + 0.020*\"rooster\" + 0.015*\"prince\" + 0.014*\"german\" + '\n",
      "  '0.014*\"tent\" + 0.013*\"barn\" + 0.009*\"hitler\" + 0.008*\"circus\" + '\n",
      "  '0.007*\"colt\" + 0.007*\"texas\"'),\n",
      " (1,\n",
      "  '0.007*\"babe\" + 0.007*\"writers\" + 0.005*\"london\" + 0.004*\"gallery\" + '\n",
      "  '0.004*\"goose\" + 0.004*\"superior\" + 0.003*\"laden\" + 0.003*\"corn\" + '\n",
      "  '0.003*\"donuts\" + 0.003*\"stadium\"'),\n",
      " (2,\n",
      "  '0.008*\"madison\" + 0.008*\"revisions\" + 0.006*\"manhattan\" + 0.006*\"trailer\" + '\n",
      "  '0.004*\"closeup\" + 0.003*\"warehouse\" + 0.003*\"korean\" + 0.002*\"ford\" + '\n",
      "  '0.002*\"golf\" + 0.002*\"subway\"'),\n",
      " (3,\n",
      "  '0.012*\"rabbit\" + 0.007*\"crow\" + 0.005*\"sword\" + 0.003*\"port\" + '\n",
      "  '0.003*\"branches\" + 0.003*\"hatch\" + 0.003*\"cockpit\" + 0.003*\"sail\" + '\n",
      "  '0.003*\"canyon\" + 0.003*\"cave\"'),\n",
      " (4,\n",
      "  '0.014*\"jungle\" + 0.014*\"thug\" + 0.014*\"chopper\" + 0.013*\"leaf\" + '\n",
      "  '0.012*\"missile\" + 0.011*\"compound\" + 0.011*\"transport\" + 0.010*\"wham\" + '\n",
      "  '0.010*\"console\" + 0.009*\"trench\"')]\n",
      "using no_below = 30 and no_above = 0.3\n",
      "[(0,\n",
      "  '0.008*\"august\" + 0.005*\"madison\" + 0.004*\"manhattan\" + 0.002*\"closeup\" + '\n",
      "  '0.002*\"motel\" + 0.002*\"sword\" + 0.002*\"somethin\" + 0.001*\"camel\" + '\n",
      "  '0.001*\"briefcase\" + 0.001*\"warehouse\"'),\n",
      " (1,\n",
      "  '0.012*\"revisions\" + 0.009*\"trailer\" + 0.006*\"bike\" + 0.006*\"cabin\" + '\n",
      "  '0.006*\"goose\" + 0.005*\"chill\" + 0.004*\"korean\" + 0.004*\"rail\" + '\n",
      "  '0.004*\"barn\" + 0.003*\"thug\"'),\n",
      " (2,\n",
      "  '0.011*\"rabbit\" + 0.009*\"rooster\" + 0.008*\"tent\" + 0.007*\"prince\" + '\n",
      "  '0.007*\"babe\" + 0.006*\"writers\" + 0.006*\"german\" + 0.005*\"circus\" + '\n",
      "  '0.004*\"london\" + 0.004*\"hitler\"'),\n",
      " (3,\n",
      "  '0.044*\"ship\" + 0.014*\"helicopter\" + 0.013*\"bomb\" + 0.008*\"chopper\" + '\n",
      "  '0.008*\"rover\" + 0.008*\"cockpit\" + 0.008*\"camp\" + 0.007*\"missile\" + '\n",
      "  '0.007*\"harbor\" + 0.007*\"embassy\"'),\n",
      " (4,\n",
      "  '0.008*\"forest\" + 0.008*\"desert\" + 0.008*\"crow\" + 0.007*\"horses\" + '\n",
      "  '0.007*\"wagon\" + 0.006*\"village\" + 0.005*\"leaf\" + 0.003*\"shield\" + '\n",
      "  '0.003*\"canyon\" + 0.003*\"cave\"')]\n",
      "using no_below = 30 and no_above = 0.4\n",
      "[(0,\n",
      "  '0.009*\"ship\" + 0.006*\"revisions\" + 0.005*\"buzz\" + 0.005*\"boat\" + '\n",
      "  '0.004*\"monitor\" + 0.004*\"continuous\" + 0.003*\"trailer\" + 0.003*\"flashlight\" '\n",
      "  '+ 0.003*\"highway\" + 0.003*\"tunnel\"'),\n",
      " (1,\n",
      "  '0.034*\"august\" + 0.011*\"rooster\" + 0.010*\"prince\" + 0.010*\"german\" + '\n",
      "  '0.009*\"boat\" + 0.009*\"camp\" + 0.008*\"goose\" + 0.007*\"interior\" + '\n",
      "  '0.006*\"hitler\" + 0.006*\"london\"'),\n",
      " (2,\n",
      "  '0.006*\"continuous\" + 0.004*\"rabbit\" + 0.004*\"fuckin\" + 0.004*\"madison\" + '\n",
      "  '0.003*\"manhattan\" + 0.002*\"babe\" + 0.002*\"writers\" + 0.002*\"wedding\" + '\n",
      "  '0.002*\"motel\" + 0.002*\"outta\"'),\n",
      " (3,\n",
      "  '0.020*\"snow\" + 0.011*\"forest\" + 0.009*\"woods\" + 0.009*\"crow\" + 0.008*\"barn\" '\n",
      "  '+ 0.008*\"cage\" + 0.008*\"horses\" + 0.008*\"thunder\" + 0.008*\"tent\" + '\n",
      "  '0.008*\"wagon\"'),\n",
      " (4,\n",
      "  '0.004*\"basement\" + 0.004*\"buzz\" + 0.003*\"closeup\" + 0.002*\"gazes\" + '\n",
      "  '0.002*\"laden\" + 0.002*\"photograph\" + 0.002*\"porch\" + 0.002*\"staircase\" + '\n",
      "  '0.002*\"frowns\" + 0.002*\"sunny\"')]\n",
      "using no_below = 30 and no_above = 0.5\n"
     ]
    },
    {
     "name": "stderr",
     "output_type": "stream",
     "text": [
      "WARNING:gensim.models.ldamodel:updated prior is not positive\n"
     ]
    },
    {
     "name": "stdout",
     "output_type": "stream",
     "text": [
      "[(0,\n",
      "  '0.006*\"hotel\" + 0.006*\"continuous\" + 0.004*\"madison\" + 0.004*\"fuckin\" + '\n",
      "  '0.003*\"manhattan\" + 0.003*\"alright\" + 0.003*\"television\" + 0.003*\"lobby\" + '\n",
      "  '0.002*\"elevator\" + 0.002*\"trunk\"'),\n",
      " (1,\n",
      "  '0.007*\"buzz\" + 0.005*\"revisions\" + 0.004*\"snow\" + 0.003*\"flashlight\" + '\n",
      "  '0.003*\"steel\" + 0.003*\"cage\" + 0.003*\"woods\" + 0.003*\"mask\" + 0.003*\"beam\" '\n",
      "  '+ 0.003*\"bullets\"'),\n",
      " (2,\n",
      "  '0.016*\"august\" + 0.012*\"deck\" + 0.012*\"ship\" + 0.011*\"boat\" + '\n",
      "  '0.009*\"bridge\" + 0.008*\"plane\" + 0.008*\"crew\" + 0.005*\"camp\" + '\n",
      "  '0.005*\"prince\" + 0.005*\"beach\"'),\n",
      " (3,\n",
      "  '0.005*\"rabbit\" + 0.004*\"rooster\" + 0.004*\"restaurant\" + 0.003*\"babe\" + '\n",
      "  '0.003*\"writers\" + 0.003*\"wedding\" + 0.002*\"continuing\" + 0.002*\"letter\" + '\n",
      "  '0.002*\"shall\" + 0.002*\"farm\"'),\n",
      " (4,\n",
      "  '0.012*\"bird\" + 0.011*\"forest\" + 0.011*\"crow\" + 0.010*\"desert\" + '\n",
      "  '0.009*\"horses\" + 0.009*\"tent\" + 0.008*\"sword\" + 0.008*\"village\" + '\n",
      "  '0.007*\"mountain\" + 0.007*\"battle\"')]\n",
      "using no_below = 30 and no_above = 0.6\n"
     ]
    },
    {
     "name": "stderr",
     "output_type": "stream",
     "text": [
      "WARNING:gensim.models.ldamodel:updated prior is not positive\n"
     ]
    },
    {
     "name": "stdout",
     "output_type": "stream",
     "text": [
      "[(0,\n",
      "  '0.009*\"apartment\" + 0.006*\"continuous\" + 0.005*\"hotel\" + 0.004*\"august\" + '\n",
      "  '0.004*\"bank\" + 0.004*\"beer\" + 0.004*\"shooting\" + 0.004*\"club\" + '\n",
      "  '0.003*\"honey\" + 0.003*\"fuckin\"'),\n",
      " (1,\n",
      "  '0.026*\"ship\" + 0.025*\"deck\" + 0.018*\"boat\" + 0.014*\"crew\" + 0.014*\"plane\" + '\n",
      "  '0.012*\"bridge\" + 0.007*\"military\" + 0.007*\"helicopter\" + 0.006*\"bomb\" + '\n",
      "  '0.006*\"base\"'),\n",
      " (2,\n",
      "  '0.010*\"snow\" + 0.007*\"trees\" + 0.007*\"bird\" + 0.006*\"tent\" + '\n",
      "  '0.006*\"rooster\" + 0.005*\"cage\" + 0.005*\"forest\" + 0.005*\"woods\" + '\n",
      "  '0.005*\"horses\" + 0.005*\"crow\"'),\n",
      " (3,\n",
      "  '0.004*\"august\" + 0.003*\"prince\" + 0.003*\"stage\" + 0.003*\"german\" + '\n",
      "  '0.003*\"perhaps\" + 0.002*\"train\" + 0.002*\"writers\" + 0.002*\"letter\" + '\n",
      "  '0.002*\"circus\" + 0.002*\"cannot\"'),\n",
      " (4,\n",
      "  '0.005*\"buzz\" + 0.004*\"train\" + 0.004*\"madison\" + 0.004*\"revisions\" + '\n",
      "  '0.003*\"corridor\" + 0.003*\"continuing\" + 0.002*\"guns\" + 0.002*\"cell\" + '\n",
      "  '0.002*\"yellow\" + 0.002*\"engine\"')]\n",
      "using no_below = 30 and no_above = 0.7\n"
     ]
    },
    {
     "name": "stderr",
     "output_type": "stream",
     "text": [
      "WARNING:gensim.models.ldamodel:updated prior is not positive\n"
     ]
    },
    {
     "name": "stdout",
     "output_type": "stream",
     "text": [
      "[(0,\n",
      "  '0.025*\"ship\" + 0.022*\"boat\" + 0.021*\"deck\" + 0.012*\"crew\" + 0.011*\"snow\" + '\n",
      "  '0.010*\"camp\" + 0.009*\"horses\" + 0.009*\"bird\" + 0.008*\"bridge\" + '\n",
      "  '0.008*\"field\"'),\n",
      " (1,\n",
      "  '0.005*\"towards\" + 0.004*\"buzz\" + 0.003*\"roof\" + 0.003*\"knife\" + '\n",
      "  '0.003*\"cage\" + 0.003*\"beneath\" + 0.003*\"train\" + 0.002*\"trees\" + '\n",
      "  '0.002*\"leaps\" + 0.002*\"tree\"'),\n",
      " (2,\n",
      "  '0.015*\"angle\" + 0.008*\"august\" + 0.007*\"madison\" + 0.007*\"plane\" + '\n",
      "  '0.005*\"american\" + 0.004*\"train\" + 0.004*\"monitor\" + 0.004*\"bank\" + '\n",
      "  '0.004*\"interior\" + 0.004*\"elevator\"'),\n",
      " (3,\n",
      "  '0.004*\"evening\" + 0.003*\"august\" + 0.002*\"stage\" + 0.002*\"wild\" + '\n",
      "  '0.002*\"angle\" + 0.002*\"letter\" + 0.002*\"prince\" + 0.002*\"country\" + '\n",
      "  '0.002*\"dress\" + 0.002*\"dance\"'),\n",
      " (4,\n",
      "  '0.007*\"apartment\" + 0.006*\"fucking\" + 0.005*\"continuous\" + 0.004*\"store\" + '\n",
      "  '0.004*\"wanna\" + 0.004*\"revisions\" + 0.004*\"parking\" + 0.003*\"ball\" + '\n",
      "  '0.003*\"beer\" + 0.003*\"shooting\"')]\n",
      "using no_below = 30 and no_above = 0.8\n"
     ]
    },
    {
     "name": "stderr",
     "output_type": "stream",
     "text": [
      "WARNING:gensim.models.ldamodel:updated prior is not positive\n"
     ]
    },
    {
     "name": "stdout",
     "output_type": "stream",
     "text": [
      "[(0,\n",
      "  '0.004*\"truck\" + 0.004*\"speed\" + 0.004*\"metal\" + 0.004*\"fires\" + '\n",
      "  '0.003*\"train\" + 0.003*\"guns\" + 0.003*\"bridge\" + 0.003*\"buzz\" + 0.003*\"city\" '\n",
      "  '+ 0.003*\"towards\"'),\n",
      " (1,\n",
      "  '0.004*\"august\" + 0.003*\"madison\" + 0.003*\"city\" + 0.003*\"manhattan\" + '\n",
      "  '0.003*\"country\" + 0.002*\"train\" + 0.002*\"women\" + 0.002*\"american\" + '\n",
      "  '0.002*\"true\" + 0.002*\"news\"'),\n",
      " (2,\n",
      "  '0.006*\"apartment\" + 0.005*\"gotta\" + 0.005*\"school\" + 0.004*\"fucking\" + '\n",
      "  '0.004*\"coffee\" + 0.003*\"continuous\" + 0.003*\"bottle\" + 0.003*\"hallway\" + '\n",
      "  '0.003*\"store\" + 0.003*\"angle\"'),\n",
      " (3,\n",
      "  '0.089*\"angle\" + 0.065*\"ship\" + 0.059*\"boat\" + 0.058*\"deck\" + 0.033*\"crew\" + '\n",
      "  '0.028*\"plane\" + 0.022*\"cabin\" + 0.014*\"interior\" + 0.014*\"goose\" + '\n",
      "  '0.012*\"bridge\"'),\n",
      " (4,\n",
      "  '0.006*\"wind\" + 0.005*\"road\" + 0.004*\"snow\" + 0.004*\"wild\" + 0.004*\"tree\" + '\n",
      "  '0.004*\"trees\" + 0.003*\"towards\" + 0.003*\"bird\" + 0.003*\"beside\" + '\n",
      "  '0.003*\"rain\"')]\n",
      "using no_below = 40 and no_above = 0.2\n"
     ]
    },
    {
     "name": "stderr",
     "output_type": "stream",
     "text": [
      "WARNING:gensim.models.ldamodel:updated prior is not positive\n"
     ]
    },
    {
     "name": "stdout",
     "output_type": "stream",
     "text": [
      "[(0,\n",
      "  '0.009*\"rabbit\" + 0.007*\"trailer\" + 0.003*\"subway\" + 0.003*\"chopper\" + '\n",
      "  '0.003*\"port\" + 0.003*\"mustang\" + 0.003*\"hatch\" + 0.003*\"cockpit\" + '\n",
      "  '0.002*\"stranded\" + 0.002*\"missile\"'),\n",
      " (1,\n",
      "  '0.019*\"tent\" + 0.017*\"crow\" + 0.009*\"leaf\" + 0.008*\"jungle\" + '\n",
      "  '0.007*\"branches\" + 0.007*\"cave\" + 0.006*\"trench\" + 0.006*\"warriors\" + '\n",
      "  '0.006*\"canyon\" + 0.006*\"creatures\"'),\n",
      " (2,\n",
      "  '0.022*\"prince\" + 0.021*\"german\" + 0.018*\"barn\" + 0.015*\"sword\" + '\n",
      "  '0.009*\"harbor\" + 0.009*\"texas\" + 0.009*\"arena\" + 0.009*\"loan\" + '\n",
      "  '0.008*\"superior\" + 0.008*\"casino\"'),\n",
      " (3,\n",
      "  '0.010*\"closeup\" + 0.007*\"warehouse\" + 0.007*\"ford\" + 0.006*\"laden\" + '\n",
      "  '0.006*\"thug\" + 0.006*\"headquarters\" + 0.005*\"roach\" + 0.005*\"sedan\" + '\n",
      "  '0.005*\"thru\" + 0.005*\"cubicle\"'),\n",
      " (4,\n",
      "  '0.023*\"august\" + 0.008*\"rooster\" + 0.008*\"manhattan\" + 0.006*\"babe\" + '\n",
      "  '0.006*\"writers\" + 0.006*\"goose\" + 0.005*\"circus\" + 0.004*\"london\" + '\n",
      "  '0.004*\"camel\" + 0.003*\"golf\"')]\n",
      "using no_below = 40 and no_above = 0.3\n",
      "[(0,\n",
      "  '0.055*\"august\" + 0.025*\"horses\" + 0.025*\"tent\" + 0.021*\"camp\" + '\n",
      "  '0.021*\"prince\" + 0.020*\"german\" + 0.015*\"goose\" + 0.015*\"forest\" + '\n",
      "  '0.014*\"sword\" + 0.013*\"village\"'),\n",
      " (1,\n",
      "  '0.007*\"manhattan\" + 0.004*\"babe\" + 0.004*\"closeup\" + 0.003*\"august\" + '\n",
      "  '0.003*\"studio\" + 0.003*\"somethin\" + 0.003*\"circus\" + 0.003*\"limo\" + '\n",
      "  '0.003*\"suite\" + 0.002*\"golf\"'),\n",
      " (2,\n",
      "  '0.013*\"rooster\" + 0.010*\"crow\" + 0.009*\"writers\" + 0.007*\"leaf\" + '\n",
      "  '0.007*\"barn\" + 0.007*\"rabbit\" + 0.006*\"farm\" + 0.006*\"london\" + '\n",
      "  '0.005*\"laden\" + 0.005*\"courtyard\"'),\n",
      " (3,\n",
      "  '0.003*\"trailer\" + 0.003*\"chill\" + 0.003*\"rabbit\" + 0.003*\"bike\" + '\n",
      "  '0.002*\"cabin\" + 0.002*\"mall\" + 0.002*\"squad\" + 0.002*\"toys\" + 0.002*\"rail\" '\n",
      "  '+ 0.002*\"camel\"'),\n",
      " (4,\n",
      "  '0.035*\"ship\" + 0.012*\"helicopter\" + 0.010*\"bomb\" + 0.010*\"desert\" + '\n",
      "  '0.007*\"chopper\" + 0.006*\"device\" + 0.006*\"jungle\" + 0.006*\"hatch\" + '\n",
      "  '0.006*\"cockpit\" + 0.006*\"monitors\"')]\n",
      "using no_below = 40 and no_above = 0.4\n",
      "[(0,\n",
      "  '0.012*\"buzz\" + 0.009*\"highway\" + 0.008*\"fuckin\" + 0.008*\"rabbit\" + '\n",
      "  '0.007*\"trailer\" + 0.005*\"motel\" + 0.005*\"outta\" + 0.005*\"porch\" + '\n",
      "  '0.005*\"continuous\" + 0.005*\"bike\"'),\n",
      " (1,\n",
      "  '0.005*\"continuous\" + 0.004*\"manhattan\" + 0.002*\"writers\" + 0.002*\"wedding\" '\n",
      "  '+ 0.002*\"babe\" + 0.002*\"taxi\" + 0.002*\"basement\" + 0.002*\"birthday\" + '\n",
      "  '0.002*\"london\" + 0.002*\"camel\"'),\n",
      " (2,\n",
      "  '0.014*\"ship\" + 0.006*\"tunnel\" + 0.005*\"monitor\" + 0.005*\"weapons\" + '\n",
      "  '0.004*\"helicopter\" + 0.004*\"beam\" + 0.004*\"bomb\" + 0.004*\"cabin\" + '\n",
      "  '0.004*\"sword\" + 0.003*\"desert\"'),\n",
      " (3,\n",
      "  '0.010*\"snow\" + 0.006*\"horses\" + 0.006*\"rooster\" + 0.005*\"cage\" + '\n",
      "  '0.005*\"forest\" + 0.005*\"thunder\" + 0.005*\"crow\" + 0.004*\"woods\" + '\n",
      "  '0.004*\"wagon\" + 0.004*\"camp\"'),\n",
      " (4,\n",
      "  '0.036*\"august\" + 0.025*\"boat\" + 0.011*\"prince\" + 0.011*\"german\" + '\n",
      "  '0.009*\"interior\" + 0.008*\"government\" + 0.007*\"airport\" + 0.007*\"national\" '\n",
      "  '+ 0.006*\"states\" + 0.006*\"lake\"')]\n",
      "using no_below = 40 and no_above = 0.5\n"
     ]
    },
    {
     "name": "stderr",
     "output_type": "stream",
     "text": [
      "WARNING:gensim.models.ldamodel:updated prior is not positive\n"
     ]
    },
    {
     "name": "stdout",
     "output_type": "stream",
     "text": [
      "[(0,\n",
      "  '0.006*\"monitor\" + 0.006*\"plane\" + 0.005*\"steel\" + 0.005*\"deck\" + '\n",
      "  '0.005*\"bullets\" + 0.005*\"weapons\" + 0.005*\"helicopter\" + 0.004*\"bomb\" + '\n",
      "  '0.004*\"weapon\" + 0.004*\"vehicle\"'),\n",
      " (1,\n",
      "  '0.011*\"snow\" + 0.006*\"forest\" + 0.006*\"crow\" + 0.006*\"cage\" + '\n",
      "  '0.005*\"thunder\" + 0.005*\"bird\" + 0.004*\"village\" + 0.004*\"mountain\" + '\n",
      "  '0.004*\"sword\" + 0.004*\"horses\"'),\n",
      " (2,\n",
      "  '0.007*\"continuous\" + 0.006*\"buzz\" + 0.005*\"rabbit\" + 0.004*\"highway\" + '\n",
      "  '0.004*\"fuckin\" + 0.004*\"alright\" + 0.003*\"trunk\" + 0.003*\"porch\" + '\n",
      "  '0.003*\"draft\" + 0.003*\"trailer\"'),\n",
      " (3,\n",
      "  '0.013*\"august\" + 0.010*\"ship\" + 0.009*\"boat\" + 0.008*\"bridge\" + '\n",
      "  '0.006*\"deck\" + 0.005*\"rooster\" + 0.005*\"crew\" + 0.004*\"restaurant\" + '\n",
      "  '0.004*\"continuing\" + 0.004*\"camp\"'),\n",
      " (4,\n",
      "  '0.009*\"hotel\" + 0.004*\"manhattan\" + 0.003*\"writers\" + 0.003*\"elevator\" + '\n",
      "  '0.003*\"lobby\" + 0.003*\"letter\" + 0.003*\"telephone\" + 0.003*\"television\" + '\n",
      "  '0.003*\"taxi\" + 0.003*\"court\"')]\n",
      "using no_below = 40 and no_above = 0.6\n"
     ]
    },
    {
     "name": "stderr",
     "output_type": "stream",
     "text": [
      "WARNING:gensim.models.ldamodel:updated prior is not positive\n"
     ]
    },
    {
     "name": "stdout",
     "output_type": "stream",
     "text": [
      "[(0,\n",
      "  '0.011*\"ship\" + 0.010*\"deck\" + 0.007*\"bridge\" + 0.005*\"corridor\" + '\n",
      "  '0.005*\"steel\" + 0.005*\"crew\" + 0.005*\"tunnel\" + 0.004*\"surface\" + '\n",
      "  '0.004*\"monitor\" + 0.004*\"weapons\"'),\n",
      " (1,\n",
      "  '0.009*\"apartment\" + 0.006*\"continuous\" + 0.003*\"beer\" + 0.003*\"highway\" + '\n",
      "  '0.003*\"fuckin\" + 0.003*\"continuing\" + 0.003*\"rabbit\" + 0.003*\"club\" + '\n",
      "  '0.003*\"alright\" + 0.003*\"honey\"'),\n",
      " (2,\n",
      "  '0.015*\"august\" + 0.010*\"hotel\" + 0.009*\"train\" + 0.009*\"plane\" + '\n",
      "  '0.008*\"american\" + 0.007*\"manhattan\" + 0.007*\"bank\" + 0.005*\"conference\" + '\n",
      "  '0.005*\"german\" + 0.005*\"shooting\"'),\n",
      " (3,\n",
      "  '0.003*\"stage\" + 0.002*\"movie\" + 0.002*\"writers\" + 0.002*\"perhaps\" + '\n",
      "  '0.002*\"wedding\" + 0.002*\"dissolve\" + 0.002*\"dear\" + 0.002*\"letter\" + '\n",
      "  '0.002*\"shall\" + 0.002*\"dream\"'),\n",
      " (4,\n",
      "  '0.008*\"snow\" + 0.007*\"boat\" + 0.007*\"buzz\" + 0.006*\"trees\" + '\n",
      "  '0.005*\"rooster\" + 0.005*\"bird\" + 0.005*\"cage\" + 0.005*\"tent\" + '\n",
      "  '0.005*\"woods\" + 0.004*\"rain\"')]\n",
      "using no_below = 40 and no_above = 0.7\n"
     ]
    },
    {
     "name": "stderr",
     "output_type": "stream",
     "text": [
      "WARNING:gensim.models.ldamodel:updated prior is not positive\n"
     ]
    },
    {
     "name": "stdout",
     "output_type": "stream",
     "text": [
      "[(0,\n",
      "  '0.004*\"angle\" + 0.004*\"evening\" + 0.004*\"prince\" + 0.003*\"train\" + '\n",
      "  '0.003*\"writers\" + 0.003*\"perhaps\" + 0.003*\"stage\" + 0.003*\"german\" + '\n",
      "  '0.003*\"rather\" + 0.003*\"country\"'),\n",
      " (1,\n",
      "  '0.015*\"ship\" + 0.015*\"deck\" + 0.011*\"boat\" + 0.008*\"plane\" + 0.008*\"crew\" + '\n",
      "  '0.008*\"bridge\" + 0.005*\"weapons\" + 0.005*\"military\" + 0.005*\"helicopter\" + '\n",
      "  '0.005*\"american\"'),\n",
      " (2,\n",
      "  '0.006*\"august\" + 0.004*\"hotel\" + 0.004*\"fucking\" + 0.004*\"apartment\" + '\n",
      "  '0.004*\"continuous\" + 0.003*\"ball\" + 0.003*\"wanna\" + 0.003*\"club\" + '\n",
      "  '0.003*\"shooting\" + 0.003*\"evening\"'),\n",
      " (3,\n",
      "  '0.007*\"snow\" + 0.006*\"wild\" + 0.006*\"tree\" + 0.005*\"trees\" + 0.004*\"bird\" + '\n",
      "  '0.004*\"cage\" + 0.004*\"tent\" + 0.004*\"rooster\" + 0.004*\"rock\" + '\n",
      "  '0.004*\"towards\"'),\n",
      " (4,\n",
      "  '0.010*\"angle\" + 0.006*\"truck\" + 0.005*\"buzz\" + 0.005*\"train\" + '\n",
      "  '0.004*\"towards\" + 0.004*\"apartment\" + 0.003*\"continuing\" + 0.003*\"corridor\" '\n",
      "  '+ 0.003*\"highway\" + 0.003*\"roof\"')]\n",
      "using no_below = 40 and no_above = 0.8\n"
     ]
    },
    {
     "name": "stderr",
     "output_type": "stream",
     "text": [
      "WARNING:gensim.models.ldamodel:updated prior is not positive\n"
     ]
    },
    {
     "name": "stdout",
     "output_type": "stream",
     "text": [
      "[(0,\n",
      "  '0.021*\"ship\" + 0.020*\"deck\" + 0.018*\"boat\" + 0.013*\"bridge\" + 0.011*\"crew\" '\n",
      "  '+ 0.008*\"plane\" + 0.006*\"power\" + 0.006*\"space\" + 0.006*\"earth\" + '\n",
      "  '0.005*\"surface\"'),\n",
      " (1,\n",
      "  '0.006*\"wild\" + 0.006*\"snow\" + 0.005*\"road\" + 0.005*\"tree\" + 0.004*\"rooster\" '\n",
      "  '+ 0.004*\"bird\" + 0.004*\"horses\" + 0.003*\"tent\" + 0.003*\"woods\" + '\n",
      "  '0.003*\"prince\"'),\n",
      " (2,\n",
      "  '0.005*\"towards\" + 0.004*\"train\" + 0.004*\"glances\" + 0.004*\"corridor\" + '\n",
      "  '0.003*\"wind\" + 0.003*\"darkness\" + 0.003*\"screams\" + 0.003*\"continuing\" + '\n",
      "  '0.003*\"rises\" + 0.003*\"metal\"'),\n",
      " (3,\n",
      "  '0.005*\"apartment\" + 0.005*\"august\" + 0.005*\"school\" + 0.004*\"hotel\" + '\n",
      "  '0.003*\"coffee\" + 0.003*\"party\" + 0.003*\"evening\" + 0.003*\"bottle\" + '\n",
      "  '0.003*\"game\" + 0.002*\"fucking\"'),\n",
      " (4,\n",
      "  '0.009*\"angle\" + 0.008*\"truck\" + 0.006*\"road\" + 0.006*\"gotta\" + 0.005*\"cars\" '\n",
      "  '+ 0.005*\"continuous\" + 0.004*\"buzz\" + 0.004*\"bank\" + 0.004*\"fuckin\" + '\n",
      "  '0.004*\"shooting\"')]\n",
      "using no_below = 50 and no_above = 0.2\n"
     ]
    },
    {
     "name": "stderr",
     "output_type": "stream",
     "text": [
      "WARNING:gensim.models.ldamodel:updated prior is not positive\n"
     ]
    },
    {
     "name": "stdout",
     "output_type": "stream",
     "text": [
      "[(0,\n",
      "  '0.007*\"manhattan\" + 0.006*\"trailer\" + 0.004*\"goose\" + 0.003*\"sword\" + '\n",
      "  '0.002*\"subway\" + 0.002*\"port\" + 0.002*\"shovel\" + 0.002*\"hatch\" + '\n",
      "  '0.002*\"harbor\" + 0.002*\"cockpit\"'),\n",
      " (1,\n",
      "  '0.037*\"closeup\" + 0.027*\"warehouse\" + 0.023*\"ford\" + 0.020*\"headquarters\" + '\n",
      "  '0.019*\"sedan\" + 0.018*\"cadillac\" + 0.017*\"converted\" + 0.016*\"detectives\" + '\n",
      "  '0.015*\"miami\" + 0.015*\"cocaine\"'),\n",
      " (2,\n",
      "  '0.014*\"crow\" + 0.008*\"leaf\" + 0.007*\"jungle\" + 0.007*\"chopper\" + '\n",
      "  '0.007*\"branches\" + 0.006*\"canyon\" + 0.006*\"cave\" + 0.006*\"mars\" + '\n",
      "  '0.006*\"laser\" + 0.006*\"compound\"'),\n",
      " (3,\n",
      "  '0.030*\"august\" + 0.015*\"rabbit\" + 0.008*\"babe\" + 0.006*\"circus\" + '\n",
      "  '0.004*\"sunny\" + 0.004*\"golf\" + 0.004*\"corn\" + 0.004*\"loan\" + 0.003*\"texas\" '\n",
      "  '+ 0.003*\"potato\"'),\n",
      " (4,\n",
      "  '0.053*\"prince\" + 0.050*\"german\" + 0.047*\"tent\" + 0.044*\"barn\" + '\n",
      "  '0.029*\"london\" + 0.017*\"palace\" + 0.013*\"carriage\" + 0.013*\"british\" + '\n",
      "  '0.013*\"superior\" + 0.012*\"farmhouse\"')]\n",
      "using no_below = 50 and no_above = 0.3\n"
     ]
    },
    {
     "name": "stderr",
     "output_type": "stream",
     "text": [
      "WARNING:gensim.models.ldamodel:updated prior is not positive\n"
     ]
    },
    {
     "name": "stdout",
     "output_type": "stream",
     "text": [
      "[(0,\n",
      "  '0.016*\"august\" + 0.007*\"rabbit\" + 0.007*\"trailer\" + 0.005*\"motel\" + '\n",
      "  '0.004*\"goose\" + 0.004*\"closeup\" + 0.004*\"bike\" + 0.004*\"mall\" + '\n",
      "  '0.003*\"somethin\" + 0.003*\"warehouse\"'),\n",
      " (1,\n",
      "  '0.005*\"manhattan\" + 0.003*\"circus\" + 0.003*\"london\" + 0.002*\"studio\" + '\n",
      "  '0.002*\"babe\" + 0.002*\"gallery\" + 0.002*\"champagne\" + 0.002*\"darling\" + '\n",
      "  '0.002*\"sport\" + 0.002*\"superior\"'),\n",
      " (2,\n",
      "  '0.006*\"crow\" + 0.006*\"cabin\" + 0.004*\"sword\" + 0.003*\"chill\" + 0.003*\"rail\" '\n",
      "  '+ 0.002*\"forest\" + 0.002*\"corpse\" + 0.002*\"canyon\" + 0.002*\"branches\" + '\n",
      "  '0.002*\"subway\"'),\n",
      " (3,\n",
      "  '0.033*\"horses\" + 0.031*\"tent\" + 0.024*\"prince\" + 0.023*\"german\" + '\n",
      "  '0.023*\"camp\" + 0.021*\"barn\" + 0.020*\"farm\" + 0.020*\"village\" + '\n",
      "  '0.016*\"wagon\" + 0.015*\"forest\"'),\n",
      " (4,\n",
      "  '0.033*\"ship\" + 0.011*\"helicopter\" + 0.010*\"bomb\" + 0.006*\"chopper\" + '\n",
      "  '0.006*\"monitors\" + 0.006*\"planet\" + 0.006*\"harbor\" + 0.006*\"cockpit\" + '\n",
      "  '0.006*\"mission\" + 0.006*\"missile\"')]\n",
      "using no_below = 50 and no_above = 0.4\n",
      "[(0,\n",
      "  '0.013*\"snow\" + 0.008*\"horses\" + 0.007*\"tent\" + 0.007*\"cage\" + '\n",
      "  '0.007*\"forest\" + 0.006*\"crow\" + 0.006*\"woods\" + 0.006*\"camp\" + '\n",
      "  '0.006*\"wagon\" + 0.006*\"thunder\"'),\n",
      " (1,\n",
      "  '0.009*\"buzz\" + 0.009*\"continuous\" + 0.006*\"rabbit\" + 0.004*\"flashlight\" + '\n",
      "  '0.004*\"basement\" + 0.004*\"interior\" + 0.003*\"bike\" + 0.003*\"monitor\" + '\n",
      "  '0.003*\"beam\" + 0.003*\"chill\"'),\n",
      " (2,\n",
      "  '0.013*\"highway\" + 0.012*\"fuckin\" + 0.010*\"trailer\" + 0.007*\"motel\" + '\n",
      "  '0.007*\"closeup\" + 0.006*\"mall\" + 0.005*\"killer\" + 0.005*\"warehouse\" + '\n",
      "  '0.005*\"squad\" + 0.005*\"prison\"'),\n",
      " (3,\n",
      "  '0.009*\"august\" + 0.004*\"manhattan\" + 0.003*\"continuous\" + 0.002*\"babe\" + '\n",
      "  '0.002*\"wedding\" + 0.002*\"porch\" + 0.002*\"circus\" + 0.002*\"prince\" + '\n",
      "  '0.002*\"conference\" + 0.002*\"stock\"'),\n",
      " (4,\n",
      "  '0.041*\"ship\" + 0.034*\"boat\" + 0.012*\"military\" + 0.010*\"bomb\" + '\n",
      "  '0.010*\"weapons\" + 0.009*\"helicopter\" + 0.008*\"command\" + 0.007*\"cockpit\" + '\n",
      "  '0.007*\"missile\" + 0.007*\"chopper\"')]\n",
      "using no_below = 50 and no_above = 0.5\n"
     ]
    },
    {
     "name": "stderr",
     "output_type": "stream",
     "text": [
      "WARNING:gensim.models.ldamodel:updated prior is not positive\n"
     ]
    },
    {
     "name": "stdout",
     "output_type": "stream",
     "text": [
      "[(0,\n",
      "  '0.006*\"buzz\" + 0.006*\"snow\" + 0.004*\"bird\" + 0.004*\"cage\" + 0.004*\"rabbit\" '\n",
      "  '+ 0.004*\"woods\" + 0.003*\"tent\" + 0.003*\"forest\" + 0.003*\"crow\" + '\n",
      "  '0.003*\"wagon\"'),\n",
      " (1,\n",
      "  '0.004*\"prince\" + 0.004*\"letter\" + 0.003*\"shall\" + 0.003*\"garden\" + '\n",
      "  '0.003*\"london\" + 0.003*\"circus\" + 0.002*\"rabbit\" + 0.002*\"english\" + '\n",
      "  '0.002*\"gentlemen\" + 0.002*\"horses\"'),\n",
      " (2,\n",
      "  '0.007*\"august\" + 0.006*\"continuous\" + 0.006*\"hotel\" + 0.004*\"fuckin\" + '\n",
      "  '0.003*\"manhattan\" + 0.003*\"highway\" + 0.003*\"alright\" + 0.003*\"restaurant\" '\n",
      "  '+ 0.003*\"television\" + 0.003*\"elevator\"'),\n",
      " (3,\n",
      "  '0.017*\"plane\" + 0.010*\"bullets\" + 0.009*\"military\" + 0.009*\"weapons\" + '\n",
      "  '0.009*\"army\" + 0.008*\"german\" + 0.008*\"firing\" + 0.008*\"bullet\" + '\n",
      "  '0.008*\"government\" + 0.008*\"bomb\"'),\n",
      " (4,\n",
      "  '0.018*\"ship\" + 0.018*\"deck\" + 0.015*\"boat\" + 0.011*\"bridge\" + 0.009*\"crew\" '\n",
      "  '+ 0.007*\"cabin\" + 0.007*\"monitor\" + 0.006*\"steel\" + 0.005*\"tunnel\" + '\n",
      "  '0.004*\"beam\"')]\n",
      "using no_below = 50 and no_above = 0.6\n"
     ]
    },
    {
     "name": "stderr",
     "output_type": "stream",
     "text": [
      "WARNING:gensim.models.ldamodel:updated prior is not positive\n"
     ]
    },
    {
     "name": "stdout",
     "output_type": "stream",
     "text": [
      "[(0,\n",
      "  '0.021*\"ship\" + 0.019*\"deck\" + 0.018*\"boat\" + 0.014*\"bridge\" + 0.011*\"crew\" '\n",
      "  '+ 0.007*\"camp\" + 0.006*\"surface\" + 0.006*\"weapons\" + 0.006*\"base\" + '\n",
      "  '0.005*\"desert\"'),\n",
      " (1,\n",
      "  '0.008*\"apartment\" + 0.004*\"continuous\" + 0.003*\"honey\" + 0.003*\"rabbit\" + '\n",
      "  '0.003*\"club\" + 0.003*\"beer\" + 0.003*\"movie\" + 0.002*\"restaurant\" + '\n",
      "  '0.002*\"alright\" + 0.002*\"hotel\"'),\n",
      " (2,\n",
      "  '0.006*\"snow\" + 0.006*\"horses\" + 0.005*\"tent\" + 0.005*\"bird\" + 0.004*\"crow\" '\n",
      "  '+ 0.004*\"farm\" + 0.004*\"perhaps\" + 0.003*\"village\" + 0.003*\"shall\" + '\n",
      "  '0.003*\"hill\"'),\n",
      " (3,\n",
      "  '0.018*\"august\" + 0.010*\"bank\" + 0.009*\"hotel\" + 0.008*\"american\" + '\n",
      "  '0.007*\"plane\" + 0.007*\"shooting\" + 0.007*\"manhattan\" + 0.005*\"train\" + '\n",
      "  '0.005*\"conference\" + 0.005*\"guns\"'),\n",
      " (4,\n",
      "  '0.005*\"buzz\" + 0.004*\"train\" + 0.003*\"yellow\" + 0.003*\"trailer\" + '\n",
      "  '0.003*\"trees\" + 0.003*\"continuous\" + 0.003*\"continuing\" + 0.003*\"highway\" + '\n",
      "  '0.002*\"flashlight\" + 0.002*\"corridor\"')]\n",
      "using no_below = 50 and no_above = 0.7\n"
     ]
    },
    {
     "name": "stderr",
     "output_type": "stream",
     "text": [
      "WARNING:gensim.models.ldamodel:updated prior is not positive\n"
     ]
    },
    {
     "name": "stdout",
     "output_type": "stream",
     "text": [
      "[(0,\n",
      "  '0.004*\"evening\" + 0.003*\"august\" + 0.003*\"prince\" + 0.003*\"country\" + '\n",
      "  '0.003*\"train\" + 0.003*\"german\" + 0.003*\"letter\" + 0.002*\"perhaps\" + '\n",
      "  '0.002*\"stage\" + 0.002*\"angle\"'),\n",
      " (1,\n",
      "  '0.006*\"continuous\" + 0.006*\"fucking\" + 0.005*\"august\" + 0.004*\"ball\" + '\n",
      "  '0.004*\"wanna\" + 0.004*\"beer\" + 0.003*\"fuckin\" + 0.003*\"shooting\" + '\n",
      "  '0.003*\"honey\" + 0.003*\"club\"'),\n",
      " (2,\n",
      "  '0.016*\"ship\" + 0.016*\"deck\" + 0.013*\"boat\" + 0.009*\"crew\" + 0.009*\"bridge\" '\n",
      "  '+ 0.008*\"plane\" + 0.005*\"bomb\" + 0.005*\"military\" + 0.005*\"monitor\" + '\n",
      "  '0.005*\"weapons\"'),\n",
      " (3,\n",
      "  '0.004*\"snow\" + 0.004*\"towards\" + 0.004*\"wild\" + 0.004*\"tree\" + '\n",
      "  '0.004*\"trees\" + 0.003*\"cage\" + 0.003*\"bird\" + 0.003*\"roof\" + 0.003*\"tent\" + '\n",
      "  '0.003*\"beneath\"'),\n",
      " (4,\n",
      "  '0.017*\"angle\" + 0.011*\"apartment\" + 0.009*\"truck\" + 0.007*\"buzz\" + '\n",
      "  '0.006*\"continuing\" + 0.005*\"bank\" + 0.005*\"highway\" + 0.005*\"elevator\" + '\n",
      "  '0.004*\"train\" + 0.004*\"hotel\"')]\n",
      "using no_below = 50 and no_above = 0.8\n"
     ]
    },
    {
     "name": "stderr",
     "output_type": "stream",
     "text": [
      "WARNING:gensim.models.ldamodel:updated prior is not positive\n"
     ]
    },
    {
     "name": "stdout",
     "output_type": "stream",
     "text": [
      "[(0,\n",
      "  '0.013*\"angle\" + 0.008*\"truck\" + 0.008*\"apartment\" + 0.007*\"cars\" + '\n",
      "  '0.006*\"bank\" + 0.006*\"road\" + 0.005*\"buzz\" + 0.005*\"highway\" + '\n",
      "  '0.005*\"hotel\" + 0.004*\"jacket\"'),\n",
      " (1,\n",
      "  '0.008*\"gotta\" + 0.007*\"school\" + 0.006*\"continuous\" + 0.006*\"fucking\" + '\n",
      "  '0.004*\"wanna\" + 0.004*\"ball\" + 0.004*\"game\" + 0.004*\"rabbit\" + '\n",
      "  '0.004*\"party\" + 0.004*\"cool\"'),\n",
      " (2,\n",
      "  '0.006*\"august\" + 0.004*\"glances\" + 0.003*\"evening\" + 0.003*\"train\" + '\n",
      "  '0.003*\"city\" + 0.002*\"women\" + 0.002*\"angle\" + 0.002*\"true\" + '\n",
      "  '0.002*\"towards\" + 0.002*\"smiling\"'),\n",
      " (3,\n",
      "  '0.011*\"road\" + 0.010*\"snow\" + 0.010*\"boat\" + 0.010*\"wild\" + 0.009*\"tree\" + '\n",
      "  '0.007*\"trees\" + 0.007*\"wind\" + 0.007*\"tent\" + 0.007*\"bird\" + '\n",
      "  '0.006*\"horses\"'),\n",
      " (4,\n",
      "  '0.005*\"ship\" + 0.005*\"deck\" + 0.005*\"towards\" + 0.004*\"bridge\" + '\n",
      "  '0.004*\"metal\" + 0.004*\"speed\" + 0.003*\"wind\" + 0.003*\"crew\" + 0.003*\"space\" '\n",
      "  '+ 0.003*\"power\"')]\n",
      "using no_below = 60 and no_above = 0.2\n"
     ]
    },
    {
     "name": "stderr",
     "output_type": "stream",
     "text": [
      "WARNING:gensim.models.ldamodel:updated prior is not positive\n"
     ]
    },
    {
     "name": "stdout",
     "output_type": "stream",
     "text": [
      "[(0,\n",
      "  '0.024*\"leaf\" + 0.020*\"jungle\" + 0.017*\"missile\" + 0.016*\"trench\" + '\n",
      "  '0.016*\"compound\" + 0.015*\"warriors\" + 0.014*\"laden\" + 0.014*\"creatures\" + '\n",
      "  '0.014*\"transport\" + 0.013*\"console\"'),\n",
      " (1,\n",
      "  '0.076*\"trailer\" + 0.048*\"closeup\" + 0.028*\"chopper\" + 0.027*\"barn\" + '\n",
      "  '0.020*\"federal\" + 0.019*\"harbor\" + 0.019*\"vegas\" + 0.018*\"talkin\" + '\n",
      "  '0.017*\"surveillance\" + 0.017*\"cadillac\"'),\n",
      " (2,\n",
      "  '0.015*\"rabbit\" + 0.011*\"tent\" + 0.007*\"goose\" + 0.006*\"sword\" + '\n",
      "  '0.004*\"hatch\" + 0.004*\"cockpit\" + 0.004*\"sail\" + 0.004*\"canyon\" + '\n",
      "  '0.004*\"cave\" + 0.003*\"thru\"'),\n",
      " (3,\n",
      "  '0.009*\"manhattan\" + 0.004*\"warehouse\" + 0.003*\"subway\" + 0.003*\"potato\" + '\n",
      "  '0.003*\"port\" + 0.003*\"shovel\" + 0.003*\"cafe\" + 0.003*\"headquarters\" + '\n",
      "  '0.003*\"roadside\" + 0.003*\"cubicle\"'),\n",
      " (4,\n",
      "  '0.053*\"august\" + 0.016*\"prince\" + 0.015*\"german\" + 0.014*\"babe\" + '\n",
      "  '0.011*\"circus\" + 0.010*\"london\" + 0.007*\"sunny\" + 0.007*\"superior\" + '\n",
      "  '0.007*\"gallery\" + 0.006*\"loan\"')]\n",
      "using no_below = 60 and no_above = 0.3\n",
      "[(0,\n",
      "  '0.004*\"device\" + 0.004*\"chill\" + 0.004*\"subway\" + 0.004*\"bike\" + '\n",
      "  '0.003*\"patrol\" + 0.003*\"desert\" + 0.003*\"thru\" + 0.003*\"tracking\" + '\n",
      "  '0.003*\"ramp\" + 0.003*\"wham\"'),\n",
      " (1,\n",
      "  '0.082*\"ship\" + 0.021*\"helicopter\" + 0.020*\"bomb\" + 0.015*\"chopper\" + '\n",
      "  '0.014*\"cockpit\" + 0.013*\"missile\" + 0.012*\"camp\" + 0.012*\"harbor\" + '\n",
      "  '0.012*\"planet\" + 0.011*\"cabin\"'),\n",
      " (2,\n",
      "  '0.014*\"tent\" + 0.013*\"horses\" + 0.012*\"forest\" + 0.010*\"wagon\" + '\n",
      "  '0.010*\"desert\" + 0.009*\"barn\" + 0.009*\"village\" + 0.008*\"sword\" + '\n",
      "  '0.007*\"cabin\" + 0.007*\"farm\"'),\n",
      " (3,\n",
      "  '0.012*\"august\" + 0.005*\"manhattan\" + 0.003*\"trailer\" + 0.003*\"motel\" + '\n",
      "  '0.003*\"closeup\" + 0.002*\"mall\" + 0.002*\"somethin\" + 0.002*\"briefcase\" + '\n",
      "  '0.002*\"warehouse\" + 0.002*\"limo\"'),\n",
      " (4,\n",
      "  '0.012*\"rabbit\" + 0.008*\"prince\" + 0.007*\"babe\" + 0.007*\"german\" + '\n",
      "  '0.005*\"camp\" + 0.005*\"goose\" + 0.005*\"london\" + 0.004*\"laden\" + '\n",
      "  '0.004*\"darling\" + 0.004*\"sunny\"')]\n",
      "using no_below = 60 and no_above = 0.4\n"
     ]
    },
    {
     "name": "stderr",
     "output_type": "stream",
     "text": [
      "WARNING:gensim.models.ldamodel:updated prior is not positive\n",
      "WARNING:gensim.models.ldamodel:updated prior is not positive\n"
     ]
    },
    {
     "name": "stdout",
     "output_type": "stream",
     "text": [
      "[(0,\n",
      "  '0.017*\"continuous\" + 0.010*\"fuckin\" + 0.010*\"rabbit\" + 0.007*\"porch\" + '\n",
      "  '0.006*\"babe\" + 0.005*\"christmas\" + 0.005*\"outta\" + 0.005*\"motel\" + '\n",
      "  '0.005*\"highway\" + 0.005*\"trailer\"'),\n",
      " (1,\n",
      "  '0.014*\"august\" + 0.005*\"horses\" + 0.005*\"tent\" + 0.004*\"prince\" + '\n",
      "  '0.004*\"german\" + 0.004*\"farm\" + 0.003*\"camp\" + 0.003*\"birds\" + '\n",
      "  '0.003*\"circus\" + 0.003*\"leaf\"'),\n",
      " (2,\n",
      "  '0.008*\"buzz\" + 0.007*\"snow\" + 0.006*\"cage\" + 0.005*\"desert\" + '\n",
      "  '0.005*\"flashlight\" + 0.005*\"tunnel\" + 0.004*\"woods\" + 0.004*\"forest\" + '\n",
      "  '0.004*\"cabin\" + 0.003*\"rope\"'),\n",
      " (3,\n",
      "  '0.006*\"manhattan\" + 0.004*\"conference\" + 0.004*\"prison\" + 0.004*\"airport\" + '\n",
      "  '0.004*\"taxi\" + 0.003*\"closeup\" + 0.003*\"killer\" + 0.003*\"toys\" + '\n",
      "  '0.003*\"package\" + 0.003*\"briefcase\"'),\n",
      " (4,\n",
      "  '0.044*\"ship\" + 0.033*\"boat\" + 0.013*\"helicopter\" + 0.012*\"bomb\" + '\n",
      "  '0.012*\"military\" + 0.011*\"monitor\" + 0.010*\"continuous\" + 0.009*\"weapons\" + '\n",
      "  '0.009*\"interior\" + 0.008*\"chopper\"')]\n",
      "using no_below = 60 and no_above = 0.5\n"
     ]
    },
    {
     "name": "stderr",
     "output_type": "stream",
     "text": [
      "WARNING:gensim.models.ldamodel:updated prior is not positive\n"
     ]
    },
    {
     "name": "stdout",
     "output_type": "stream",
     "text": [
      "[(0,\n",
      "  '0.038*\"ship\" + 0.035*\"deck\" + 0.033*\"boat\" + 0.020*\"crew\" + 0.019*\"plane\" + '\n",
      "  '0.014*\"bridge\" + 0.011*\"camp\" + 0.011*\"military\" + 0.010*\"helicopter\" + '\n",
      "  '0.010*\"bomb\"'),\n",
      " (1,\n",
      "  '0.012*\"snow\" + 0.008*\"bird\" + 0.008*\"horses\" + 0.007*\"tent\" + '\n",
      "  '0.006*\"prince\" + 0.006*\"forest\" + 0.005*\"draft\" + 0.005*\"thunder\" + '\n",
      "  '0.005*\"cage\" + 0.005*\"farm\"'),\n",
      " (2,\n",
      "  '0.007*\"august\" + 0.006*\"hotel\" + 0.003*\"manhattan\" + 0.003*\"continuous\" + '\n",
      "  '0.003*\"restaurant\" + 0.002*\"letter\" + 0.002*\"rabbit\" + 0.002*\"television\" + '\n",
      "  '0.002*\"babe\" + 0.002*\"lobby\"'),\n",
      " (3,\n",
      "  '0.005*\"tunnel\" + 0.005*\"bridge\" + 0.005*\"steel\" + 0.004*\"desert\" + '\n",
      "  '0.004*\"mask\" + 0.004*\"beam\" + 0.003*\"monitor\" + 0.003*\"flashlight\" + '\n",
      "  '0.003*\"platform\" + 0.003*\"massive\"'),\n",
      " (4,\n",
      "  '0.009*\"buzz\" + 0.008*\"continuous\" + 0.007*\"highway\" + 0.006*\"fuckin\" + '\n",
      "  '0.006*\"continuing\" + 0.005*\"trailer\" + 0.005*\"trunk\" + 0.004*\"bullet\" + '\n",
      "  '0.004*\"garage\" + 0.004*\"motel\"')]\n",
      "using no_below = 60 and no_above = 0.6\n"
     ]
    },
    {
     "name": "stderr",
     "output_type": "stream",
     "text": [
      "WARNING:gensim.models.ldamodel:updated prior is not positive\n"
     ]
    },
    {
     "name": "stdout",
     "output_type": "stream",
     "text": [
      "[(0,\n",
      "  '0.024*\"ship\" + 0.022*\"deck\" + 0.017*\"boat\" + 0.013*\"crew\" + 0.011*\"plane\" + '\n",
      "  '0.011*\"bridge\" + 0.007*\"helicopter\" + 0.007*\"military\" + 0.007*\"monitor\" + '\n",
      "  '0.007*\"bomb\"'),\n",
      " (1,\n",
      "  '0.015*\"apartment\" + 0.009*\"hotel\" + 0.005*\"elevator\" + 0.005*\"continuing\" + '\n",
      "  '0.005*\"manhattan\" + 0.005*\"photo\" + 0.005*\"bank\" + 0.004*\"cell\" + '\n",
      "  '0.004*\"lobby\" + 0.004*\"telephone\"'),\n",
      " (2,\n",
      "  '0.005*\"snow\" + 0.004*\"buzz\" + 0.004*\"train\" + 0.004*\"trees\" + 0.004*\"cage\" '\n",
      "  '+ 0.003*\"desert\" + 0.003*\"bird\" + 0.003*\"flashlight\" + 0.003*\"forest\" + '\n",
      "  '0.002*\"woods\"'),\n",
      " (3,\n",
      "  '0.004*\"august\" + 0.003*\"stage\" + 0.003*\"prince\" + 0.003*\"letter\" + '\n",
      "  '0.003*\"perhaps\" + 0.002*\"goose\" + 0.002*\"rain\" + 0.002*\"german\" + '\n",
      "  '0.002*\"dear\" + 0.002*\"english\"'),\n",
      " (4,\n",
      "  '0.010*\"continuous\" + 0.008*\"august\" + 0.006*\"rabbit\" + 0.006*\"beer\" + '\n",
      "  '0.006*\"fuckin\" + 0.006*\"shooting\" + 0.005*\"alright\" + 0.004*\"honey\" + '\n",
      "  '0.004*\"dollars\" + 0.004*\"porch\"')]\n",
      "using no_below = 60 and no_above = 0.7\n"
     ]
    },
    {
     "name": "stderr",
     "output_type": "stream",
     "text": [
      "WARNING:gensim.models.ldamodel:updated prior is not positive\n"
     ]
    },
    {
     "name": "stdout",
     "output_type": "stream",
     "text": [
      "[(0,\n",
      "  '0.017*\"angle\" + 0.012*\"apartment\" + 0.010*\"august\" + 0.007*\"hotel\" + '\n",
      "  '0.006*\"train\" + 0.005*\"continuing\" + 0.005*\"manhattan\" + 0.004*\"elevator\" + '\n",
      "  '0.004*\"american\" + 0.004*\"plane\"'),\n",
      " (1,\n",
      "  '0.006*\"evening\" + 0.003*\"dance\" + 0.003*\"stage\" + 0.003*\"movie\" + '\n",
      "  '0.003*\"rabbit\" + 0.003*\"dress\" + 0.003*\"parents\" + 0.002*\"afternoon\" + '\n",
      "  '0.002*\"wild\" + 0.002*\"crying\"'),\n",
      " (2,\n",
      "  '0.008*\"fucking\" + 0.007*\"truck\" + 0.007*\"continuous\" + 0.005*\"parking\" + '\n",
      "  '0.005*\"store\" + 0.005*\"wanna\" + 0.005*\"highway\" + 0.004*\"fuckin\" + '\n",
      "  '0.004*\"shooting\" + 0.004*\"beer\"'),\n",
      " (3,\n",
      "  '0.006*\"ship\" + 0.006*\"towards\" + 0.004*\"deck\" + 0.003*\"bridge\" + '\n",
      "  '0.003*\"beneath\" + 0.003*\"train\" + 0.003*\"corridor\" + 0.003*\"roof\" + '\n",
      "  '0.003*\"steel\" + 0.003*\"tunnel\"'),\n",
      " (4,\n",
      "  '0.015*\"boat\" + 0.012*\"snow\" + 0.008*\"tree\" + 0.008*\"horses\" + 0.008*\"wild\" '\n",
      "  '+ 0.007*\"deck\" + 0.007*\"trees\" + 0.007*\"bird\" + 0.007*\"field\" + '\n",
      "  '0.007*\"camp\"')]\n",
      "using no_below = 60 and no_above = 0.8\n"
     ]
    },
    {
     "name": "stderr",
     "output_type": "stream",
     "text": [
      "WARNING:gensim.models.ldamodel:updated prior is not positive\n"
     ]
    },
    {
     "name": "stdout",
     "output_type": "stream",
     "text": [
      "[(0,\n",
      "  '0.007*\"wild\" + 0.006*\"horses\" + 0.006*\"august\" + 0.006*\"fight\" + '\n",
      "  '0.006*\"prince\" + 0.005*\"tent\" + 0.005*\"field\" + 0.005*\"army\" + '\n",
      "  '0.005*\"german\" + 0.004*\"camp\"'),\n",
      " (1,\n",
      "  '0.009*\"gotta\" + 0.007*\"fucking\" + 0.007*\"continuous\" + 0.006*\"august\" + '\n",
      "  '0.005*\"bank\" + 0.005*\"truck\" + 0.005*\"wanna\" + 0.005*\"shooting\" + '\n",
      "  '0.004*\"ball\" + 0.004*\"cars\"'),\n",
      " (2,\n",
      "  '0.006*\"apartment\" + 0.004*\"angle\" + 0.004*\"school\" + 0.004*\"evening\" + '\n",
      "  '0.004*\"hallway\" + 0.003*\"glances\" + 0.003*\"coffee\" + 0.003*\"hotel\" + '\n",
      "  '0.002*\"afternoon\" + 0.002*\"kisses\"'),\n",
      " (3,\n",
      "  '0.017*\"ship\" + 0.014*\"deck\" + 0.014*\"angle\" + 0.009*\"crew\" + 0.009*\"plane\" '\n",
      "  '+ 0.008*\"bridge\" + 0.006*\"monitor\" + 0.006*\"space\" + 0.006*\"corridor\" + '\n",
      "  '0.006*\"helicopter\"'),\n",
      " (4,\n",
      "  '0.005*\"wind\" + 0.004*\"road\" + 0.004*\"towards\" + 0.003*\"buzz\" + 0.003*\"boat\" '\n",
      "  '+ 0.003*\"screams\" + 0.003*\"train\" + 0.003*\"roof\" + 0.003*\"tree\" + '\n",
      "  '0.003*\"trees\"')]\n",
      "using no_below = 70 and no_above = 0.2\n",
      "[(0,\n",
      "  '0.060*\"august\" + 0.014*\"closeup\" + 0.013*\"circus\" + 0.009*\"superior\" + '\n",
      "  '0.009*\"gallery\" + 0.008*\"sunny\" + 0.008*\"warehouse\" + 0.007*\"loan\" + '\n",
      "  '0.007*\"cubicle\" + 0.006*\"mansion\"'),\n",
      " (1,\n",
      "  '0.011*\"leaf\" + 0.008*\"jungle\" + 0.008*\"branches\" + 0.007*\"canyon\" + '\n",
      "  '0.007*\"cave\" + 0.007*\"sail\" + 0.006*\"laser\" + 0.006*\"harbor\" + '\n",
      "  '0.006*\"underwater\" + 0.006*\"creatures\"'),\n",
      " (2,\n",
      "  '0.122*\"tent\" + 0.117*\"prince\" + 0.098*\"barn\" + 0.098*\"german\" + '\n",
      "  '0.079*\"sword\" + 0.038*\"palace\" + 0.021*\"sheep\" + 0.021*\"altar\" + '\n",
      "  '0.018*\"troops\" + 0.017*\"royal\"'),\n",
      " (3,\n",
      "  '0.012*\"rabbit\" + 0.010*\"manhattan\" + 0.007*\"babe\" + 0.005*\"london\" + '\n",
      "  '0.004*\"golf\" + 0.003*\"texas\" + 0.003*\"potato\" + 0.003*\"corn\" + 0.003*\"cafe\" '\n",
      "  '+ 0.003*\"angels\"'),\n",
      " (4,\n",
      "  '0.021*\"trailer\" + 0.008*\"chopper\" + 0.008*\"hatch\" + 0.007*\"cockpit\" + '\n",
      "  '0.007*\"port\" + 0.007*\"rocket\" + 0.006*\"wham\" + 0.006*\"transport\" + '\n",
      "  '0.006*\"converted\" + 0.006*\"surveillance\"')]\n",
      "using no_below = 70 and no_above = 0.3\n",
      "[(0,\n",
      "  '0.102*\"ship\" + 0.026*\"bomb\" + 0.018*\"cockpit\" + 0.017*\"harbor\" + '\n",
      "  '0.015*\"planet\" + 0.014*\"cabin\" + 0.014*\"hatch\" + 0.014*\"laser\" + '\n",
      "  '0.013*\"sail\" + 0.013*\"rocket\"'),\n",
      " (1,\n",
      "  '0.007*\"prince\" + 0.005*\"babe\" + 0.005*\"german\" + 0.005*\"circus\" + '\n",
      "  '0.004*\"london\" + 0.003*\"studio\" + 0.003*\"manhattan\" + 0.003*\"gallery\" + '\n",
      "  '0.003*\"darling\" + 0.003*\"sunny\"'),\n",
      " (2,\n",
      "  '0.010*\"helicopter\" + 0.010*\"camp\" + 0.007*\"squad\" + 0.007*\"jungle\" + '\n",
      "  '0.007*\"chopper\" + 0.006*\"vehicles\" + 0.006*\"device\" + 0.006*\"compound\" + '\n",
      "  '0.006*\"wham\" + 0.005*\"leaf\"'),\n",
      " (3,\n",
      "  '0.015*\"august\" + 0.006*\"rabbit\" + 0.006*\"trailer\" + 0.004*\"motel\" + '\n",
      "  '0.004*\"manhattan\" + 0.004*\"bike\" + 0.004*\"closeup\" + 0.003*\"mall\" + '\n",
      "  '0.003*\"somethin\" + 0.003*\"chill\"'),\n",
      " (4,\n",
      "  '0.009*\"desert\" + 0.008*\"forest\" + 0.008*\"tent\" + 0.008*\"horses\" + '\n",
      "  '0.008*\"wagon\" + 0.007*\"barn\" + 0.006*\"village\" + 0.005*\"sword\" + '\n",
      "  '0.005*\"cabin\" + 0.004*\"farm\"')]\n",
      "using no_below = 70 and no_above = 0.4\n"
     ]
    },
    {
     "name": "stderr",
     "output_type": "stream",
     "text": [
      "WARNING:gensim.models.ldamodel:updated prior is not positive\n"
     ]
    },
    {
     "name": "stdout",
     "output_type": "stream",
     "text": [
      "[(0,\n",
      "  '0.007*\"fuckin\" + 0.004*\"wedding\" + 0.004*\"german\" + 0.003*\"circus\" + '\n",
      "  '0.003*\"london\" + 0.003*\"somethin\" + 0.003*\"honor\" + 0.003*\"gang\" + '\n",
      "  '0.003*\"studio\" + 0.002*\"prison\"'),\n",
      " (1,\n",
      "  '0.007*\"tunnel\" + 0.006*\"monitor\" + 0.006*\"weapons\" + 0.005*\"beam\" + '\n",
      "  '0.005*\"helicopter\" + 0.005*\"bomb\" + 0.005*\"rifle\" + 0.004*\"vehicle\" + '\n",
      "  '0.004*\"flashlight\" + 0.004*\"cage\"'),\n",
      " (2,\n",
      "  '0.047*\"ship\" + 0.042*\"boat\" + 0.018*\"camp\" + 0.016*\"snow\" + 0.016*\"desert\" '\n",
      "  '+ 0.016*\"cabin\" + 0.015*\"horses\" + 0.013*\"sword\" + 0.012*\"tent\" + '\n",
      "  '0.011*\"mountain\"'),\n",
      " (3,\n",
      "  '0.009*\"buzz\" + 0.007*\"rabbit\" + 0.006*\"woods\" + 0.006*\"snow\" + '\n",
      "  '0.005*\"porch\" + 0.005*\"wagon\" + 0.004*\"thunder\" + 0.004*\"cage\" + '\n",
      "  '0.004*\"barn\" + 0.003*\"forest\"'),\n",
      " (4,\n",
      "  '0.015*\"august\" + 0.013*\"continuous\" + 0.007*\"highway\" + 0.006*\"trailer\" + '\n",
      "  '0.005*\"manhattan\" + 0.004*\"interior\" + 0.004*\"motel\" + 0.004*\"airport\" + '\n",
      "  '0.004*\"taxi\" + 0.004*\"closeup\"')]\n",
      "using no_below = 70 and no_above = 0.5\n"
     ]
    },
    {
     "name": "stderr",
     "output_type": "stream",
     "text": [
      "WARNING:gensim.models.ldamodel:updated prior is not positive\n"
     ]
    },
    {
     "name": "stdout",
     "output_type": "stream",
     "text": [
      "[(0,\n",
      "  '0.022*\"ship\" + 0.021*\"deck\" + 0.019*\"boat\" + 0.014*\"bridge\" + 0.011*\"crew\" '\n",
      "  '+ 0.008*\"cabin\" + 0.007*\"continuous\" + 0.007*\"base\" + 0.006*\"weapons\" + '\n",
      "  '0.006*\"desert\"'),\n",
      " (1,\n",
      "  '0.009*\"continuous\" + 0.006*\"fuckin\" + 0.005*\"rabbit\" + 0.005*\"alright\" + '\n",
      "  '0.004*\"restaurant\" + 0.004*\"porch\" + 0.004*\"babe\" + 0.003*\"draft\" + '\n",
      "  '0.003*\"neighborhood\" + 0.003*\"outta\"'),\n",
      " (2,\n",
      "  '0.011*\"august\" + 0.007*\"hotel\" + 0.004*\"manhattan\" + 0.003*\"plane\" + '\n",
      "  '0.003*\"letter\" + 0.003*\"lobby\" + 0.003*\"elevator\" + 0.003*\"conference\" + '\n",
      "  '0.003*\"german\" + 0.003*\"interior\"'),\n",
      " (3,\n",
      "  '0.009*\"buzz\" + 0.005*\"trailer\" + 0.004*\"flashlight\" + 0.004*\"highway\" + '\n",
      "  '0.004*\"cage\" + 0.004*\"bullet\" + 0.004*\"alley\" + 0.003*\"rifle\" + '\n",
      "  '0.003*\"mask\" + 0.003*\"closeup\"'),\n",
      " (4,\n",
      "  '0.013*\"snow\" + 0.009*\"horses\" + 0.008*\"tent\" + 0.008*\"bird\" + '\n",
      "  '0.007*\"continuing\" + 0.007*\"prince\" + 0.007*\"forest\" + 0.006*\"thunder\" + '\n",
      "  '0.006*\"wagon\" + 0.005*\"camp\"')]\n",
      "using no_below = 70 and no_above = 0.6\n"
     ]
    },
    {
     "name": "stderr",
     "output_type": "stream",
     "text": [
      "WARNING:gensim.models.ldamodel:updated prior is not positive\n"
     ]
    },
    {
     "name": "stdout",
     "output_type": "stream",
     "text": [
      "[(0,\n",
      "  '0.003*\"rabbit\" + 0.003*\"stage\" + 0.003*\"prince\" + 0.003*\"august\" + '\n",
      "  '0.003*\"letter\" + 0.002*\"perhaps\" + 0.002*\"farm\" + 0.002*\"rain\" + '\n",
      "  '0.002*\"train\" + 0.002*\"horses\"'),\n",
      " (1,\n",
      "  '0.011*\"apartment\" + 0.006*\"continuous\" + 0.006*\"august\" + 0.006*\"hotel\" + '\n",
      "  '0.004*\"bank\" + 0.004*\"beer\" + 0.004*\"fuckin\" + 0.004*\"shooting\" + '\n",
      "  '0.004*\"club\" + 0.004*\"dollars\"'),\n",
      " (2,\n",
      "  '0.008*\"guns\" + 0.008*\"american\" + 0.007*\"helicopter\" + 0.007*\"monitor\" + '\n",
      "  '0.007*\"military\" + 0.007*\"bridge\" + 0.006*\"weapons\" + 0.006*\"bomb\" + '\n",
      "  '0.006*\"plane\" + 0.006*\"government\"'),\n",
      " (3,\n",
      "  '0.082*\"ship\" + 0.078*\"deck\" + 0.076*\"boat\" + 0.043*\"crew\" + 0.022*\"cabin\" + '\n",
      "  '0.021*\"plane\" + 0.019*\"interior\" + 0.017*\"surface\" + 0.016*\"beach\" + '\n",
      "  '0.015*\"bridge\"'),\n",
      " (4,\n",
      "  '0.005*\"buzz\" + 0.004*\"snow\" + 0.004*\"train\" + 0.004*\"trees\" + 0.004*\"cage\" '\n",
      "  '+ 0.003*\"bird\" + 0.003*\"woods\" + 0.003*\"flashlight\" + 0.003*\"forest\" + '\n",
      "  '0.003*\"dirt\"')]\n",
      "using no_below = 70 and no_above = 0.7\n"
     ]
    },
    {
     "name": "stderr",
     "output_type": "stream",
     "text": [
      "WARNING:gensim.models.ldamodel:updated prior is not positive\n"
     ]
    },
    {
     "name": "stdout",
     "output_type": "stream",
     "text": [
      "[(0,\n",
      "  '0.008*\"apartment\" + 0.007*\"fucking\" + 0.006*\"continuous\" + 0.006*\"august\" + '\n",
      "  '0.006*\"truck\" + 0.005*\"store\" + 0.005*\"angle\" + 0.005*\"wanna\" + '\n",
      "  '0.005*\"parking\" + 0.004*\"bank\"'),\n",
      " (1,\n",
      "  '0.004*\"evening\" + 0.004*\"angle\" + 0.003*\"hotel\" + 0.003*\"manhattan\" + '\n",
      "  '0.003*\"stage\" + 0.003*\"dance\" + 0.002*\"movie\" + 0.002*\"ball\" + 0.002*\"park\" '\n",
      "  '+ 0.002*\"august\"'),\n",
      " (2,\n",
      "  '0.005*\"wild\" + 0.005*\"snow\" + 0.004*\"tree\" + 0.004*\"towards\" + '\n",
      "  '0.004*\"trees\" + 0.004*\"buzz\" + 0.003*\"rain\" + 0.003*\"bird\" + 0.003*\"cage\" + '\n",
      "  '0.003*\"knife\"'),\n",
      " (3,\n",
      "  '0.032*\"boat\" + 0.025*\"deck\" + 0.019*\"plane\" + 0.014*\"crew\" + '\n",
      "  '0.012*\"american\" + 0.010*\"ship\" + 0.010*\"field\" + 0.010*\"german\" + '\n",
      "  '0.009*\"army\" + 0.009*\"camp\"'),\n",
      " (4,\n",
      "  '0.010*\"angle\" + 0.008*\"ship\" + 0.006*\"corridor\" + 0.005*\"bridge\" + '\n",
      "  '0.005*\"train\" + 0.005*\"towards\" + 0.005*\"monitor\" + 0.005*\"steel\" + '\n",
      "  '0.004*\"tunnel\" + 0.004*\"fires\"')]\n",
      "using no_below = 70 and no_above = 0.8\n"
     ]
    },
    {
     "name": "stderr",
     "output_type": "stream",
     "text": [
      "WARNING:gensim.models.ldamodel:updated prior is not positive\n"
     ]
    },
    {
     "name": "stdout",
     "output_type": "stream",
     "text": [
      "[(0,\n",
      "  '0.004*\"evening\" + 0.003*\"glances\" + 0.003*\"women\" + 0.003*\"august\" + '\n",
      "  '0.003*\"city\" + 0.002*\"true\" + 0.002*\"stage\" + 0.002*\"kisses\" + '\n",
      "  '0.002*\"prince\" + 0.002*\"letter\"'),\n",
      " (1,\n",
      "  '0.007*\"gotta\" + 0.006*\"fucking\" + 0.006*\"apartment\" + 0.006*\"school\" + '\n",
      "  '0.005*\"continuous\" + 0.004*\"august\" + 0.004*\"wanna\" + 0.004*\"coffee\" + '\n",
      "  '0.004*\"hotel\" + 0.004*\"ball\"'),\n",
      " (2,\n",
      "  '0.015*\"ship\" + 0.014*\"deck\" + 0.009*\"angle\" + 0.009*\"plane\" + 0.009*\"crew\" '\n",
      "  '+ 0.008*\"bridge\" + 0.008*\"boat\" + 0.005*\"space\" + 0.005*\"helicopter\" + '\n",
      "  '0.005*\"american\"'),\n",
      " (3,\n",
      "  '0.005*\"angle\" + 0.005*\"buzz\" + 0.004*\"train\" + 0.004*\"truck\" + '\n",
      "  '0.004*\"towards\" + 0.004*\"road\" + 0.003*\"glances\" + 0.003*\"wheel\" + '\n",
      "  '0.003*\"cars\" + 0.003*\"hallway\"'),\n",
      " (4,\n",
      "  '0.009*\"wind\" + 0.008*\"snow\" + 0.007*\"wild\" + 0.007*\"tree\" + 0.005*\"trees\" + '\n",
      "  '0.005*\"bird\" + 0.005*\"rock\" + 0.005*\"tent\" + 0.005*\"road\" + 0.005*\"boat\"')]\n",
      "using no_below = 80 and no_above = 0.2\n",
      "[(0,\n",
      "  '0.038*\"manhattan\" + 0.016*\"warehouse\" + 0.014*\"circus\" + 0.014*\"superior\" + '\n",
      "  '0.013*\"gallery\" + 0.011*\"sedan\" + 0.011*\"cubicle\" + 0.010*\"interrogation\" + '\n",
      "  '0.010*\"cafe\" + 0.009*\"mansion\"'),\n",
      " (1,\n",
      "  '0.014*\"rabbit\" + 0.005*\"london\" + 0.004*\"subway\" + 0.004*\"potato\" + '\n",
      "  '0.004*\"angels\" + 0.004*\"texas\" + 0.004*\"port\" + 0.004*\"shovel\" + '\n",
      "  '0.004*\"harbor\" + 0.003*\"headquarters\"'),\n",
      " (2,\n",
      "  '0.132*\"trailer\" + 0.091*\"barn\" + 0.084*\"closeup\" + 0.056*\"ford\" + '\n",
      "  '0.040*\"mexico\" + 0.039*\"cadillac\" + 0.033*\"pickup\" + 0.026*\"talkin\" + '\n",
      "  '0.024*\"chevy\" + 0.024*\"corn\"'),\n",
      " (3,\n",
      "  '0.019*\"prince\" + 0.018*\"german\" + 0.017*\"babe\" + 0.013*\"sword\" + '\n",
      "  '0.009*\"sunny\" + 0.008*\"golf\" + 0.008*\"loan\" + 0.006*\"palace\" + '\n",
      "  '0.006*\"theatre\" + 0.006*\"alike\"'),\n",
      " (4,\n",
      "  '0.032*\"tent\" + 0.018*\"leaf\" + 0.014*\"jungle\" + 0.013*\"hatch\" + '\n",
      "  '0.013*\"cockpit\" + 0.012*\"canyon\" + 0.012*\"cave\" + 0.011*\"branches\" + '\n",
      "  '0.010*\"underwater\" + 0.010*\"creatures\"')]\n",
      "using no_below = 80 and no_above = 0.3\n"
     ]
    },
    {
     "name": "stderr",
     "output_type": "stream",
     "text": [
      "WARNING:gensim.models.ldamodel:updated prior is not positive\n"
     ]
    },
    {
     "name": "stdout",
     "output_type": "stream",
     "text": [
      "[(0,\n",
      "  '0.015*\"horses\" + 0.012*\"forest\" + 0.012*\"tent\" + 0.011*\"wagon\" + '\n",
      "  '0.010*\"barn\" + 0.009*\"village\" + 0.008*\"leaf\" + 0.007*\"farm\" + '\n",
      "  '0.007*\"london\" + 0.005*\"jungle\"'),\n",
      " (1,\n",
      "  '0.013*\"camp\" + 0.013*\"prince\" + 0.012*\"german\" + 0.008*\"national\" + '\n",
      "  '0.007*\"lake\" + 0.006*\"suite\" + 0.006*\"balcony\" + 0.006*\"breasts\" + '\n",
      "  '0.006*\"texas\" + 0.006*\"sunny\"'),\n",
      " (2,\n",
      "  '0.007*\"rabbit\" + 0.007*\"manhattan\" + 0.005*\"babe\" + 0.004*\"mall\" + '\n",
      "  '0.003*\"bike\" + 0.003*\"somethin\" + 0.003*\"chill\" + 0.003*\"studio\" + '\n",
      "  '0.003*\"golf\" + 0.002*\"champagne\"'),\n",
      " (3,\n",
      "  '0.033*\"trailer\" + 0.022*\"motel\" + 0.022*\"closeup\" + 0.021*\"helicopter\" + '\n",
      "  '0.018*\"squad\" + 0.017*\"bomb\" + 0.015*\"warehouse\" + 0.014*\"binoculars\" + '\n",
      "  '0.012*\"briefcase\" + 0.011*\"badge\"'),\n",
      " (4,\n",
      "  '0.019*\"ship\" + 0.008*\"desert\" + 0.008*\"cabin\" + 0.004*\"helmet\" + '\n",
      "  '0.004*\"dock\" + 0.004*\"rail\" + 0.003*\"chill\" + 0.003*\"port\" + 0.003*\"hatch\" '\n",
      "  '+ 0.003*\"cockpit\"')]\n",
      "using no_below = 80 and no_above = 0.4\n"
     ]
    },
    {
     "name": "stderr",
     "output_type": "stream",
     "text": [
      "WARNING:gensim.models.ldamodel:updated prior is not positive\n"
     ]
    },
    {
     "name": "stdout",
     "output_type": "stream",
     "text": [
      "[(0,\n",
      "  '0.006*\"buzz\" + 0.005*\"rabbit\" + 0.004*\"cage\" + 0.003*\"woods\" + '\n",
      "  '0.003*\"flashlight\" + 0.003*\"desert\" + 0.002*\"wagon\" + 0.002*\"cabin\" + '\n",
      "  '0.002*\"iron\" + 0.002*\"pipe\"'),\n",
      " (1,\n",
      "  '0.056*\"snow\" + 0.032*\"prince\" + 0.031*\"horses\" + 0.030*\"camp\" + '\n",
      "  '0.028*\"german\" + 0.025*\"sword\" + 0.024*\"village\" + 0.024*\"tent\" + '\n",
      "  '0.020*\"farm\" + 0.017*\"leaf\"'),\n",
      " (2,\n",
      "  '0.037*\"ship\" + 0.031*\"boat\" + 0.014*\"monitor\" + 0.012*\"helicopter\" + '\n",
      "  '0.011*\"interior\" + 0.010*\"weapons\" + 0.010*\"bomb\" + 0.010*\"continuous\" + '\n",
      "  '0.009*\"military\" + 0.008*\"government\"'),\n",
      " (3,\n",
      "  '0.013*\"continuous\" + 0.005*\"babe\" + 0.004*\"wedding\" + 0.004*\"porch\" + '\n",
      "  '0.004*\"circus\" + 0.003*\"birthday\" + 0.003*\"weekend\" + 0.003*\"taxi\" + '\n",
      "  '0.003*\"suitcase\" + 0.003*\"studio\"'),\n",
      " (4,\n",
      "  '0.012*\"fuckin\" + 0.011*\"highway\" + 0.010*\"trailer\" + 0.008*\"manhattan\" + '\n",
      "  '0.007*\"motel\" + 0.007*\"outta\" + 0.007*\"prison\" + 0.006*\"closeup\" + '\n",
      "  '0.006*\"airport\" + 0.006*\"mall\"')]\n",
      "using no_below = 80 and no_above = 0.5\n"
     ]
    },
    {
     "name": "stderr",
     "output_type": "stream",
     "text": [
      "WARNING:gensim.models.ldamodel:updated prior is not positive\n"
     ]
    },
    {
     "name": "stdout",
     "output_type": "stream",
     "text": [
      "[(0,\n",
      "  '0.010*\"ship\" + 0.010*\"deck\" + 0.009*\"boat\" + 0.007*\"bridge\" + 0.005*\"cage\" '\n",
      "  '+ 0.005*\"crew\" + 0.005*\"buzz\" + 0.004*\"cabin\" + 0.004*\"desert\" + '\n",
      "  '0.004*\"tunnel\"'),\n",
      " (1,\n",
      "  '0.033*\"snow\" + 0.025*\"continuing\" + 0.024*\"horses\" + 0.020*\"tent\" + '\n",
      "  '0.019*\"camp\" + 0.018*\"bird\" + 0.015*\"barn\" + 0.015*\"village\" + '\n",
      "  '0.015*\"sword\" + 0.013*\"army\"'),\n",
      " (2,\n",
      "  '0.014*\"hotel\" + 0.008*\"manhattan\" + 0.006*\"prince\" + 0.005*\"elevator\" + '\n",
      "  '0.005*\"lobby\" + 0.005*\"interior\" + 0.005*\"taxi\" + 0.005*\"letter\" + '\n",
      "  '0.004*\"telephone\" + 0.004*\"closeup\"'),\n",
      " (3,\n",
      "  '0.006*\"continuous\" + 0.004*\"rabbit\" + 0.003*\"alright\" + 0.003*\"fuckin\" + '\n",
      "  '0.003*\"highway\" + 0.003*\"trunk\" + 0.003*\"porch\" + 0.003*\"buzz\" + '\n",
      "  '0.002*\"draft\" + 0.002*\"basement\"'),\n",
      " (4,\n",
      "  '0.014*\"plane\" + 0.009*\"bullets\" + 0.009*\"bullet\" + 0.008*\"helicopter\" + '\n",
      "  '0.007*\"bomb\" + 0.007*\"monitor\" + 0.007*\"military\" + 0.007*\"weapons\" + '\n",
      "  '0.006*\"firing\" + 0.006*\"alley\"')]\n",
      "using no_below = 80 and no_above = 0.6\n"
     ]
    },
    {
     "name": "stderr",
     "output_type": "stream",
     "text": [
      "WARNING:gensim.models.ldamodel:updated prior is not positive\n"
     ]
    },
    {
     "name": "stdout",
     "output_type": "stream",
     "text": [
      "[(0,\n",
      "  '0.026*\"ship\" + 0.025*\"deck\" + 0.024*\"boat\" + 0.016*\"bridge\" + 0.014*\"crew\" '\n",
      "  '+ 0.009*\"plane\" + 0.007*\"base\" + 0.007*\"weapons\" + 0.007*\"military\" + '\n",
      "  '0.007*\"surface\"'),\n",
      " (1,\n",
      "  '0.006*\"horses\" + 0.006*\"tent\" + 0.005*\"train\" + 0.005*\"prince\" + '\n",
      "  '0.005*\"rain\" + 0.005*\"german\" + 0.005*\"perhaps\" + 0.004*\"barn\" + '\n",
      "  '0.004*\"snow\" + 0.004*\"farm\"'),\n",
      " (2,\n",
      "  '0.006*\"continuous\" + 0.004*\"beer\" + 0.004*\"honey\" + 0.004*\"fuckin\" + '\n",
      "  '0.004*\"club\" + 0.004*\"rabbit\" + 0.004*\"movie\" + 0.003*\"alright\" + '\n",
      "  '0.003*\"shooting\" + 0.003*\"dollars\"'),\n",
      " (3,\n",
      "  '0.015*\"apartment\" + 0.009*\"hotel\" + 0.008*\"bank\" + 0.006*\"manhattan\" + '\n",
      "  '0.006*\"elevator\" + 0.005*\"cell\" + 0.005*\"photo\" + 0.005*\"train\" + '\n",
      "  '0.004*\"lobby\" + 0.004*\"conference\"'),\n",
      " (4,\n",
      "  '0.007*\"buzz\" + 0.004*\"cage\" + 0.004*\"trees\" + 0.004*\"snow\" + '\n",
      "  '0.003*\"flashlight\" + 0.003*\"dirt\" + 0.003*\"corridor\" + 0.003*\"woods\" + '\n",
      "  '0.003*\"train\" + 0.003*\"continuing\"')]\n",
      "using no_below = 80 and no_above = 0.7\n"
     ]
    },
    {
     "name": "stderr",
     "output_type": "stream",
     "text": [
      "WARNING:gensim.models.ldamodel:updated prior is not positive\n"
     ]
    },
    {
     "name": "stdout",
     "output_type": "stream",
     "text": [
      "[(0,\n",
      "  '0.010*\"snow\" + 0.009*\"wild\" + 0.009*\"tree\" + 0.007*\"trees\" + 0.007*\"bird\" + '\n",
      "  '0.007*\"tent\" + 0.006*\"cage\" + 0.006*\"forest\" + 0.006*\"woods\" + '\n",
      "  '0.005*\"horses\"'),\n",
      " (1,\n",
      "  '0.008*\"apartment\" + 0.006*\"fucking\" + 0.006*\"continuous\" + 0.005*\"hotel\" + '\n",
      "  '0.004*\"wanna\" + 0.004*\"bank\" + 0.004*\"store\" + 0.004*\"shooting\" + '\n",
      "  '0.004*\"ball\" + 0.004*\"parking\"'),\n",
      " (2,\n",
      "  '0.005*\"angle\" + 0.004*\"evening\" + 0.003*\"stage\" + 0.003*\"prince\" + '\n",
      "  '0.002*\"train\" + 0.002*\"letter\" + 0.002*\"perhaps\" + 0.002*\"country\" + '\n",
      "  '0.002*\"rather\" + 0.002*\"dress\"'),\n",
      " (3,\n",
      "  '0.019*\"ship\" + 0.018*\"deck\" + 0.015*\"boat\" + 0.011*\"crew\" + 0.011*\"plane\" + '\n",
      "  '0.010*\"bridge\" + 0.006*\"american\" + 0.006*\"military\" + 0.005*\"base\" + '\n",
      "  '0.005*\"bomb\"'),\n",
      " (4,\n",
      "  '0.010*\"angle\" + 0.006*\"train\" + 0.006*\"buzz\" + 0.005*\"truck\" + '\n",
      "  '0.005*\"towards\" + 0.004*\"corridor\" + 0.003*\"roof\" + 0.003*\"continuing\" + '\n",
      "  '0.003*\"knife\" + 0.003*\"rear\"')]\n",
      "using no_below = 80 and no_above = 0.8\n"
     ]
    },
    {
     "name": "stderr",
     "output_type": "stream",
     "text": [
      "WARNING:gensim.models.ldamodel:updated prior is not positive\n"
     ]
    },
    {
     "name": "stdout",
     "output_type": "stream",
     "text": [
      "[(0,\n",
      "  '0.011*\"gotta\" + 0.010*\"continuous\" + 0.009*\"school\" + 0.007*\"fucking\" + '\n",
      "  '0.006*\"ball\" + 0.006*\"wanna\" + 0.006*\"rabbit\" + 0.006*\"game\" + 0.005*\"cool\" '\n",
      "  '+ 0.005*\"beer\"'),\n",
      " (1,\n",
      "  '0.010*\"angle\" + 0.008*\"apartment\" + 0.007*\"truck\" + 0.006*\"cars\" + '\n",
      "  '0.005*\"road\" + 0.005*\"bank\" + 0.004*\"jacket\" + 0.004*\"highway\" + '\n",
      "  '0.004*\"fuckin\" + 0.004*\"continuing\"'),\n",
      " (2,\n",
      "  '0.019*\"ship\" + 0.018*\"deck\" + 0.014*\"boat\" + 0.010*\"crew\" + 0.010*\"bridge\" '\n",
      "  '+ 0.009*\"plane\" + 0.007*\"space\" + 0.006*\"continuous\" + 0.006*\"speed\" + '\n",
      "  '0.006*\"monitor\"'),\n",
      " (3,\n",
      "  '0.004*\"evening\" + 0.003*\"women\" + 0.003*\"glances\" + 0.003*\"hotel\" + '\n",
      "  '0.003*\"manhattan\" + 0.003*\"city\" + 0.003*\"country\" + 0.002*\"true\" + '\n",
      "  '0.002*\"apartment\" + 0.002*\"kisses\"'),\n",
      " (4,\n",
      "  '0.006*\"wind\" + 0.004*\"towards\" + 0.004*\"snow\" + 0.004*\"road\" + 0.003*\"wild\" '\n",
      "  '+ 0.003*\"train\" + 0.003*\"tree\" + 0.003*\"trees\" + 0.003*\"screams\" + '\n",
      "  '0.003*\"cage\"')]\n"
     ]
    }
   ],
   "source": [
    "#define the set of boundaries to use\n",
    "minimum = [20, 30, 40, 50, 60, 70, 80]\n",
    "maximum = [0.2, 0.3, 0.4, 0.5, 0.6, 0.7, 0.8]\n",
    "\n",
    "for min_val in minimum:\n",
    "    \n",
    "    for max_val in maximum:\n",
    "        \n",
    "        dictionary = corpora.Dictionary(scripts)\n",
    "        \n",
    "        print ('using no_below =',min_val , 'and no_above =',max_val)\n",
    "        dictionary.filter_extremes(no_below=min_val , no_above= max_val )\n",
    "        corpus = [dictionary.doc2bow(text) for text in scripts]\n",
    "        ldamodel = LdaModel (id2word= dictionary, corpus= corpus,  num_topics = 5, alpha='auto',\n",
    "                         eta='auto', iterations=100, passes=20, eval_every=10, random_state=100, chunksize=5, )\n",
    "#Print the results from each iteration                \n",
    "        \n",
    "        pprint (ldamodel.print_topics())"
   ]
  },
  {
   "cell_type": "markdown",
   "id": "8edf4518",
   "metadata": {},
   "source": [
    "The results from the  minimum and maximum values 0.8 and 80 seems to produce resonable keywords\n",
    "\n",
    "using 75 and 0.8 as shown below produced a much better result"
   ]
  },
  {
   "cell_type": "code",
   "execution_count": 98,
   "id": "d0dc1093",
   "metadata": {},
   "outputs": [
    {
     "name": "stderr",
     "output_type": "stream",
     "text": [
      "WARNING:gensim.models.ldamodel:updated prior is not positive\n"
     ]
    },
    {
     "name": "stdout",
     "output_type": "stream",
     "text": [
      "[(0,\n",
      "  '0.009*\"school\" + 0.007*\"gotta\" + 0.006*\"continuous\" + 0.005*\"ball\" + '\n",
      "  '0.005*\"game\" + 0.005*\"party\" + 0.004*\"fucking\" + 0.004*\"rabbit\" + '\n",
      "  '0.004*\"movie\" + 0.004*\"wanna\"'),\n",
      " (1,\n",
      "  '0.009*\"apartment\" + 0.007*\"angle\" + 0.007*\"truck\" + 0.006*\"cars\" + '\n",
      "  '0.005*\"road\" + 0.005*\"bank\" + 0.004*\"highway\" + 0.004*\"hotel\" + '\n",
      "  '0.004*\"jacket\" + 0.004*\"coffee\"'),\n",
      " (2,\n",
      "  '0.006*\"wind\" + 0.005*\"towards\" + 0.004*\"snow\" + 0.003*\"road\" + 0.003*\"wild\" '\n",
      "  '+ 0.003*\"screams\" + 0.003*\"tree\" + 0.003*\"trees\" + 0.003*\"cage\" + '\n",
      "  '0.003*\"train\"'),\n",
      " (3,\n",
      "  '0.021*\"ship\" + 0.020*\"deck\" + 0.016*\"boat\" + 0.011*\"crew\" + 0.010*\"bridge\" '\n",
      "  '+ 0.010*\"plane\" + 0.007*\"angle\" + 0.007*\"space\" + 0.006*\"monitor\" + '\n",
      "  '0.006*\"bomb\"'),\n",
      " (4,\n",
      "  '0.004*\"angle\" + 0.004*\"glances\" + 0.003*\"evening\" + 0.003*\"continuing\" + '\n",
      "  '0.003*\"city\" + 0.003*\"women\" + 0.002*\"country\" + 0.002*\"several\" + '\n",
      "  '0.002*\"prince\" + 0.002*\"true\"')]\n"
     ]
    }
   ],
   "source": [
    "dictionary = corpora.Dictionary(scripts)\n",
    "        \n",
    "        \n",
    "        #print ('using no_below =',min_val , 'and no_above =',max_val)\n",
    "dictionary.filter_extremes(no_below=75 , no_above= 0.8 )\n",
    "corpus = [dictionary.doc2bow(text) for text in scripts]\n",
    "ldamodel = LdaModel (id2word= dictionary, corpus= corpus,  num_topics = 5, alpha='auto',\n",
    "                         eta='auto', iterations=100, passes=20, eval_every=10, random_state=100, chunksize=5, )\n",
    "                \n",
    "        \n",
    "pprint (ldamodel.print_topics())"
   ]
  },
  {
   "cell_type": "markdown",
   "id": "14cbbafe",
   "metadata": {},
   "source": [
    "From the keywords generated, each topic is assigned to the closest related cluster\n",
    "\n",
    "\n",
    "\n",
    "0 drama, comedy, gameshow, biography \n",
    "\n",
    "1 crime, mystery\n",
    "\n",
    "2 horror\n",
    "\n",
    "3 scifi, fantasy, animation, action\n",
    "\n",
    "4 romance, adventure\n",
    "\n"
   ]
  },
  {
   "cell_type": "markdown",
   "id": "d958075b",
   "metadata": {},
   "source": [
    "The Coherence score of the model can also be computed"
   ]
  },
  {
   "cell_type": "code",
   "execution_count": 99,
   "id": "409c74de",
   "metadata": {},
   "outputs": [],
   "source": [
    "coherencemodel = CoherenceModel(model=ldamodel, texts=scripts, dictionary=dictionary, coherence='c_v')"
   ]
  },
  {
   "cell_type": "code",
   "execution_count": 100,
   "id": "57818b80",
   "metadata": {},
   "outputs": [
    {
     "data": {
      "text/plain": [
       "0.35330602766835845"
      ]
     },
     "execution_count": 100,
     "metadata": {},
     "output_type": "execute_result"
    }
   ],
   "source": [
    "coherence_score = coherencemodel.get_coherence()\n",
    "coherence_score"
   ]
  },
  {
   "cell_type": "markdown",
   "id": "b3d6010d",
   "metadata": {},
   "source": [
    "Using pyLDAvis to visualize the result of the topics generated"
   ]
  },
  {
   "cell_type": "code",
   "execution_count": 101,
   "id": "45391a56",
   "metadata": {},
   "outputs": [
    {
     "data": {
      "text/html": [
       "\n",
       "<link rel=\"stylesheet\" type=\"text/css\" href=\"https://cdn.jsdelivr.net/gh/bmabey/pyLDAvis@3.3.1/pyLDAvis/js/ldavis.v1.0.0.css\">\n",
       "\n",
       "\n",
       "<div id=\"ldavis_el666422656516133607359115511\"></div>\n",
       "<script type=\"text/javascript\">\n",
       "\n",
       "var ldavis_el666422656516133607359115511_data = {\"mdsDat\": {\"x\": [-0.13535480842405972, 0.06520110293748559, -0.06522191087219317, -0.17360116620467636, 0.3089767825634441], \"y\": [0.042014540546117224, -0.22711679241012522, -0.028298645880413063, 0.09798723545892966, 0.1154136622854914], \"topics\": [1, 2, 3, 4, 5], \"cluster\": [1, 1, 1, 1, 1], \"Freq\": [27.45376778207263, 25.90387638435942, 20.832968339377718, 19.49035654924555, 6.319030944944679]}, \"tinfo\": {\"Term\": [\"ship\", \"deck\", \"boat\", \"angle\", \"school\", \"apartment\", \"bridge\", \"crew\", \"plane\", \"truck\", \"continuous\", \"cars\", \"gotta\", \"wind\", \"space\", \"corridor\", \"fucking\", \"highway\", \"power\", \"monitor\", \"fuckin\", \"party\", \"metal\", \"continuing\", \"evening\", \"movie\", \"base\", \"bank\", \"surface\", \"ball\", \"continuing\", \"prince\", \"german\", \"perhaps\", \"cannot\", \"shall\", \"london\", \"superior\", \"gallery\", \"regards\", \"gesture\", \"fellow\", \"theatre\", \"manner\", \"indeed\", \"allow\", \"gods\", \"cane\", \"royal\", \"elegant\", \"understood\", \"bearded\", \"political\", \"appearance\", \"newspapers\", \"documents\", \"terribly\", \"weeping\", \"europe\", \"garden\", \"pages\", \"darling\", \"circus\", \"aware\", \"somewhat\", \"rather\", \"certain\", \"study\", \"suppose\", \"letter\", \"private\", \"seated\", \"given\", \"dear\", \"english\", \"interest\", \"glances\", \"farm\", \"country\", \"women\", \"evening\", \"interior\", \"dress\", \"speaking\", \"true\", \"city\", \"expression\", \"angle\", \"truth\", \"afraid\", \"corridor\", \"smiling\", \"hospital\", \"several\", \"slightly\", \"beside\", \"train\", \"rises\", \"kisses\", \"hallway\", \"rain\", \"forest\", \"sword\", \"flesh\", \"branches\", \"canyon\", \"cave\", \"beast\", \"creatures\", \"claws\", \"blam\", \"flaming\", \"steep\", \"shapes\", \"mist\", \"armor\", \"whirls\", \"slope\", \"eerie\", \"jaws\", \"blackness\", \"howls\", \"rattle\", \"swirling\", \"hollow\", \"thump\", \"claw\", \"shrieks\", \"lifeless\", \"blades\", \"howling\", \"lightning\", \"corpse\", \"rope\", \"cage\", \"wind\", \"snow\", \"dust\", \"leaps\", \"trees\", \"trap\", \"lunges\", \"shadows\", \"darkness\", \"thunder\", \"woods\", \"beneath\", \"horses\", \"wagon\", \"trail\", \"tree\", \"roars\", \"screams\", \"tent\", \"skin\", \"bird\", \"mountain\", \"struggles\", \"flashlight\", \"rocks\", \"swings\", \"dirt\", \"roof\", \"tunnel\", \"towards\", \"rock\", \"hole\", \"knife\", \"wild\", \"climbs\", \"road\", \"train\", \"walls\", \"desert\", \"metal\", \"rises\", \"speed\", \"highway\", \"fuckin\", \"trailer\", \"motel\", \"warehouse\", \"downtown\", \"hose\", \"cadillac\", \"detectives\", \"motherfucker\", \"pickup\", \"sirens\", \"backseat\", \"rearview\", \"dashboard\", \"chevy\", \"investigation\", \"unmarked\", \"freeway\", \"handcuffs\", \"lotta\", \"tapes\", \"dialing\", \"fucker\", \"tryin\", \"gunshot\", \"shoulda\", \"paranoid\", \"assholes\", \"tellin\", \"parked\", \"cars\", \"truck\", \"interrogation\", \"garage\", \"closeup\", \"wallet\", \"license\", \"tire\", \"apartment\", \"ford\", \"sedan\", \"bank\", \"windshield\", \"elevator\", \"jacket\", \"mall\", \"sidewalk\", \"parking\", \"keys\", \"alley\", \"trunk\", \"driving\", \"envelope\", \"buzz\", \"checks\", \"hotel\", \"cell\", \"angle\", \"manhattan\", \"counter\", \"road\", \"coffee\", \"store\", \"fucking\", \"wheel\", \"hallway\", \"cigarette\", \"yellow\", \"photo\", \"gotta\", \"city\", \"bottle\", \"babe\", \"players\", \"classroom\", \"guitar\", \"winner\", \"cafeteria\", \"virgin\", \"bush\", \"theme\", \"pitcher\", \"cock\", \"homework\", \"embarrassing\", \"backstage\", \"cookies\", \"salad\", \"applauds\", \"talent\", \"clapping\", \"clap\", \"math\", \"successful\", \"everyday\", \"messed\", \"ouch\", \"songs\", \"dating\", \"magical\", \"chicks\", \"teachers\", \"school\", \"movie\", \"golf\", \"movies\", \"favorite\", \"cute\", \"corn\", \"whoa\", \"birthday\", \"ball\", \"mill\", \"rabbit\", \"totally\", \"game\", \"party\", \"wanna\", \"cool\", \"funny\", \"weekend\", \"continuous\", \"honey\", \"gotta\", \"dance\", \"parents\", \"cause\", \"kinda\", \"stupid\", \"club\", \"beer\", \"dollars\", \"alright\", \"fucking\", \"kidding\", \"week\", \"eating\", \"bottle\", \"evening\", \"fight\", \"wild\", \"town\", \"damn\", \"shooting\", \"coffee\", \"ship\", \"cockpit\", \"satellite\", \"aircraft\", \"radar\", \"systems\", \"ships\", \"craft\", \"launch\", \"cargo\", \"data\", \"laser\", \"console\", \"harbor\", \"bomb\", \"seals\", \"deck\", \"fuel\", \"planes\", \"tanks\", \"nuclear\", \"technology\", \"screens\", \"military\", \"helicopter\", \"planet\", \"communication\", \"transport\", \"port\", \"bombs\", \"boat\", \"crew\", \"hatch\", \"command\", \"plane\", \"target\", \"monitors\", \"bridge\", \"monitor\", \"panel\", \"electronic\", \"weapons\", \"surface\", \"base\", \"space\", \"ocean\", \"mission\", \"equipment\", \"power\", \"american\", \"angle\", \"corridor\", \"steel\", \"continuous\", \"speed\", \"weapon\", \"center\", \"metal\", \"earth\", \"flying\", \"fires\"], \"Freq\": [2944.0, 3018.0, 2814.0, 7079.0, 3984.0, 4955.0, 2381.0, 1918.0, 2096.0, 3404.0, 3966.0, 2696.0, 4257.0, 3694.0, 1950.0, 2369.0, 3383.0, 1943.0, 2034.0, 1340.0, 1790.0, 2747.0, 2266.0, 2065.0, 3468.0, 1739.0, 1337.0, 2660.0, 1197.0, 2729.0, 2064.599168753146, 1371.0486667106593, 1302.1755409838734, 1271.6423590965362, 1106.809705419044, 975.7006302546409, 812.2543078018427, 672.1350601091946, 657.3779437896748, 519.9603472379767, 491.6726353642075, 432.1334349062085, 413.5516173000118, 414.0368262255671, 404.72734173256424, 409.3021437339157, 411.65819250095876, 388.8944110932955, 351.9959828089642, 281.08593901784957, 265.6798990920042, 270.914514500926, 256.7748078934546, 252.53034153500477, 254.56661181372897, 248.61439001667623, 244.09540262363353, 230.97711385284475, 229.12782601349886, 883.6096079036568, 670.5958514818178, 624.4756173614505, 893.4995783292464, 623.0012573254087, 480.12695994872945, 1079.226224036057, 547.0349142438243, 803.9029857566205, 587.4072941715268, 1224.440568124574, 1101.5828809450963, 1135.56284249585, 742.2980845441862, 890.6701908701592, 971.6240629218127, 674.7817370123499, 2526.832784639322, 924.3701689779787, 1399.3338574728862, 1726.5941644783838, 2084.711896327893, 928.372083396808, 1085.2486692941907, 911.6141149141878, 1335.64105571827, 1921.6319754192252, 1111.3747381131695, 2690.357681735185, 1008.6001554478183, 1130.2136040503542, 1250.1545052372824, 1206.2402437163223, 1085.913332339936, 1373.1281635477003, 1070.7099092465742, 1276.1625720299119, 1318.2362820633284, 1163.2428264262016, 1098.483734550996, 1125.0315993371564, 1049.2759791619726, 1212.336685001963, 834.5664190916842, 595.0165407542181, 547.4800274423266, 501.2986937073974, 498.91498774176614, 422.5602097016661, 414.5004957360699, 357.075380637081, 335.930674067371, 336.2488693598213, 330.43555270702444, 324.6145050088083, 317.70731150649056, 321.72715777663035, 315.1630046358027, 311.19142784155014, 283.7436395878645, 284.8396969886575, 274.20034131016854, 263.7576151907095, 261.080360769734, 256.82917783281647, 241.54914650609268, 241.39961355067476, 231.35193063668015, 228.9401583330844, 228.18563803494996, 217.20322547564302, 219.28504072538135, 651.043625139882, 497.59116184900427, 993.3159700410139, 1681.3457754719152, 3376.5498132831535, 2237.799333056131, 1018.6730721659223, 1322.4105167543446, 1816.8616186941954, 412.8427151121184, 583.9768061273792, 1136.8190404184204, 1669.8055052121595, 1092.79139752857, 1280.640933822734, 1432.7766745318122, 1356.6508543752839, 1070.059877367219, 609.189000708659, 1889.7086826652014, 678.039708893684, 1899.8382023292115, 1226.3441499101473, 1072.3638610567957, 1429.779804156194, 922.404046208041, 1048.5275943282188, 1056.9389717444267, 1035.057668347266, 1566.414336258379, 1130.1281840332206, 1612.609116726153, 1018.688071715582, 2565.5644703438975, 1366.5765916113185, 1407.934380739056, 1421.3972364477024, 1953.9848585905788, 1413.5280894478267, 1967.7923735548416, 1674.7570746099486, 1161.7855595563756, 1122.3789012759996, 1211.908636179516, 1227.6416439943655, 1187.1527715099091, 1942.6976728294092, 1789.5604054301452, 1507.4400204601582, 1091.6872213864037, 696.8967509958018, 558.9521738767936, 563.2123107706707, 450.60179765041164, 406.0823706949175, 386.45324458552074, 380.00734631805665, 366.7822159258736, 310.4116211469326, 304.1856514834143, 293.7515444763297, 278.38635492135893, 268.9903523757406, 251.9327993264468, 234.78511726608815, 230.7366188076863, 234.15583502285426, 225.0757091528076, 218.16129679701766, 209.72490782292283, 196.20064051842598, 193.499095153599, 188.00602155367054, 181.43210395386257, 204.6789718993504, 175.00363629702898, 1358.8086721930822, 2607.484794507028, 3179.937932875021, 424.9077755995117, 1055.3215471164733, 907.0008675986221, 615.9260909803924, 477.47480388467227, 356.7685958291963, 4132.628150883496, 601.9408956231413, 474.6837804995738, 2231.8778802415814, 903.8613382851254, 1448.6486964878052, 1857.3546397931364, 746.7687571095954, 827.3736400122929, 1586.1931135517905, 970.6725499790846, 938.328138838446, 1140.6721263317388, 1430.6926167173528, 621.7083772044174, 1763.3374334313478, 1377.2046623135316, 1941.7844788871103, 1429.5858792265292, 3416.290635971529, 1206.279031629028, 1106.2438006628586, 2406.0774897667006, 1808.8401487664016, 1385.540851847554, 1659.6984237173285, 1376.9057911117457, 1606.903123517646, 1305.0879553668174, 1212.4777393923835, 1193.9233857973036, 1394.6535538283215, 1234.4359511341183, 1203.8640417830186, 1144.1784400967888, 522.0127295391565, 332.44997634648377, 277.95749731431243, 267.52947118649007, 267.90528412973447, 222.88325149349524, 203.39103131958674, 202.2459304250186, 205.39061073013656, 183.89649929201232, 182.774032190593, 175.64162803949728, 169.29892078445366, 164.4789171894156, 158.14520876262006, 155.06938689464903, 153.3291576915915, 161.14691459075232, 152.7695150939423, 143.812735238077, 148.10460456365493, 134.07279630889235, 133.228571982558, 133.59342226487033, 121.26177108295558, 114.82258743998159, 97.23676405870047, 90.98952020194331, 91.6261375832118, 3903.548905979799, 1682.783865427892, 616.9484285823548, 354.1793623977405, 448.96362259649885, 634.7885807255312, 498.12039308495656, 662.0808833044448, 704.3957104392231, 2193.498292656527, 378.1490838031455, 1706.4644062559214, 740.4458615948437, 2096.7498517528134, 2030.2945492036908, 1654.087049600314, 1439.4253214916687, 1129.1718747888115, 599.6120616692215, 2673.3903907688446, 1408.726092368402, 2791.895313643125, 1334.3821485036838, 1160.5106670423727, 1482.8442203331049, 654.3270255434378, 1017.9782761383215, 1386.7173449031898, 1258.4559023857976, 1138.278589541302, 1244.4012241807914, 1723.0944397275055, 744.9554677619269, 1100.1833179437765, 953.6727489121101, 1356.3959671317762, 1382.8660452821441, 1190.421181185929, 1432.0003435586232, 1319.942360223486, 1130.854506519353, 1161.8334450775571, 1035.0486058693803, 2943.595495406004, 518.4503768342373, 336.2447508223876, 254.8998966425185, 181.20279856680915, 142.11337007678952, 285.3417880742742, 161.53428234488683, 223.78809958476407, 267.9757420022296, 299.10312613265825, 433.66089242636207, 377.27376242286937, 486.759682022582, 866.6080355476417, 324.4363907631857, 2764.795040310985, 232.66222142129234, 331.56946720810237, 255.48506468728834, 272.2073179127884, 171.47348320315467, 305.2536850721098, 824.5939274017487, 842.401231089571, 453.22635988343814, 130.55283963740794, 365.22300484673366, 469.48611065160463, 193.37230481346296, 2268.294002032, 1525.287809897044, 430.26413562735524, 535.7184355073299, 1416.2765625994107, 563.9965769003086, 440.31694319524865, 1420.0144941452868, 888.0334743758439, 490.8670932787359, 368.7468438390844, 754.2537721958782, 716.045940154433, 740.4514596403505, 931.3607651862909, 472.521124860172, 423.29266827306094, 451.79686251731505, 710.5999749282553, 640.3582100963284, 972.0930904789735, 659.6030706501052, 538.4278459227024, 692.5278683139675, 592.2023762227992, 495.11989791185107, 542.9474844762407, 541.8424303353366, 511.9010338431205, 514.7907513887246, 495.0369173015854], \"Total\": [2944.0, 3018.0, 2814.0, 7079.0, 3984.0, 4955.0, 2381.0, 1918.0, 2096.0, 3404.0, 3966.0, 2696.0, 4257.0, 3694.0, 1950.0, 2369.0, 3383.0, 1943.0, 2034.0, 1340.0, 1790.0, 2747.0, 2266.0, 2065.0, 3468.0, 1739.0, 1337.0, 2660.0, 1197.0, 2729.0, 2065.390965481508, 1371.8395411419303, 1302.9742298228525, 1272.434967159102, 1107.5943364887223, 976.4859199113977, 813.0398516793125, 672.9301628640413, 658.175073684986, 520.7606029911759, 492.4598087782631, 432.9216555150096, 414.3298223025584, 414.82422460035065, 405.51374636118624, 410.0974728671523, 412.49023710261395, 389.71701982366875, 352.8066719328953, 281.8678226113423, 266.4722534861481, 271.7343270827218, 257.5696610534253, 253.31814766232674, 255.3757288335958, 249.40588724312903, 244.88453882929778, 231.7595169421546, 229.91965724335313, 886.6887895526539, 676.1749660644244, 643.4409382338348, 942.8331120936462, 657.7894860140752, 501.1999028312964, 1198.2784062940211, 580.4483285507574, 890.7288106620853, 632.0362105639472, 1429.7718769565336, 1282.618232376437, 1364.0066595394671, 839.8887279405069, 1047.3213933756738, 1171.972735406892, 755.9856134923301, 3937.363102223382, 1144.0774744720593, 1970.1265407030833, 2592.1321546850045, 3468.1756351531562, 1205.9837345465062, 1519.9148462182156, 1183.6050146160756, 2124.790904929331, 3741.5857290682034, 1619.9039315009861, 7079.139164730705, 1416.7469849619954, 1898.3638192137844, 2369.608818144359, 2191.5638181878694, 1765.6717096259367, 3337.146490864885, 1706.3182744937878, 2786.943309268172, 3799.183851940881, 2506.428045970087, 2233.8173891338706, 3586.848131298135, 2231.7444472694488, 1213.1376728379062, 835.3659230445384, 595.8189396078245, 548.29484750679, 502.1132261130793, 499.74352413465425, 423.3696111160182, 415.3010332288788, 357.88748454815925, 336.73657379243633, 337.07221781123, 331.2564176240565, 325.43132419543105, 318.50839857104495, 322.5438026784046, 315.9709994377683, 311.9958983053329, 284.55160589518204, 285.6664562066695, 275.0122505103114, 264.56475317576684, 261.89875847577395, 257.6365380758113, 242.349949316839, 242.22661697563333, 232.15777633940795, 229.7508716813664, 228.99422186372078, 218.01716983431794, 220.11052271315992, 660.1997704077714, 504.5279169154327, 1036.0772347062189, 1794.1355599641206, 3694.9806995276276, 2424.079400206217, 1084.6267662572873, 1433.9991409352185, 2005.5821809897918, 424.159611188649, 613.4939289797165, 1250.8613427631274, 1891.4973387549242, 1202.2225292763314, 1446.5959421216478, 1650.5554682149923, 1555.6298278011707, 1198.8200087260789, 650.7481452420517, 2364.629645620517, 751.0908459454683, 2471.434006106954, 1492.3233359770882, 1282.0660197298628, 1817.5634165622052, 1080.9943414946686, 1270.4370728566114, 1289.2651578614937, 1256.7290313789165, 2190.3979636584145, 1440.0688324362213, 2389.6934449318387, 1279.9677911289214, 4882.913901461988, 1989.1420290600968, 2104.748946926394, 2160.0042145317125, 3826.047444543442, 2231.640198170604, 5168.064792636404, 3799.183851940881, 1606.7435159219685, 1553.6242376631358, 2266.374378374157, 2506.428045970087, 2635.9085991244383, 1943.5122681834384, 1790.357053975616, 1508.2624755032093, 1092.4923673097805, 697.7162354755902, 559.7657300711869, 564.0605926182011, 451.4122749639644, 406.8917850723796, 387.25089757615865, 380.81103812595876, 367.59039222561756, 311.22534957396977, 304.99497313734474, 294.5650478764544, 279.1955354437195, 269.8089089388957, 252.7690498958416, 235.5872901041827, 231.54488535795713, 234.98774126517856, 225.8855217643009, 218.97277243799365, 210.52631605321696, 197.01711688597425, 194.3098613731, 188.82163885245507, 182.2409801392893, 205.61011598575615, 175.81715329451603, 1387.380055627948, 2696.665953172309, 3404.6000478548353, 433.9275348788617, 1108.6472887421664, 961.9582053298873, 648.344302248112, 496.06509077790736, 366.7412555319536, 4955.363575410038, 644.0146043168684, 499.8302861534498, 2660.7285851506067, 999.5885158928336, 1775.5849231735028, 2390.401289244036, 858.7483039796274, 971.6248771139778, 2077.3920927273075, 1175.2251811718515, 1166.5637450326979, 1505.808865288052, 2019.1500328191796, 705.021566331484, 2742.9421712145386, 2001.1111263918074, 3152.7894444279555, 2136.6852234461417, 7079.139164730705, 1745.917482125251, 1570.100111849512, 5168.064792636404, 3406.6886073346554, 2298.4498311522593, 3383.392183969749, 2408.143536107299, 3586.848131298135, 2275.947683564029, 2049.1044615749042, 2062.703002468505, 4257.009891952558, 3741.5857290682034, 2944.354954953847, 1145.167289355633, 522.8104160238514, 333.24226459777884, 278.75337459817285, 268.33022410543117, 268.7324855699137, 223.69599578933278, 204.18882282791927, 203.05581822527355, 206.23358944720795, 184.70466494961738, 183.57823642109614, 176.43725576436782, 170.0890974794165, 165.27360514975666, 158.9435987826963, 155.87539090591852, 154.1329872234568, 161.99738613639323, 153.5858592746655, 144.60445657418873, 148.94718588997085, 134.86984687356733, 134.0242043375098, 134.42456415767558, 122.07166458341443, 115.61087744869998, 98.0490459039747, 91.77533126331413, 92.41747195084679, 3984.038282899372, 1739.9660284072233, 649.7945034058556, 366.8533840259731, 473.0568954677959, 685.4802479374018, 532.7168073298654, 721.0226228425936, 779.6687004451022, 2729.881029027071, 409.51358009389344, 2107.6787364902975, 869.9787265431172, 2807.198515788723, 2747.5527272147856, 2234.426569703234, 1919.4242107309763, 1458.2059028374845, 710.3273273383345, 3966.6041124135363, 1901.9934952762444, 4257.009891952558, 1848.2168383273895, 1569.0434301627467, 2157.714158611286, 809.1997460080938, 1408.466709577806, 2125.54878065116, 1929.629848484632, 1734.0102247422915, 2007.29104365317, 3383.392183969749, 979.2822126245961, 1757.6281060668307, 1505.7641914152493, 2944.354954953847, 3468.1756351531562, 2546.7396394685748, 3826.047444543442, 3214.9139644076145, 2368.9580428766276, 2595.3710233775582, 3406.6886073346554, 2944.399768391675, 519.2563462255563, 337.1044090018137, 255.71522690154194, 182.00474129456134, 142.9227390676424, 290.14192146357465, 165.548121587058, 230.8873845327496, 277.76059808514054, 311.5270488620989, 456.13068934800947, 403.3299705837573, 524.5297032659062, 933.9294106109671, 353.73401016100746, 3018.4337438499406, 255.69208031590517, 367.5433221729053, 285.78525987105104, 307.87324529811025, 194.29648092178218, 349.60861675889475, 956.0163465175913, 976.947607974469, 528.0991718739326, 152.12062862023765, 428.61101166110547, 555.6809988925743, 231.9263225690587, 2814.190421954508, 1918.652762630643, 523.1006892929416, 676.1215305054117, 2096.760406791662, 727.7357236372188, 545.864931752393, 2381.2365809006496, 1340.706861015056, 643.62491626566, 449.2532291344554, 1169.4423058726093, 1197.5826612154551, 1337.881994401898, 1950.4185870359402, 671.8663715582688, 572.52780173624, 711.2943319076458, 2034.1891938126932, 1949.0076337169412, 7079.139164730705, 2369.608818144359, 1380.7839225261796, 3966.6041124135363, 2635.9085991244383, 1021.6945280178093, 2111.122578593172, 2266.374378374157, 1504.5274747772899, 1870.023363131483, 1989.838830985459], \"Category\": [\"Default\", \"Default\", \"Default\", \"Default\", \"Default\", \"Default\", \"Default\", \"Default\", \"Default\", \"Default\", \"Default\", \"Default\", \"Default\", \"Default\", \"Default\", \"Default\", \"Default\", \"Default\", \"Default\", \"Default\", \"Default\", \"Default\", \"Default\", \"Default\", \"Default\", \"Default\", \"Default\", \"Default\", \"Default\", \"Default\", \"Topic1\", \"Topic1\", \"Topic1\", \"Topic1\", \"Topic1\", \"Topic1\", \"Topic1\", \"Topic1\", \"Topic1\", \"Topic1\", \"Topic1\", \"Topic1\", \"Topic1\", \"Topic1\", \"Topic1\", \"Topic1\", \"Topic1\", \"Topic1\", \"Topic1\", \"Topic1\", \"Topic1\", \"Topic1\", \"Topic1\", \"Topic1\", \"Topic1\", \"Topic1\", \"Topic1\", \"Topic1\", \"Topic1\", \"Topic1\", \"Topic1\", \"Topic1\", \"Topic1\", \"Topic1\", \"Topic1\", \"Topic1\", \"Topic1\", \"Topic1\", \"Topic1\", \"Topic1\", \"Topic1\", \"Topic1\", \"Topic1\", \"Topic1\", \"Topic1\", \"Topic1\", \"Topic1\", \"Topic1\", \"Topic1\", \"Topic1\", \"Topic1\", \"Topic1\", \"Topic1\", \"Topic1\", \"Topic1\", \"Topic1\", \"Topic1\", \"Topic1\", \"Topic1\", \"Topic1\", \"Topic1\", \"Topic1\", \"Topic1\", \"Topic1\", \"Topic1\", \"Topic1\", \"Topic1\", \"Topic1\", \"Topic1\", \"Topic1\", \"Topic1\", \"Topic2\", \"Topic2\", \"Topic2\", \"Topic2\", \"Topic2\", \"Topic2\", \"Topic2\", \"Topic2\", \"Topic2\", \"Topic2\", \"Topic2\", \"Topic2\", \"Topic2\", \"Topic2\", \"Topic2\", \"Topic2\", \"Topic2\", \"Topic2\", \"Topic2\", \"Topic2\", \"Topic2\", \"Topic2\", \"Topic2\", \"Topic2\", \"Topic2\", \"Topic2\", \"Topic2\", \"Topic2\", \"Topic2\", \"Topic2\", \"Topic2\", \"Topic2\", \"Topic2\", \"Topic2\", \"Topic2\", \"Topic2\", \"Topic2\", \"Topic2\", \"Topic2\", \"Topic2\", \"Topic2\", \"Topic2\", \"Topic2\", \"Topic2\", \"Topic2\", \"Topic2\", \"Topic2\", \"Topic2\", \"Topic2\", \"Topic2\", \"Topic2\", \"Topic2\", \"Topic2\", \"Topic2\", \"Topic2\", \"Topic2\", \"Topic2\", \"Topic2\", \"Topic2\", \"Topic2\", \"Topic2\", \"Topic2\", \"Topic2\", \"Topic2\", \"Topic2\", \"Topic2\", \"Topic2\", \"Topic2\", \"Topic2\", \"Topic2\", \"Topic2\", \"Topic2\", \"Topic2\", \"Topic2\", \"Topic2\", \"Topic2\", \"Topic3\", \"Topic3\", \"Topic3\", \"Topic3\", \"Topic3\", \"Topic3\", \"Topic3\", \"Topic3\", \"Topic3\", \"Topic3\", \"Topic3\", \"Topic3\", \"Topic3\", \"Topic3\", \"Topic3\", \"Topic3\", \"Topic3\", \"Topic3\", \"Topic3\", \"Topic3\", \"Topic3\", \"Topic3\", \"Topic3\", \"Topic3\", \"Topic3\", \"Topic3\", \"Topic3\", \"Topic3\", \"Topic3\", \"Topic3\", \"Topic3\", \"Topic3\", \"Topic3\", \"Topic3\", \"Topic3\", \"Topic3\", \"Topic3\", \"Topic3\", \"Topic3\", \"Topic3\", \"Topic3\", \"Topic3\", \"Topic3\", \"Topic3\", \"Topic3\", \"Topic3\", \"Topic3\", \"Topic3\", \"Topic3\", \"Topic3\", \"Topic3\", \"Topic3\", \"Topic3\", \"Topic3\", \"Topic3\", \"Topic3\", \"Topic3\", \"Topic3\", \"Topic3\", \"Topic3\", \"Topic3\", \"Topic3\", \"Topic3\", \"Topic3\", \"Topic3\", \"Topic3\", \"Topic3\", \"Topic3\", \"Topic3\", \"Topic3\", \"Topic3\", \"Topic3\", \"Topic3\", \"Topic4\", \"Topic4\", \"Topic4\", \"Topic4\", \"Topic4\", \"Topic4\", \"Topic4\", \"Topic4\", \"Topic4\", \"Topic4\", \"Topic4\", \"Topic4\", \"Topic4\", \"Topic4\", \"Topic4\", \"Topic4\", \"Topic4\", \"Topic4\", \"Topic4\", \"Topic4\", \"Topic4\", \"Topic4\", \"Topic4\", \"Topic4\", \"Topic4\", \"Topic4\", \"Topic4\", \"Topic4\", \"Topic4\", \"Topic4\", \"Topic4\", \"Topic4\", \"Topic4\", \"Topic4\", \"Topic4\", \"Topic4\", \"Topic4\", \"Topic4\", \"Topic4\", \"Topic4\", \"Topic4\", \"Topic4\", \"Topic4\", \"Topic4\", \"Topic4\", \"Topic4\", \"Topic4\", \"Topic4\", \"Topic4\", \"Topic4\", \"Topic4\", \"Topic4\", \"Topic4\", \"Topic4\", \"Topic4\", \"Topic4\", \"Topic4\", \"Topic4\", \"Topic4\", \"Topic4\", \"Topic4\", \"Topic4\", \"Topic4\", \"Topic4\", \"Topic4\", \"Topic4\", \"Topic4\", \"Topic4\", \"Topic4\", \"Topic4\", \"Topic4\", \"Topic4\", \"Topic4\", \"Topic5\", \"Topic5\", \"Topic5\", \"Topic5\", \"Topic5\", \"Topic5\", \"Topic5\", \"Topic5\", \"Topic5\", \"Topic5\", \"Topic5\", \"Topic5\", \"Topic5\", \"Topic5\", \"Topic5\", \"Topic5\", \"Topic5\", \"Topic5\", \"Topic5\", \"Topic5\", \"Topic5\", \"Topic5\", \"Topic5\", \"Topic5\", \"Topic5\", \"Topic5\", \"Topic5\", \"Topic5\", \"Topic5\", \"Topic5\", \"Topic5\", \"Topic5\", \"Topic5\", \"Topic5\", \"Topic5\", \"Topic5\", \"Topic5\", \"Topic5\", \"Topic5\", \"Topic5\", \"Topic5\", \"Topic5\", \"Topic5\", \"Topic5\", \"Topic5\", \"Topic5\", \"Topic5\", \"Topic5\", \"Topic5\", \"Topic5\", \"Topic5\", \"Topic5\", \"Topic5\", \"Topic5\", \"Topic5\", \"Topic5\", \"Topic5\", \"Topic5\", \"Topic5\", \"Topic5\", \"Topic5\"], \"logprob\": [30.0, 29.0, 28.0, 27.0, 26.0, 25.0, 24.0, 23.0, 22.0, 21.0, 20.0, 19.0, 18.0, 17.0, 16.0, 15.0, 14.0, 13.0, 12.0, 11.0, 10.0, 9.0, 8.0, 7.0, 6.0, 5.0, 4.0, 3.0, 2.0, 1.0, -5.6746, -6.084, -6.1355, -6.1592, -6.298, -6.4241, -6.6075, -6.7968, -6.819, -7.0535, -7.1095, -7.2385, -7.2825, -7.2813, -7.3041, -7.2928, -7.2871, -7.344, -7.4437, -7.6686, -7.725, -7.7055, -7.7591, -7.7758, -7.7677, -7.7914, -7.8097, -7.865, -7.873, -6.5233, -6.7991, -6.8704, -6.5121, -6.8727, -7.1332, -6.3233, -7.0028, -6.6178, -6.9316, -6.197, -6.3028, -6.2724, -6.6975, -6.5153, -6.4283, -6.7929, -5.4726, -6.4782, -6.0635, -5.8534, -5.6649, -6.4739, -6.3177, -6.4921, -6.1101, -5.7464, -6.2939, -5.4099, -6.391, -6.2771, -6.1763, -6.212, -6.3171, -6.0824, -6.3312, -6.1557, -6.1232, -6.2483, -6.3056, -6.2817, -6.3514, -6.1489, -6.5223, -6.8606, -6.9438, -7.032, -7.0367, -7.2028, -7.2221, -7.3712, -7.4323, -7.4313, -7.4488, -7.4665, -7.488, -7.4755, -7.4961, -7.5088, -7.6011, -7.5972, -7.6353, -7.6741, -7.6843, -7.7008, -7.7621, -7.7627, -7.8052, -7.8157, -7.819, -7.8683, -7.8588, -6.7706, -7.0394, -6.3481, -5.8218, -5.1246, -5.5359, -6.3229, -6.062, -5.7443, -7.2261, -6.8793, -6.2132, -5.8287, -6.2527, -6.0941, -5.9818, -6.0364, -6.2737, -6.837, -5.705, -6.73, -5.6996, -6.1374, -6.2716, -5.9839, -6.4222, -6.294, -6.286, -6.307, -5.8926, -6.2191, -5.8636, -6.3229, -5.3992, -6.0291, -5.9993, -5.9898, -5.6715, -5.9953, -5.6645, -5.8257, -6.1915, -6.226, -6.1492, -6.1363, -6.1699, -5.4595, -5.5416, -5.7131, -6.0358, -6.4847, -6.7053, -6.6977, -6.9207, -7.0248, -7.0743, -7.0911, -7.1265, -7.2934, -7.3137, -7.3486, -7.4023, -7.4366, -7.5022, -7.5726, -7.59, -7.5753, -7.6149, -7.6461, -7.6855, -7.7522, -7.766, -7.7948, -7.8304, -7.7099, -7.8665, -5.817, -5.1652, -4.9667, -6.9794, -6.0697, -6.2212, -6.6082, -6.8628, -7.1542, -4.7046, -6.6312, -6.8687, -5.3207, -6.2246, -5.7529, -5.5044, -6.4156, -6.3131, -5.6622, -6.1533, -6.1872, -5.9919, -5.7654, -6.5988, -5.5564, -5.8035, -5.46, -5.7662, -4.895, -5.936, -6.0226, -5.2456, -5.5309, -5.7975, -5.6169, -5.8037, -5.6493, -5.8573, -5.9309, -5.9463, -5.7909, -5.9129, -5.938, -5.9223, -6.707, -7.1582, -7.3372, -7.3755, -7.3741, -7.5581, -7.6496, -7.6552, -7.6398, -7.7503, -7.7564, -7.7963, -7.833, -7.8619, -7.9012, -7.9208, -7.9321, -7.8824, -7.9358, -7.9962, -7.9668, -8.0663, -8.0726, -8.0699, -8.1667, -8.2213, -8.3876, -8.454, -8.447, -4.6951, -5.5365, -6.5399, -7.0949, -6.8578, -6.5114, -6.7539, -6.4693, -6.4074, -5.2714, -7.0294, -5.5225, -6.3574, -5.3166, -5.3488, -5.5537, -5.6927, -5.9355, -6.5684, -5.0736, -5.7143, -5.0302, -5.7685, -5.9081, -5.663, -6.4811, -6.0391, -5.73, -5.8271, -5.9274, -5.8383, -5.5128, -6.3514, -5.9615, -6.1044, -5.7521, -5.7328, -5.8826, -5.6979, -5.7794, -5.934, -5.9069, -6.0225, -3.851, -5.5875, -6.0205, -6.2975, -6.6387, -6.8817, -6.1847, -6.7536, -6.4276, -6.2474, -6.1376, -5.7661, -5.9054, -5.6506, -5.0738, -6.0563, -3.9136, -6.3888, -6.0345, -6.2952, -6.2318, -6.6939, -6.1172, -5.1235, -5.1021, -5.722, -6.9666, -5.9378, -5.6867, -6.5737, -4.1116, -4.5084, -5.7739, -5.5547, -4.5826, -5.5033, -5.7509, -4.5799, -5.0493, -5.6422, -5.9282, -5.2126, -5.2646, -5.2311, -5.0017, -5.6803, -5.7903, -5.7251, -5.2722, -5.3763, -4.9589, -5.3467, -5.5497, -5.298, -5.4545, -5.6335, -5.5413, -5.5434, -5.6002, -5.5946, -5.6337], \"loglift\": [30.0, 29.0, 28.0, 27.0, 26.0, 25.0, 24.0, 23.0, 22.0, 21.0, 20.0, 19.0, 18.0, 17.0, 16.0, 15.0, 14.0, 13.0, 12.0, 11.0, 10.0, 9.0, 8.0, 7.0, 6.0, 5.0, 4.0, 3.0, 2.0, 1.0, 1.2923, 1.2921, 1.2921, 1.292, 1.292, 1.2919, 1.2917, 1.2915, 1.2915, 1.2911, 1.2911, 1.2908, 1.2908, 1.2908, 1.2907, 1.2907, 1.2906, 1.2906, 1.2904, 1.2899, 1.2897, 1.2896, 1.2896, 1.2896, 1.2895, 1.2895, 1.2894, 1.2893, 1.2892, 1.2892, 1.2844, 1.2627, 1.2389, 1.2383, 1.2497, 1.188, 1.2334, 1.1901, 1.2194, 1.1376, 1.1405, 1.1094, 1.1691, 1.1306, 1.1052, 1.179, 0.8491, 1.0794, 0.9506, 0.8863, 0.7837, 1.031, 0.9558, 1.0316, 0.8284, 0.6263, 0.9159, 0.3252, 0.9529, 0.7741, 0.6532, 0.6956, 0.8066, 0.4046, 0.8267, 0.5116, 0.2342, 0.525, 0.5829, 0.1332, 0.538, 1.3501, 1.3498, 1.3494, 1.3493, 1.3492, 1.3491, 1.3489, 1.3488, 1.3485, 1.3484, 1.3483, 1.3483, 1.3483, 1.3483, 1.3482, 1.3482, 1.3482, 1.3479, 1.3479, 1.3478, 1.3477, 1.3476, 1.3476, 1.3475, 1.3474, 1.3473, 1.3472, 1.3472, 1.347, 1.347, 1.3368, 1.3369, 1.3086, 1.2858, 1.2607, 1.2708, 1.288, 1.2698, 1.252, 1.3237, 1.3015, 1.2552, 1.2261, 1.2553, 1.2289, 1.2093, 1.2139, 1.2372, 1.2848, 1.1266, 1.2485, 1.0877, 1.1545, 1.1722, 1.1108, 1.1921, 1.1588, 1.1521, 1.1567, 1.0155, 1.1084, 0.9575, 1.1225, 0.7072, 0.9754, 0.9487, 0.9323, 0.6788, 0.8941, 0.3852, 0.5317, 1.0265, 1.0256, 0.7248, 0.637, 0.5531, 1.5682, 1.5682, 1.5681, 1.5679, 1.5675, 1.5672, 1.5671, 1.5668, 1.5666, 1.5666, 1.5665, 1.5664, 1.566, 1.566, 1.5659, 1.5657, 1.5656, 1.5653, 1.5652, 1.5651, 1.5651, 1.565, 1.5649, 1.5648, 1.5645, 1.5645, 1.5643, 1.5642, 1.5641, 1.564, 1.5478, 1.535, 1.5004, 1.5476, 1.5193, 1.5098, 1.5173, 1.5304, 1.5411, 1.3871, 1.5011, 1.517, 1.3929, 1.468, 1.3651, 1.3163, 1.4289, 1.4079, 1.2989, 1.3774, 1.3509, 1.2909, 1.2241, 1.4429, 1.1268, 1.195, 1.084, 1.1668, 0.84, 1.1989, 1.2185, 0.8041, 0.9356, 1.0625, 0.8564, 1.0096, 0.7657, 1.0125, 1.0439, 1.0219, 0.4527, 0.4597, 0.6743, 1.6344, 1.6337, 1.6329, 1.6324, 1.6323, 1.6322, 1.6316, 1.6313, 1.6313, 1.6312, 1.6309, 1.6309, 1.6307, 1.6306, 1.6304, 1.6302, 1.6301, 1.63, 1.63, 1.6299, 1.6298, 1.6296, 1.6293, 1.6293, 1.629, 1.6286, 1.6284, 1.6269, 1.6267, 1.6267, 1.6148, 1.6018, 1.5834, 1.6001, 1.583, 1.5584, 1.5681, 1.55, 1.5337, 1.4165, 1.5556, 1.4241, 1.474, 1.3435, 1.3327, 1.3345, 1.3475, 1.3795, 1.4658, 1.2407, 1.335, 1.2134, 1.3095, 1.3336, 1.2602, 1.4228, 1.3106, 1.2082, 1.2078, 1.2143, 1.1571, 0.9605, 1.3618, 1.1668, 1.1785, 0.8602, 0.7158, 0.8747, 0.6525, 0.745, 0.8958, 0.8315, 0.444, 2.7613, 2.7601, 2.7591, 2.7584, 2.7572, 2.7559, 2.7449, 2.7371, 2.7304, 2.7257, 2.7209, 2.7111, 2.6948, 2.6869, 2.6868, 2.6751, 2.6738, 2.6672, 2.6586, 2.6495, 2.6385, 2.6366, 2.6259, 2.6137, 2.6134, 2.6087, 2.6087, 2.6016, 2.593, 2.5798, 2.546, 2.5322, 2.5662, 2.5288, 2.3692, 2.5067, 2.5467, 2.2447, 2.3497, 2.4907, 2.5641, 2.3231, 2.2473, 2.17, 2.0225, 2.4096, 2.4596, 2.3078, 1.7099, 1.6486, 0.7761, 1.4828, 1.8199, 1.0163, 1.2685, 2.0372, 1.4036, 1.3306, 1.6835, 1.4717, 1.3704]}, \"token.table\": {\"Topic\": [1, 2, 3, 4, 5, 2, 3, 1, 2, 3, 4, 1, 3, 4, 5, 1, 3, 5, 1, 3, 4, 1, 4, 2, 3, 1, 2, 4, 3, 4, 1, 2, 3, 4, 5, 1, 2, 3, 5, 2, 4, 5, 1, 2, 3, 4, 1, 2, 1, 2, 3, 1, 2, 4, 3, 4, 2, 2, 2, 1, 4, 5, 3, 4, 5, 4, 5, 1, 2, 3, 4, 2, 1, 2, 5, 4, 2, 3, 3, 4, 2, 3, 4, 1, 1, 2, 2, 5, 1, 2, 3, 1, 3, 4, 2, 1, 2, 3, 1, 2, 3, 4, 5, 1, 3, 1, 2, 3, 4, 5, 3, 4, 1, 3, 4, 1, 4, 1, 2, 3, 5, 4, 4, 4, 2, 2, 2, 3, 4, 5, 1, 3, 1, 3, 4, 4, 5, 1, 3, 4, 1, 2, 5, 1, 4, 5, 2, 5, 1, 2, 3, 4, 5, 4, 3, 4, 3, 4, 2, 3, 1, 2, 5, 3, 4, 1, 3, 4, 5, 2, 5, 2, 4, 5, 3, 4, 1, 2, 3, 4, 5, 1, 2, 4, 1, 2, 3, 1, 4, 3, 1, 5, 4, 1, 2, 4, 1, 2, 4, 5, 2, 3, 5, 3, 3, 2, 3, 4, 1, 3, 4, 3, 1, 4, 1, 3, 4, 2, 3, 1, 2, 4, 5, 1, 3, 4, 2, 3, 5, 1, 1, 2, 3, 4, 1, 3, 4, 1, 3, 1, 2, 3, 5, 1, 1, 4, 4, 1, 2, 3, 1, 4, 3, 4, 1, 1, 2, 3, 4, 2, 3, 5, 2, 2, 3, 2, 2, 3, 4, 5, 1, 3, 2, 3, 3, 3, 3, 4, 2, 5, 2, 3, 4, 1, 1, 2, 3, 4, 3, 4, 1, 4, 1, 1, 1, 4, 5, 1, 2, 3, 1, 3, 4, 3, 4, 5, 4, 3, 1, 2, 3, 4, 3, 1, 5, 2, 5, 3, 5, 3, 2, 3, 4, 5, 2, 4, 3, 4, 2, 4, 3, 1, 3, 4, 1, 3, 4, 2, 2, 1, 1, 3, 4, 1, 3, 5, 1, 3, 3, 1, 3, 4, 2, 1, 2, 3, 4, 3, 4, 5, 3, 4, 1, 3, 4, 2, 3, 2, 5, 2, 5, 2, 4, 1, 4, 1, 3, 2, 2, 4, 1, 3, 2, 3, 4, 3, 4, 1, 3, 1, 4, 4, 2, 3, 5, 1, 5, 2, 4, 1, 2, 5, 2, 3, 4, 5, 3, 5, 3, 3, 2, 5, 3, 4, 3, 4, 1, 1, 5, 1, 2, 4, 5, 4, 1, 4, 1, 2, 3, 5, 3, 1, 4, 1, 2, 3, 3, 4, 1, 4, 5, 1, 1, 3, 4, 5, 3, 4, 1, 3, 5, 1, 5, 4, 5, 4, 1, 1, 5, 1, 2, 4, 5, 1, 1, 3, 5, 2, 4, 5, 1, 2, 4, 1, 4, 2, 3, 1, 1, 2, 3, 1, 2, 3, 4, 2, 3, 2, 4, 5, 2, 4, 5, 2, 3, 1, 2, 1, 4, 5, 3, 4, 2, 3, 4, 2, 3, 5, 1, 5, 1, 3, 4, 1, 3, 1, 2, 3, 5, 1, 2, 3, 1, 2, 5, 2, 5, 1, 2, 3, 4, 5, 3, 2, 1, 3, 4, 3, 1, 2, 3, 4, 1, 2, 3, 4, 2, 1, 2, 3, 4, 1, 2, 4, 1, 4, 4, 1, 2, 4, 5, 1, 3, 4, 2, 3, 4, 5, 2, 3, 5, 2, 3, 4, 2, 3, 4, 1, 4, 3, 4, 4, 1, 1, 4, 2, 5, 2, 3, 4, 2, 2, 5, 4, 2, 5, 3, 2, 3, 5, 4, 3, 5, 3, 1, 2, 1, 1, 4, 2, 1, 2, 4, 1, 3, 2, 3, 4, 5, 1, 2, 3, 4, 5, 1, 2, 3, 4, 2, 3, 3, 1, 2, 3, 2, 5, 1, 2, 2, 4, 1, 2, 4, 2, 3, 5, 1, 4, 2, 3, 1, 4, 3, 2, 5, 1, 3, 4, 1, 2, 4, 1, 3, 1, 2, 3, 3, 4, 3, 2, 3, 5, 2, 3, 5, 1, 3, 4, 3, 4, 1, 1, 2, 3, 2, 3, 4, 1, 2, 4, 1, 2, 4, 5, 2, 3, 4, 1, 3, 4, 1, 2, 4, 1, 2, 3], \"Freq\": [0.5952494398402486, 0.21808253813616185, 0.025811701373603696, 0.16066467181528832, 0.9972030335846316, 0.19544581337354122, 0.8040709339665862, 0.9973238731283092, 0.1265387004057631, 0.2530774008115262, 0.6197407216723201, 0.3514609117736704, 0.1380189565943319, 0.1821439761746759, 0.32837223873744387, 0.3799897045960008, 0.48254454680295117, 0.13730483006219804, 0.12128272544568428, 0.8340457641714029, 0.044598140305318175, 0.9987440786802577, 0.994384033933574, 0.9983140191382106, 0.9970326557969628, 0.9471115200930244, 0.05168826915435446, 0.9989806822405048, 0.9960628220816616, 0.9935969001214302, 0.0391958473143186, 0.04578954125504509, 0.049819020885489056, 0.803331711778511, 0.0615411434467806, 0.09132836823574221, 0.04434875494575136, 0.8388679749060767, 0.025556909629755025, 0.3057070815747423, 0.14052061451357348, 0.5531130571278956, 0.9972976285675595, 0.9991269776896744, 0.34773508532061037, 0.6519385057128582, 0.1314708921807254, 0.868192573709583, 0.45784928446752904, 0.39505647507738983, 0.14711458199975463, 0.07867675960956265, 0.7867675960956265, 0.13479584688351642, 0.09619470418292221, 0.9029476232636965, 0.9963192530207907, 0.9953344507907752, 0.9978126112523484, 0.14355816040316646, 0.05010321934862988, 0.8059156133524296, 0.021414894715561215, 0.050325002581568856, 0.9283356859195787, 0.16384513658937988, 0.8321608253092189, 0.10630511768745161, 0.024113940433894775, 0.4089180884846382, 0.4605422989910044, 0.9976384102227516, 0.06383238071309545, 0.33973944734798833, 0.5963288198197075, 0.9941778261343857, 0.35691601896459657, 0.6427404917615769, 0.9990866997048378, 0.997274294663854, 0.9369414650215265, 0.006131086326732179, 0.05685189139333474, 0.9981601526564244, 0.9994633987651053, 0.9977829181643014, 0.03240200396328811, 0.9648596735734682, 0.0096415353074837, 0.02336218170659512, 0.9667493287157694, 0.05885858397561693, 0.2539724725877014, 0.6873014176050386, 0.9985121885552359, 0.09360293121577873, 0.23728343063199908, 0.669260958192818, 0.29226157034006134, 0.2235777329019594, 0.12363090738858348, 0.10373627861340913, 0.25720912916475414, 0.9423750109949149, 0.05685260578214295, 0.08245419148586246, 0.006496390844340678, 0.6881177071274703, 0.06646307556133156, 0.15591338026417628, 0.9957179277891408, 0.99155185546441, 0.30097352630150165, 0.5733875209101601, 0.12566193944851017, 0.9471453521790434, 0.05197102156413564, 0.5136859447234023, 0.13256411476732963, 0.32980668875581604, 0.02378670607720229, 0.9961854608397394, 0.9938431961145751, 0.9962721877452182, 0.9950129762712953, 0.9975202135126918, 0.6336146844635314, 0.2536251141487686, 0.08065816351020909, 0.032711366312473684, 0.05613549497348652, 0.942868406313931, 0.055515075012228514, 0.29168937718289556, 0.6525373647623809, 0.9961849098407471, 0.9975804894158953, 0.16496958330444553, 0.5310141925226726, 0.3038140902492903, 0.11240582731212358, 0.0946575387891567, 0.7927568873591874, 0.10517968631291476, 0.032868651972785864, 0.8611586816869896, 0.061983987859410485, 0.9347185369199101, 0.9998107063078894, 0.05042096320479716, 0.1010940312256183, 0.673876173232114, 0.17470863750462215, 0.9922939591678742, 0.24955400547833143, 0.7497039955810415, 0.06382377941183812, 0.9348306513851583, 0.9870613365552835, 0.01189230525970221, 0.527513229368751, 0.19370285782420535, 0.2785269851067005, 0.7044136814290004, 0.2948856550647624, 0.710106671371848, 0.14313801381476848, 0.12791056553660163, 0.01878051954307246, 0.018121619087187093, 0.978567430708103, 0.9992751445221836, 0.20483122723111302, 0.7948285535049551, 0.0729415619931415, 0.926357837312897, 0.017307187066181073, 0.2916894210422225, 0.14183450863992295, 0.47742508711831205, 0.07176150734758006, 0.2726952755479238, 0.005410620546585789, 0.7217767809145443, 0.09251929485409349, 0.8828984137504923, 0.024319357504504577, 0.9697859786677582, 0.027974595538493022, 0.998081755182674, 0.03851992962996911, 0.9597882466133971, 0.9947160901968671, 0.850741716569136, 0.014322251120692525, 0.13462916053450974, 0.027166407136507476, 0.01523969180828468, 0.04174350364877978, 0.9160379967371118, 0.7221823480867176, 0.09654844225758256, 0.18086741516253801, 0.9978082991471038, 0.9955575644078347, 0.7846847140551847, 0.11041138896882687, 0.10416168770644045, 0.9983725835519939, 0.34313523156325615, 0.6562821739814882, 0.9986320526069191, 0.7138557812627784, 0.28554231250511136, 0.028724958055256145, 0.7087140513288197, 0.2624866856773406, 0.9394936873227414, 0.05992844914227497, 0.11565092889098395, 0.5204291800094278, 0.023263117880370335, 0.3403061815642746, 0.2689664173905912, 0.09762484779362199, 0.6335653387422815, 0.9980614908376753, 0.17807328876440215, 0.8213630444258049, 0.9969211717630538, 0.17233757507530884, 0.011827088485560409, 0.8160691055036683, 0.9975217492333265, 0.8293708297424988, 0.07935338185807858, 0.09129905224531622, 0.11772689512447541, 0.8822425152701652, 0.06888850058538375, 0.09560036815930807, 0.19963606292090802, 0.6354612707059889, 0.9960000930134488, 0.6011806261674304, 0.39876873188947537, 0.9935504718531878, 0.6858431406920279, 0.2222354011243295, 0.09136344268444657, 0.8076376125020596, 0.1914206029631505, 0.04861994449368672, 0.9491458729419713, 0.9978710801290058, 0.20339731316550697, 0.32826284518603055, 0.0007853178114498339, 0.46726409781265116, 0.4060630375776924, 0.3447515393295755, 0.2487638658427695, 0.9968190264442663, 0.8198468666858629, 0.17994746742773907, 0.9986255226992893, 0.5026675166378164, 0.031015655281907816, 0.19090670578691535, 0.27539762879625046, 0.06366315255147097, 0.9347614106337931, 0.9990622063238339, 0.9975071231392705, 0.9974999987503514, 0.9998005682861845, 0.49063185990230507, 0.5092522256696818, 0.08604099107340049, 0.9112523145501052, 0.07132051776613244, 0.15429919709019035, 0.7742390822881108, 0.9982146487584116, 0.06412086604763198, 0.09440016390345819, 0.09440016390345819, 0.7470080894549125, 0.9516101385112006, 0.04780600695838259, 0.996967606239828, 0.0022555828195471223, 0.9992523030766426, 0.9990663019193305, 0.8834503611204069, 0.07858183805114131, 0.036909651205839104, 0.641800091683958, 0.15644988384539696, 0.20165780482669673, 0.9988115182893602, 0.049246338392020986, 0.9495309621211547, 0.32769479879224733, 0.6558594109160965, 0.01644346660606259, 0.9972973435774227, 0.9932589042890371, 0.3136458413679325, 0.03512833423320844, 0.44802565962512675, 0.2032425052064203, 0.9976467398227572, 0.07053937988568618, 0.9284507568737613, 0.17587436201690623, 0.8220214746442356, 0.13716191012312903, 0.8618681218184675, 0.9997364214305078, 0.6689633944495517, 0.08171996011741683, 0.11830389575137669, 0.13065691297842807, 0.9985560165462156, 0.9968501907831288, 0.2592017276738357, 0.7408016922767434, 0.8723154928946515, 0.12727963713569712, 0.9981197186400168, 0.6150633745103571, 0.24976330401387428, 0.1353592509281541, 0.26230739939249303, 0.6159624783799534, 0.12179690612662314, 0.9949547041210424, 0.9978653499039926, 0.9987330975440506, 0.8928741340483832, 0.0634932717545517, 0.0423288478363678, 0.7694962820945191, 0.18408208472519746, 0.04560592189137775, 0.018436258031501358, 0.9794262079235097, 0.9970019190912673, 0.14056217318484626, 0.7768570107269629, 0.08241294082563903, 0.9976670127269428, 0.009359908361588693, 0.12508241174123072, 0.8262246381002383, 0.03914143496664363, 0.2124004677288425, 0.7607612906634021, 0.026550058466105312, 0.19031147842013738, 0.8082058888751289, 0.4915352550038717, 0.07699823666727316, 0.43110059250339566, 0.65786908675457, 0.34166600001750363, 0.04823179083048911, 0.9514816918378306, 0.02598669482155681, 0.9701699400047876, 0.9218973444696937, 0.07740590411205446, 0.8560806235785339, 0.14337951620392111, 0.03628556077544823, 0.9615673605493781, 0.9956583102594071, 0.9860651717553776, 0.013632237397539783, 0.9987210323366502, 0.9957966264118266, 0.9519246603975902, 0.04727023142385294, 0.9893008045687451, 0.8698707136168289, 0.1292578972041071, 0.3087202032846891, 0.6907542952900465, 0.9980130750533079, 0.9958199312212855, 0.9923580644065563, 0.5347748419523962, 0.22591148438913106, 0.2391484854275567, 0.137026945697303, 0.86295595572729, 0.0756995653059718, 0.9230463124405593, 0.21833000881516443, 0.04017272162199026, 0.7388287498305165, 0.9984038142374712, 0.2573269444886698, 0.07980864655155845, 0.6623371788577935, 0.1923552767218769, 0.8060602072154841, 0.9995493173915778, 0.9967698007054647, 0.8529184331577255, 0.14616172715718073, 0.0327592602783045, 0.9672602640067803, 0.032710615527947275, 0.9649631580744445, 0.9985287214438432, 0.11368314894043452, 0.8834804717656626, 0.04614012743055033, 0.13395520866933966, 0.11609451418009438, 0.7040090411177518, 0.9968416177479469, 0.9923467056248111, 0.007394535809424821, 0.031073998993141654, 0.09477569692908205, 0.11031269642565288, 0.7628666752816277, 0.9931904441122914, 0.26003104321827525, 0.7399412773931803, 0.0036039151490735023, 0.01657800968573811, 0.9795441375181779, 0.7634572238685174, 0.23635403336660912, 0.2565919820270979, 0.738839324134764, 0.004367523098333581, 0.9996581615797049, 0.30493968314743075, 0.5788521171351865, 0.10471696591390309, 0.01163521843487812, 0.9978702347233682, 0.994018484328792, 0.14593942112261793, 0.1783704035943108, 0.6753275173517221, 0.09522686956487478, 0.9032948770153837, 0.14012519606386586, 0.8577934299585301, 0.9984498854670592, 0.9977883223858918, 0.15476505435922913, 0.8440094243544007, 0.21138643411729485, 0.39180229765461394, 0.04768484676599442, 0.34952501083115495, 0.9993880179738576, 0.859180052320177, 0.11616862776379888, 0.024948967036520567, 0.1902566994947932, 0.8094212701698684, 0.9944795872491298, 0.4700358955898634, 0.4875110146823369, 0.04211951781262837, 0.9004585197667713, 0.09847461105883133, 0.996568298066762, 0.9967377392253062, 0.9985394383008102, 0.46400693683184224, 0.48994025660318336, 0.0458820272877574, 0.09771549318025917, 0.38080017936386146, 0.4655514387954526, 0.055920351542762176, 0.9026870766165949, 0.09586057450795697, 0.6872309669339854, 0.26242469988261913, 0.050775660322115966, 0.8235665558424877, 0.11776603890308038, 0.058087302972465324, 0.6749819745377457, 0.32472784391896503, 0.04053751843308202, 0.9584227572392965, 0.9977135581691926, 0.994063310571026, 0.9967238369706172, 0.0200801283319447, 0.9799102625989015, 0.7687844366084908, 0.1472829131186793, 0.08375704125155664, 0.02860341399107, 0.09725160756963801, 0.872404126727635, 0.08198250427432806, 0.9159424615476652, 0.8328405085526125, 0.15615759535361484, 0.01099701375729682, 0.05001697714716892, 0.9503225657962096, 0.41142934652657726, 0.17979432477490628, 0.32632669946645493, 0.08210607498054054, 0.032777413929374326, 0.908973649699966, 0.05835978577669087, 0.999502378988279, 0.998674607625749, 0.999864227542752, 0.013786356621003398, 0.982277909246492, 0.04238315023524014, 0.026200492872693906, 0.42460210508395124, 0.44772018703044586, 0.059336410329336196, 0.9956485980237832, 0.996731800511261, 0.012350445406095055, 0.8511515292367176, 0.1358548994670456, 0.998393885590853, 0.05849932752745669, 0.836150388125781, 0.08033907647104052, 0.024959713078381525, 0.627667191994256, 0.17288685493772693, 0.17640319775001967, 0.02285622827990288, 0.9968079762883348, 0.5502919832821482, 0.03924138520917475, 0.2203905704189698, 0.19027508874681245, 0.05857893928223639, 0.9232370853073595, 0.018151220622664797, 0.9577017020323879, 0.03990423758468283, 0.9912210209709876, 0.12510135086992166, 0.2640458840082363, 0.13330471814008046, 0.47733343303236503, 0.7705273201261523, 0.1343353551535726, 0.09462616212075554, 0.45031910453734325, 0.22345236105517707, 0.10129334533401066, 0.22459048853084013, 0.5018888101855493, 0.10790971532127973, 0.38963373720032546, 0.9962071146181313, 0.6030151196753205, 0.39678916965648797, 0.8257000857518237, 0.06769323867936781, 0.10626264211296112, 0.9026316319580826, 0.09655014968705859, 0.2768968533994703, 0.7227717865657968, 0.9936407936523852, 0.998617742352219, 0.9287442557701516, 0.06961626448703011, 0.4016424215025138, 0.5978710473925153, 0.7149385755383274, 0.2040725052781816, 0.08035069559051446, 0.9975293175394866, 0.9995619607713889, 0.9935437910463941, 0.9926492878398948, 0.10497392347504654, 0.8922783495378955, 0.9960797763513817, 0.08107338706023438, 0.14290902125871824, 0.7750066152876642, 0.9954827594605831, 0.11322901936065702, 0.8800982868487431, 0.9953522550035423, 0.17757545808696554, 0.8215377796778104, 0.9963879351733416, 0.9992039619530029, 0.9948003547275744, 0.994936076840157, 0.07153417766323764, 0.9091494905339388, 0.019131233561098436, 0.024540462422057242, 0.973438342741604, 0.06207048328017213, 0.04712758915716773, 0.8505955116171736, 0.04023086879270416, 0.2013142193036992, 0.5255058868090459, 0.14622416335996055, 0.09236288189823838, 0.03461048124346405, 0.10357975475756134, 0.26159331456789514, 0.22426727681742262, 0.4105864152551981, 0.9358459251135889, 0.06300440546741731, 0.9991629603442941, 0.3469166145583284, 0.44088416493566013, 0.21215082802277138, 0.14698642425410408, 0.8515880135356824, 0.025933633730882606, 0.9736900664413197, 0.7992794996461416, 0.2004542237207784, 0.09124532603779224, 0.9059713519708661, 0.002991650034025975, 0.06403101595952719, 0.9340304162903508, 0.001762321540170473, 0.6287677516411594, 0.37133065572221163, 0.24239464145416473, 0.7577322901347999, 0.7121949160365192, 0.2879836726887015, 0.9948374186870123, 0.796113782754838, 0.20391138105889375, 0.9982277573744741, 0.9969574997565624, 0.9968886533400971, 0.05672244332346431, 0.8925443287662767, 0.05088336827546063, 0.04935649143370441, 0.9501124600988099, 0.13318865013574008, 0.7232019226996728, 0.14314668005243095, 0.2595744285644764, 0.7402346635269722, 0.9989734573467364, 0.3543133393327618, 0.16051764544357167, 0.48448923472297545, 0.3121145850180663, 0.04275542260521456, 0.6447517728866355, 0.3248696342696563, 0.04892957714043861, 0.6258434285404938, 0.15485818406027077, 0.8446810039651133, 0.9967228230703287, 0.008305152786834906, 0.4198254733745045, 0.5718097693735833, 0.9969269349418267, 0.08044130400699227, 0.9181404009073946, 0.1150011876166122, 0.510709819551955, 0.37427659242497424, 0.06089341685296607, 0.9139425276109618, 0.010554858921180785, 0.014343782636476453, 0.09503910708212358, 0.9043721347604181, 0.9987693368999632, 0.666246895197311, 0.0003857827997668274, 0.3333163389985389, 0.007604058382651666, 0.8855271625615259, 0.10714809539190984, 0.10053172196095467, 0.3074513826961235, 0.591477898139209], \"Term\": [\"afraid\", \"afraid\", \"afraid\", \"afraid\", \"aircraft\", \"alley\", \"alley\", \"allow\", \"alright\", \"alright\", \"alright\", \"american\", \"american\", \"american\", \"american\", \"angle\", \"angle\", \"angle\", \"apartment\", \"apartment\", \"apartment\", \"appearance\", \"applauds\", \"armor\", \"assholes\", \"aware\", \"aware\", \"babe\", \"backseat\", \"backstage\", \"ball\", \"ball\", \"ball\", \"ball\", \"ball\", \"bank\", \"bank\", \"bank\", \"bank\", \"base\", \"base\", \"base\", \"bearded\", \"beast\", \"beer\", \"beer\", \"beneath\", \"beneath\", \"beside\", \"beside\", \"beside\", \"bird\", \"bird\", \"bird\", \"birthday\", \"birthday\", \"blackness\", \"blades\", \"blam\", \"boat\", \"boat\", \"boat\", \"bomb\", \"bomb\", \"bomb\", \"bombs\", \"bombs\", \"bottle\", \"bottle\", \"bottle\", \"bottle\", \"branches\", \"bridge\", \"bridge\", \"bridge\", \"bush\", \"buzz\", \"buzz\", \"cadillac\", \"cafeteria\", \"cage\", \"cage\", \"cage\", \"cane\", \"cannot\", \"canyon\", \"cargo\", \"cargo\", \"cars\", \"cars\", \"cars\", \"cause\", \"cause\", \"cause\", \"cave\", \"cell\", \"cell\", \"cell\", \"center\", \"center\", \"center\", \"center\", \"center\", \"certain\", \"certain\", \"checks\", \"checks\", \"checks\", \"checks\", \"checks\", \"chevy\", \"chicks\", \"cigarette\", \"cigarette\", \"cigarette\", \"circus\", \"circus\", \"city\", \"city\", \"city\", \"city\", \"clap\", \"clapping\", \"classroom\", \"claw\", \"claws\", \"climbs\", \"climbs\", \"climbs\", \"climbs\", \"closeup\", \"closeup\", \"club\", \"club\", \"club\", \"cock\", \"cockpit\", \"coffee\", \"coffee\", \"coffee\", \"command\", \"command\", \"command\", \"communication\", \"communication\", \"communication\", \"console\", \"console\", \"continuing\", \"continuous\", \"continuous\", \"continuous\", \"continuous\", \"cookies\", \"cool\", \"cool\", \"corn\", \"corn\", \"corpse\", \"corpse\", \"corridor\", \"corridor\", \"corridor\", \"counter\", \"counter\", \"country\", \"country\", \"country\", \"country\", \"craft\", \"craft\", \"creatures\", \"crew\", \"crew\", \"cute\", \"cute\", \"damn\", \"damn\", \"damn\", \"damn\", \"damn\", \"dance\", \"dance\", \"dance\", \"darkness\", \"darkness\", \"darkness\", \"darling\", \"darling\", \"dashboard\", \"data\", \"data\", \"dating\", \"dear\", \"dear\", \"dear\", \"deck\", \"deck\", \"deck\", \"deck\", \"desert\", \"desert\", \"desert\", \"detectives\", \"dialing\", \"dirt\", \"dirt\", \"dirt\", \"documents\", \"dollars\", \"dollars\", \"downtown\", \"dress\", \"dress\", \"driving\", \"driving\", \"driving\", \"dust\", \"dust\", \"earth\", \"earth\", \"earth\", \"earth\", \"eating\", \"eating\", \"eating\", \"eerie\", \"electronic\", \"electronic\", \"elegant\", \"elevator\", \"elevator\", \"elevator\", \"embarrassing\", \"english\", \"english\", \"english\", \"envelope\", \"envelope\", \"equipment\", \"equipment\", \"equipment\", \"equipment\", \"europe\", \"evening\", \"evening\", \"everyday\", \"expression\", \"expression\", \"expression\", \"farm\", \"farm\", \"favorite\", \"favorite\", \"fellow\", \"fight\", \"fight\", \"fight\", \"fight\", \"fires\", \"fires\", \"fires\", \"flaming\", \"flashlight\", \"flashlight\", \"flesh\", \"flying\", \"flying\", \"flying\", \"flying\", \"ford\", \"ford\", \"forest\", \"freeway\", \"fucker\", \"fuckin\", \"fucking\", \"fucking\", \"fuel\", \"fuel\", \"funny\", \"funny\", \"funny\", \"gallery\", \"game\", \"game\", \"game\", \"game\", \"garage\", \"garage\", \"garden\", \"garden\", \"german\", \"gesture\", \"given\", \"given\", \"given\", \"glances\", \"glances\", \"glances\", \"gods\", \"golf\", \"golf\", \"gotta\", \"gotta\", \"gotta\", \"guitar\", \"gunshot\", \"hallway\", \"hallway\", \"hallway\", \"hallway\", \"handcuffs\", \"harbor\", \"harbor\", \"hatch\", \"hatch\", \"helicopter\", \"helicopter\", \"highway\", \"hole\", \"hole\", \"hole\", \"hole\", \"hollow\", \"homework\", \"honey\", \"honey\", \"horses\", \"horses\", \"hose\", \"hospital\", \"hospital\", \"hospital\", \"hotel\", \"hotel\", \"hotel\", \"howling\", \"howls\", \"indeed\", \"interest\", \"interest\", \"interest\", \"interior\", \"interior\", \"interior\", \"interrogation\", \"interrogation\", \"investigation\", \"jacket\", \"jacket\", \"jacket\", \"jaws\", \"keys\", \"keys\", \"keys\", \"keys\", \"kidding\", \"kidding\", \"kidding\", \"kinda\", \"kinda\", \"kisses\", \"kisses\", \"kisses\", \"knife\", \"knife\", \"laser\", \"laser\", \"launch\", \"launch\", \"leaps\", \"leaps\", \"letter\", \"letter\", \"license\", \"license\", \"lifeless\", \"lightning\", \"lightning\", \"london\", \"lotta\", \"lunges\", \"lunges\", \"magical\", \"mall\", \"mall\", \"manhattan\", \"manhattan\", \"manner\", \"math\", \"messed\", \"metal\", \"metal\", \"metal\", \"military\", \"military\", \"mill\", \"mill\", \"mission\", \"mission\", \"mission\", \"mist\", \"monitor\", \"monitor\", \"monitor\", \"monitors\", \"monitors\", \"motel\", \"motherfucker\", \"mountain\", \"mountain\", \"movie\", \"movie\", \"movies\", \"movies\", \"newspapers\", \"nuclear\", \"nuclear\", \"ocean\", \"ocean\", \"ocean\", \"ocean\", \"ouch\", \"pages\", \"pages\", \"panel\", \"panel\", \"panel\", \"panel\", \"paranoid\", \"parents\", \"parents\", \"parked\", \"parked\", \"parked\", \"parking\", \"parking\", \"party\", \"party\", \"party\", \"perhaps\", \"photo\", \"photo\", \"photo\", \"photo\", \"pickup\", \"pitcher\", \"plane\", \"plane\", \"plane\", \"planes\", \"planes\", \"planet\", \"planet\", \"players\", \"political\", \"port\", \"port\", \"power\", \"power\", \"power\", \"power\", \"prince\", \"private\", \"private\", \"private\", \"rabbit\", \"rabbit\", \"radar\", \"rain\", \"rain\", \"rain\", \"rather\", \"rather\", \"rattle\", \"rearview\", \"regards\", \"rises\", \"rises\", \"rises\", \"road\", \"road\", \"road\", \"road\", \"roars\", \"roars\", \"rock\", \"rock\", \"rock\", \"rocks\", \"rocks\", \"rocks\", \"roof\", \"roof\", \"rope\", \"rope\", \"royal\", \"salad\", \"satellite\", \"school\", \"school\", \"screams\", \"screams\", \"screams\", \"screens\", \"screens\", \"screens\", \"seals\", \"seals\", \"seated\", \"seated\", \"seated\", \"sedan\", \"sedan\", \"several\", \"several\", \"several\", \"several\", \"shadows\", \"shadows\", \"shadows\", \"shall\", \"shapes\", \"ship\", \"ships\", \"ships\", \"shooting\", \"shooting\", \"shooting\", \"shooting\", \"shooting\", \"shoulda\", \"shrieks\", \"sidewalk\", \"sidewalk\", \"sidewalk\", \"sirens\", \"skin\", \"skin\", \"skin\", \"skin\", \"slightly\", \"slightly\", \"slightly\", \"slightly\", \"slope\", \"smiling\", \"smiling\", \"smiling\", \"smiling\", \"snow\", \"snow\", \"snow\", \"somewhat\", \"somewhat\", \"songs\", \"space\", \"space\", \"space\", \"space\", \"speaking\", \"speaking\", \"speaking\", \"speed\", \"speed\", \"speed\", \"speed\", \"steel\", \"steel\", \"steel\", \"steep\", \"store\", \"store\", \"struggles\", \"struggles\", \"struggles\", \"study\", \"study\", \"stupid\", \"stupid\", \"successful\", \"superior\", \"suppose\", \"suppose\", \"surface\", \"surface\", \"swings\", \"swings\", \"swings\", \"swirling\", \"sword\", \"systems\", \"talent\", \"tanks\", \"tanks\", \"tapes\", \"target\", \"target\", \"target\", \"teachers\", \"technology\", \"technology\", \"tellin\", \"tent\", \"tent\", \"terribly\", \"theatre\", \"theme\", \"thump\", \"thunder\", \"thunder\", \"thunder\", \"tire\", \"tire\", \"totally\", \"totally\", \"totally\", \"totally\", \"towards\", \"towards\", \"towards\", \"towards\", \"towards\", \"town\", \"town\", \"town\", \"town\", \"trail\", \"trail\", \"trailer\", \"train\", \"train\", \"train\", \"transport\", \"transport\", \"trap\", \"trap\", \"tree\", \"tree\", \"trees\", \"trees\", \"trees\", \"truck\", \"truck\", \"truck\", \"true\", \"true\", \"trunk\", \"trunk\", \"truth\", \"truth\", \"tryin\", \"tunnel\", \"tunnel\", \"understood\", \"unmarked\", \"virgin\", \"wagon\", \"wagon\", \"wagon\", \"wallet\", \"wallet\", \"walls\", \"walls\", \"walls\", \"wanna\", \"wanna\", \"warehouse\", \"weapon\", \"weapon\", \"weapon\", \"weapons\", \"weapons\", \"weapons\", \"week\", \"week\", \"week\", \"weekend\", \"weekend\", \"weeping\", \"wheel\", \"wheel\", \"wheel\", \"whirls\", \"whoa\", \"whoa\", \"wild\", \"wild\", \"wild\", \"wind\", \"wind\", \"wind\", \"wind\", \"windshield\", \"windshield\", \"winner\", \"women\", \"women\", \"women\", \"woods\", \"woods\", \"woods\", \"yellow\", \"yellow\", \"yellow\"]}, \"R\": 30, \"lambda.step\": 0.01, \"plot.opts\": {\"xlab\": \"PC1\", \"ylab\": \"PC2\"}, \"topic.order\": [5, 3, 2, 1, 4]};\n",
       "\n",
       "function LDAvis_load_lib(url, callback){\n",
       "  var s = document.createElement('script');\n",
       "  s.src = url;\n",
       "  s.async = true;\n",
       "  s.onreadystatechange = s.onload = callback;\n",
       "  s.onerror = function(){console.warn(\"failed to load library \" + url);};\n",
       "  document.getElementsByTagName(\"head\")[0].appendChild(s);\n",
       "}\n",
       "\n",
       "if(typeof(LDAvis) !== \"undefined\"){\n",
       "   // already loaded: just create the visualization\n",
       "   !function(LDAvis){\n",
       "       new LDAvis(\"#\" + \"ldavis_el666422656516133607359115511\", ldavis_el666422656516133607359115511_data);\n",
       "   }(LDAvis);\n",
       "}else if(typeof define === \"function\" && define.amd){\n",
       "   // require.js is available: use it to load d3/LDAvis\n",
       "   require.config({paths: {d3: \"https://d3js.org/d3.v5\"}});\n",
       "   require([\"d3\"], function(d3){\n",
       "      window.d3 = d3;\n",
       "      LDAvis_load_lib(\"https://cdn.jsdelivr.net/gh/bmabey/pyLDAvis@3.3.1/pyLDAvis/js/ldavis.v3.0.0.js\", function(){\n",
       "        new LDAvis(\"#\" + \"ldavis_el666422656516133607359115511\", ldavis_el666422656516133607359115511_data);\n",
       "      });\n",
       "    });\n",
       "}else{\n",
       "    // require.js not available: dynamically load d3 & LDAvis\n",
       "    LDAvis_load_lib(\"https://d3js.org/d3.v5.js\", function(){\n",
       "         LDAvis_load_lib(\"https://cdn.jsdelivr.net/gh/bmabey/pyLDAvis@3.3.1/pyLDAvis/js/ldavis.v3.0.0.js\", function(){\n",
       "                 new LDAvis(\"#\" + \"ldavis_el666422656516133607359115511\", ldavis_el666422656516133607359115511_data);\n",
       "            })\n",
       "         });\n",
       "}\n",
       "</script>"
      ],
      "text/plain": [
       "<IPython.core.display.HTML object>"
      ]
     },
     "execution_count": 101,
     "metadata": {},
     "output_type": "execute_result"
    }
   ],
   "source": [
    "pyLDAvis.enable_notebook()\n",
    "\n",
    "# feed the LDA model into the pyLDAvis instance\n",
    "lda_viz = gensimvis.prepare(ldamodel, corpus, dictionary, sort_topics=True)\n",
    "\n",
    "pyLDAvis.display(lda_viz)"
   ]
  },
  {
   "cell_type": "code",
   "execution_count": 102,
   "id": "7cbd85e2",
   "metadata": {},
   "outputs": [
    {
     "data": {
      "text/plain": [
       "<gensim.interfaces.TransformedCorpus at 0x2114a8dda00>"
      ]
     },
     "execution_count": 102,
     "metadata": {},
     "output_type": "execute_result"
    }
   ],
   "source": [
    "#This fits the model on the corpus generated by matching each script with words in the dictionary created\n",
    "ldamodel[corpus]"
   ]
  },
  {
   "cell_type": "markdown",
   "id": "4bc52bdb",
   "metadata": {},
   "source": [
    "The topics and keywords generated can be formated into a dataframe for easy comparison"
   ]
  },
  {
   "cell_type": "code",
   "execution_count": 103,
   "id": "ccfb1474",
   "metadata": {},
   "outputs": [
    {
     "data": {
      "text/html": [
       "<div>\n",
       "<style scoped>\n",
       "    .dataframe tbody tr th:only-of-type {\n",
       "        vertical-align: middle;\n",
       "    }\n",
       "\n",
       "    .dataframe tbody tr th {\n",
       "        vertical-align: top;\n",
       "    }\n",
       "\n",
       "    .dataframe thead th {\n",
       "        text-align: right;\n",
       "    }\n",
       "</style>\n",
       "<table border=\"1\" class=\"dataframe\">\n",
       "  <thead>\n",
       "    <tr style=\"text-align: right;\">\n",
       "      <th></th>\n",
       "      <th>index</th>\n",
       "      <th>lda_topic</th>\n",
       "      <th>topic_keywords</th>\n",
       "    </tr>\n",
       "  </thead>\n",
       "  <tbody>\n",
       "    <tr>\n",
       "      <th>0</th>\n",
       "      <td>0</td>\n",
       "      <td>0.0</td>\n",
       "      <td>school, gotta, continuous, ball, game, party, ...</td>\n",
       "    </tr>\n",
       "    <tr>\n",
       "      <th>1</th>\n",
       "      <td>1</td>\n",
       "      <td>0.0</td>\n",
       "      <td>school, gotta, continuous, ball, game, party, ...</td>\n",
       "    </tr>\n",
       "    <tr>\n",
       "      <th>2</th>\n",
       "      <td>2</td>\n",
       "      <td>4.0</td>\n",
       "      <td>angle, glances, evening, continuing, city, wom...</td>\n",
       "    </tr>\n",
       "    <tr>\n",
       "      <th>3</th>\n",
       "      <td>3</td>\n",
       "      <td>4.0</td>\n",
       "      <td>angle, glances, evening, continuing, city, wom...</td>\n",
       "    </tr>\n",
       "    <tr>\n",
       "      <th>4</th>\n",
       "      <td>4</td>\n",
       "      <td>2.0</td>\n",
       "      <td>wind, towards, snow, road, wild, screams, tree...</td>\n",
       "    </tr>\n",
       "  </tbody>\n",
       "</table>\n",
       "</div>"
      ],
      "text/plain": [
       "   index  lda_topic                                     topic_keywords\n",
       "0      0        0.0  school, gotta, continuous, ball, game, party, ...\n",
       "1      1        0.0  school, gotta, continuous, ball, game, party, ...\n",
       "2      2        4.0  angle, glances, evening, continuing, city, wom...\n",
       "3      3        4.0  angle, glances, evening, continuing, city, wom...\n",
       "4      4        2.0  wind, towards, snow, road, wild, screams, tree..."
      ]
     },
     "execution_count": 103,
     "metadata": {},
     "output_type": "execute_result"
    }
   ],
   "source": [
    "def format_topics_sentences(ldamodel, corpus):\n",
    "   \n",
    "    sent_topics_df = pd.DataFrame()\n",
    "\n",
    "   #Loop through the assigned topics from the words in the scripts to get the topics and their percentage contribution\n",
    "    for i, row in enumerate(ldamodel[corpus]):\n",
    "    #Sort the output by percentage contribution, so that the dominant topic comes first\n",
    "        row = sorted(row, key=lambda x: (x[1]), reverse=True)\n",
    "    # Loop through to get the topic number of the dominant topic\n",
    "        for j, model_tuple in enumerate(row):\n",
    "            topic_no = model_tuple[0]\n",
    "    #Pick the dominant topic of the topics generated. first of the five topics\n",
    "            if j == 0:  \n",
    "                word_output = ldamodel.show_topic(topic_no)\n",
    "                topic_keywords = ', '.join([word for word, prop in word_output])\n",
    "                sent_topics_df = sent_topics_df.append(pd.Series([int(topic_no), topic_keywords]), ignore_index=True)\n",
    "            else:\n",
    "                break\n",
    "    sent_topics_df.columns = ['lda_topic', 'topic_keywords']\n",
    "    \n",
    "    \n",
    "    \n",
    "    return(sent_topics_df)\n",
    "    \n",
    "\n",
    "df_topic_sents_keywords = format_topics_sentences(ldamodel=ldamodel, corpus=corpus)\n",
    "\n",
    "\n",
    "df_dominant_topic = df_topic_sents_keywords.reset_index()\n",
    "\n",
    "df_dominant_topic.head(5)\n"
   ]
  },
  {
   "cell_type": "code",
   "execution_count": 104,
   "id": "4ae6a72a",
   "metadata": {
    "scrolled": true
   },
   "outputs": [
    {
     "data": {
      "text/html": [
       "<div>\n",
       "<style scoped>\n",
       "    .dataframe tbody tr th:only-of-type {\n",
       "        vertical-align: middle;\n",
       "    }\n",
       "\n",
       "    .dataframe tbody tr th {\n",
       "        vertical-align: top;\n",
       "    }\n",
       "\n",
       "    .dataframe thead th {\n",
       "        text-align: right;\n",
       "    }\n",
       "</style>\n",
       "<table border=\"1\" class=\"dataframe\">\n",
       "  <thead>\n",
       "    <tr style=\"text-align: right;\">\n",
       "      <th></th>\n",
       "      <th>index</th>\n",
       "      <th>lda_topic</th>\n",
       "      <th>topic_keywords</th>\n",
       "    </tr>\n",
       "  </thead>\n",
       "  <tbody>\n",
       "    <tr>\n",
       "      <th>0</th>\n",
       "      <td>0</td>\n",
       "      <td>0.0</td>\n",
       "      <td>school, gotta, continuous, ball, game, party, ...</td>\n",
       "    </tr>\n",
       "    <tr>\n",
       "      <th>1</th>\n",
       "      <td>1</td>\n",
       "      <td>0.0</td>\n",
       "      <td>school, gotta, continuous, ball, game, party, ...</td>\n",
       "    </tr>\n",
       "    <tr>\n",
       "      <th>2</th>\n",
       "      <td>2</td>\n",
       "      <td>4.0</td>\n",
       "      <td>angle, glances, evening, continuing, city, wom...</td>\n",
       "    </tr>\n",
       "    <tr>\n",
       "      <th>3</th>\n",
       "      <td>3</td>\n",
       "      <td>4.0</td>\n",
       "      <td>angle, glances, evening, continuing, city, wom...</td>\n",
       "    </tr>\n",
       "    <tr>\n",
       "      <th>4</th>\n",
       "      <td>4</td>\n",
       "      <td>2.0</td>\n",
       "      <td>wind, towards, snow, road, wild, screams, tree...</td>\n",
       "    </tr>\n",
       "    <tr>\n",
       "      <th>...</th>\n",
       "      <td>...</td>\n",
       "      <td>...</td>\n",
       "      <td>...</td>\n",
       "    </tr>\n",
       "    <tr>\n",
       "      <th>650</th>\n",
       "      <td>650</td>\n",
       "      <td>2.0</td>\n",
       "      <td>wind, towards, snow, road, wild, screams, tree...</td>\n",
       "    </tr>\n",
       "    <tr>\n",
       "      <th>651</th>\n",
       "      <td>651</td>\n",
       "      <td>0.0</td>\n",
       "      <td>school, gotta, continuous, ball, game, party, ...</td>\n",
       "    </tr>\n",
       "    <tr>\n",
       "      <th>652</th>\n",
       "      <td>652</td>\n",
       "      <td>0.0</td>\n",
       "      <td>school, gotta, continuous, ball, game, party, ...</td>\n",
       "    </tr>\n",
       "    <tr>\n",
       "      <th>653</th>\n",
       "      <td>653</td>\n",
       "      <td>4.0</td>\n",
       "      <td>angle, glances, evening, continuing, city, wom...</td>\n",
       "    </tr>\n",
       "    <tr>\n",
       "      <th>654</th>\n",
       "      <td>654</td>\n",
       "      <td>4.0</td>\n",
       "      <td>angle, glances, evening, continuing, city, wom...</td>\n",
       "    </tr>\n",
       "  </tbody>\n",
       "</table>\n",
       "<p>655 rows × 3 columns</p>\n",
       "</div>"
      ],
      "text/plain": [
       "     index  lda_topic                                     topic_keywords\n",
       "0        0        0.0  school, gotta, continuous, ball, game, party, ...\n",
       "1        1        0.0  school, gotta, continuous, ball, game, party, ...\n",
       "2        2        4.0  angle, glances, evening, continuing, city, wom...\n",
       "3        3        4.0  angle, glances, evening, continuing, city, wom...\n",
       "4        4        2.0  wind, towards, snow, road, wild, screams, tree...\n",
       "..     ...        ...                                                ...\n",
       "650    650        2.0  wind, towards, snow, road, wild, screams, tree...\n",
       "651    651        0.0  school, gotta, continuous, ball, game, party, ...\n",
       "652    652        0.0  school, gotta, continuous, ball, game, party, ...\n",
       "653    653        4.0  angle, glances, evening, continuing, city, wom...\n",
       "654    654        4.0  angle, glances, evening, continuing, city, wom...\n",
       "\n",
       "[655 rows x 3 columns]"
      ]
     },
     "execution_count": 104,
     "metadata": {},
     "output_type": "execute_result"
    }
   ],
   "source": [
    "df_dominant_topic"
   ]
  },
  {
   "cell_type": "code",
   "execution_count": 105,
   "id": "f5e77012",
   "metadata": {},
   "outputs": [],
   "source": [
    "#Convert the topic numbers to integer\n",
    "df_dominant_topic['lda_topic'] = df_dominant_topic['lda_topic'].astype(int)\n",
    "df_dominant_topic= df_dominant_topic.drop('index', axis= 1)"
   ]
  },
  {
   "cell_type": "code",
   "execution_count": 106,
   "id": "fd5e2f4b",
   "metadata": {},
   "outputs": [],
   "source": [
    "#Join with the original dataframe, so as to check how accurate the LDA model assigned genres\n",
    "df_comp = df.join(df_dominant_topic)"
   ]
  },
  {
   "cell_type": "code",
   "execution_count": 107,
   "id": "c504ca92",
   "metadata": {},
   "outputs": [
    {
     "data": {
      "text/html": [
       "<div>\n",
       "<style scoped>\n",
       "    .dataframe tbody tr th:only-of-type {\n",
       "        vertical-align: middle;\n",
       "    }\n",
       "\n",
       "    .dataframe tbody tr th {\n",
       "        vertical-align: top;\n",
       "    }\n",
       "\n",
       "    .dataframe thead th {\n",
       "        text-align: right;\n",
       "    }\n",
       "</style>\n",
       "<table border=\"1\" class=\"dataframe\">\n",
       "  <thead>\n",
       "    <tr style=\"text-align: right;\">\n",
       "      <th></th>\n",
       "      <th>title</th>\n",
       "      <th>movie_script</th>\n",
       "      <th>movie_genre</th>\n",
       "      <th>age_rating</th>\n",
       "      <th>first_genre</th>\n",
       "      <th>genre_cluster</th>\n",
       "      <th>lda_topic</th>\n",
       "      <th>topic_keywords</th>\n",
       "    </tr>\n",
       "  </thead>\n",
       "  <tbody>\n",
       "    <tr>\n",
       "      <th>0</th>\n",
       "      <td>10 things i hate about you</td>\n",
       "      <td>ten things hate mccullah lutz ten things hate ...</td>\n",
       "      <td>Comedy, Drama, Romance</td>\n",
       "      <td>13</td>\n",
       "      <td>comedy</td>\n",
       "      <td>a</td>\n",
       "      <td>0</td>\n",
       "      <td>school, gotta, continuous, ball, game, party, ...</td>\n",
       "    </tr>\n",
       "    <tr>\n",
       "      <th>1</th>\n",
       "      <td>12 and holding</td>\n",
       "      <td>holding cipriano fade neighborhood street morn...</td>\n",
       "      <td>Drama</td>\n",
       "      <td>R</td>\n",
       "      <td>drama</td>\n",
       "      <td>a</td>\n",
       "      <td>0</td>\n",
       "      <td>school, gotta, continuous, ball, game, party, ...</td>\n",
       "    </tr>\n",
       "    <tr>\n",
       "      <th>2</th>\n",
       "      <td>12 monkeys</td>\n",
       "      <td>twelve monkeys twelve monkeys original screenp...</td>\n",
       "      <td>Mystery, Sci-Fi, Thriller</td>\n",
       "      <td>R</td>\n",
       "      <td>mystery</td>\n",
       "      <td>d</td>\n",
       "      <td>4</td>\n",
       "      <td>angle, glances, evening, continuing, city, wom...</td>\n",
       "    </tr>\n",
       "    <tr>\n",
       "      <th>3</th>\n",
       "      <td>12</td>\n",
       "      <td>cut black title fin exterior la day fin chevy ...</td>\n",
       "      <td>Crime, Drama, Thriller</td>\n",
       "      <td>13</td>\n",
       "      <td>crime</td>\n",
       "      <td>d</td>\n",
       "      <td>4</td>\n",
       "      <td>angle, glances, evening, continuing, city, wom...</td>\n",
       "    </tr>\n",
       "    <tr>\n",
       "      <th>4</th>\n",
       "      <td>127 hours</td>\n",
       "      <td>hours beaufoy scenes various massive could spo...</td>\n",
       "      <td>Biography, Drama</td>\n",
       "      <td>R</td>\n",
       "      <td>biography</td>\n",
       "      <td>a</td>\n",
       "      <td>2</td>\n",
       "      <td>wind, towards, snow, road, wild, screams, tree...</td>\n",
       "    </tr>\n",
       "    <tr>\n",
       "      <th>...</th>\n",
       "      <td>...</td>\n",
       "      <td>...</td>\n",
       "      <td>...</td>\n",
       "      <td>...</td>\n",
       "      <td>...</td>\n",
       "      <td>...</td>\n",
       "      <td>...</td>\n",
       "      <td>...</td>\n",
       "    </tr>\n",
       "    <tr>\n",
       "      <th>650</th>\n",
       "      <td>year one</td>\n",
       "      <td>year one ramis stupnitsky eisenberg october be...</td>\n",
       "      <td>Comedy</td>\n",
       "      <td>13</td>\n",
       "      <td>comedy</td>\n",
       "      <td>a</td>\n",
       "      <td>2</td>\n",
       "      <td>wind, towards, snow, road, wild, screams, tree...</td>\n",
       "    </tr>\n",
       "    <tr>\n",
       "      <th>651</th>\n",
       "      <td>yes man</td>\n",
       "      <td>yes stoller based yes first draft february new...</td>\n",
       "      <td>Comedy, Romance</td>\n",
       "      <td>13</td>\n",
       "      <td>comedy</td>\n",
       "      <td>a</td>\n",
       "      <td>0</td>\n",
       "      <td>school, gotta, continuous, ball, game, party, ...</td>\n",
       "    </tr>\n",
       "    <tr>\n",
       "      <th>652</th>\n",
       "      <td>you can count on me</td>\n",
       "      <td>count screenplay lonergan shooting draft fade ...</td>\n",
       "      <td>Drama</td>\n",
       "      <td>R</td>\n",
       "      <td>drama</td>\n",
       "      <td>a</td>\n",
       "      <td>0</td>\n",
       "      <td>school, gotta, continuous, ball, game, party, ...</td>\n",
       "    </tr>\n",
       "    <tr>\n",
       "      <th>653</th>\n",
       "      <td>youth in revolt</td>\n",
       "      <td>revolt gustin nash july black comes deep heavi...</td>\n",
       "      <td>Comedy, Drama, Romance</td>\n",
       "      <td>R</td>\n",
       "      <td>comedy</td>\n",
       "      <td>a</td>\n",
       "      <td>4</td>\n",
       "      <td>angle, glances, evening, continuing, city, wom...</td>\n",
       "    </tr>\n",
       "    <tr>\n",
       "      <th>654</th>\n",
       "      <td>zero dark thirty</td>\n",
       "      <td>dark thirty boal october black emerge hear act...</td>\n",
       "      <td>Drama, History, Thriller</td>\n",
       "      <td>R</td>\n",
       "      <td>drama</td>\n",
       "      <td>a</td>\n",
       "      <td>4</td>\n",
       "      <td>angle, glances, evening, continuing, city, wom...</td>\n",
       "    </tr>\n",
       "  </tbody>\n",
       "</table>\n",
       "<p>655 rows × 8 columns</p>\n",
       "</div>"
      ],
      "text/plain": [
       "                          title  \\\n",
       "0    10 things i hate about you   \n",
       "1                12 and holding   \n",
       "2                    12 monkeys   \n",
       "3                            12   \n",
       "4                     127 hours   \n",
       "..                          ...   \n",
       "650                    year one   \n",
       "651                     yes man   \n",
       "652         you can count on me   \n",
       "653             youth in revolt   \n",
       "654            zero dark thirty   \n",
       "\n",
       "                                          movie_script  \\\n",
       "0    ten things hate mccullah lutz ten things hate ...   \n",
       "1    holding cipriano fade neighborhood street morn...   \n",
       "2    twelve monkeys twelve monkeys original screenp...   \n",
       "3    cut black title fin exterior la day fin chevy ...   \n",
       "4    hours beaufoy scenes various massive could spo...   \n",
       "..                                                 ...   \n",
       "650  year one ramis stupnitsky eisenberg october be...   \n",
       "651  yes stoller based yes first draft february new...   \n",
       "652  count screenplay lonergan shooting draft fade ...   \n",
       "653  revolt gustin nash july black comes deep heavi...   \n",
       "654  dark thirty boal october black emerge hear act...   \n",
       "\n",
       "                   movie_genre age_rating first_genre genre_cluster  \\\n",
       "0       Comedy, Drama, Romance         13      comedy             a   \n",
       "1                        Drama          R       drama             a   \n",
       "2    Mystery, Sci-Fi, Thriller          R     mystery             d   \n",
       "3       Crime, Drama, Thriller         13       crime             d   \n",
       "4             Biography, Drama          R   biography             a   \n",
       "..                         ...        ...         ...           ...   \n",
       "650                     Comedy         13      comedy             a   \n",
       "651            Comedy, Romance         13      comedy             a   \n",
       "652                      Drama          R       drama             a   \n",
       "653     Comedy, Drama, Romance          R      comedy             a   \n",
       "654   Drama, History, Thriller          R       drama             a   \n",
       "\n",
       "     lda_topic                                     topic_keywords  \n",
       "0            0  school, gotta, continuous, ball, game, party, ...  \n",
       "1            0  school, gotta, continuous, ball, game, party, ...  \n",
       "2            4  angle, glances, evening, continuing, city, wom...  \n",
       "3            4  angle, glances, evening, continuing, city, wom...  \n",
       "4            2  wind, towards, snow, road, wild, screams, tree...  \n",
       "..         ...                                                ...  \n",
       "650          2  wind, towards, snow, road, wild, screams, tree...  \n",
       "651          0  school, gotta, continuous, ball, game, party, ...  \n",
       "652          0  school, gotta, continuous, ball, game, party, ...  \n",
       "653          4  angle, glances, evening, continuing, city, wom...  \n",
       "654          4  angle, glances, evening, continuing, city, wom...  \n",
       "\n",
       "[655 rows x 8 columns]"
      ]
     },
     "execution_count": 107,
     "metadata": {},
     "output_type": "execute_result"
    }
   ],
   "source": [
    "df_comp"
   ]
  },
  {
   "cell_type": "markdown",
   "id": "e36ea4e3",
   "metadata": {},
   "source": [
    "to calculate the model accuracy, the genre clusters will be represented by their corresponding numbers\n",
    "\n",
    "0 =a, \n",
    "1 = d,\n",
    "2 = e,\n",
    "3 = c,\n",
    "4 = b"
   ]
  },
  {
   "cell_type": "code",
   "execution_count": 108,
   "id": "25ce3938",
   "metadata": {},
   "outputs": [],
   "source": [
    "#Represent each cluster as a number\n",
    "df_comp['pred_clus'] = ''\n",
    "for val in df_comp.index:\n",
    "    if df_comp.iloc[val, 6] == 0:\n",
    "        df_comp.iloc[val,8] = 'a'\n",
    "        \n",
    "    elif df_comp.iloc[val, 6] == 1:\n",
    "        df_comp.iloc[val,8] = 'd'\n",
    "    \n",
    "    elif df_comp.iloc[val, 6] == 2:\n",
    "        df_comp.iloc[val,8] = 'e'\n",
    "        \n",
    "    elif df_comp.iloc[val, 6] == 3:\n",
    "        df_comp.iloc[val,8] = 'c'\n",
    "        \n",
    "    elif df_comp.iloc[val, 6] == 4:\n",
    "        df_comp.iloc[val,8] = 'b'\n"
   ]
  },
  {
   "cell_type": "markdown",
   "id": "8347d9ff",
   "metadata": {},
   "source": [
    "Calculate the model's accuracy"
   ]
  },
  {
   "cell_type": "code",
   "execution_count": 109,
   "id": "cac07174",
   "metadata": {},
   "outputs": [],
   "source": [
    "#Count the number of correct predictions and calculate accuracy\n",
    "correct = 0\n",
    "for val in df_comp.index:\n",
    "    if df_comp.iloc[val]['genre_cluster'] == df_comp.iloc[val]['pred_clus']:\n",
    "        correct +=1"
   ]
  },
  {
   "cell_type": "code",
   "execution_count": 110,
   "id": "1182595d",
   "metadata": {},
   "outputs": [
    {
     "name": "stdout",
     "output_type": "stream",
     "text": [
      "30\n"
     ]
    }
   ],
   "source": [
    "lda_accuracy = round (correct/len(df_comp) * 100)\n",
    "print (lda_accuracy)"
   ]
  },
  {
   "cell_type": "markdown",
   "id": "774a2b7f",
   "metadata": {},
   "source": [
    "The summary of the results from the models trained on age ratings prediction are put in a dataframe"
   ]
  },
  {
   "cell_type": "code",
   "execution_count": null,
   "id": "96e86883",
   "metadata": {},
   "outputs": [],
   "source": []
  },
  {
   "cell_type": "code",
   "execution_count": null,
   "id": "c825c675",
   "metadata": {},
   "outputs": [],
   "source": []
  },
  {
   "cell_type": "code",
   "execution_count": 111,
   "id": "b96a55c3",
   "metadata": {},
   "outputs": [
    {
     "data": {
      "text/html": [
       "<div>\n",
       "<style scoped>\n",
       "    .dataframe tbody tr th:only-of-type {\n",
       "        vertical-align: middle;\n",
       "    }\n",
       "\n",
       "    .dataframe tbody tr th {\n",
       "        vertical-align: top;\n",
       "    }\n",
       "\n",
       "    .dataframe thead th {\n",
       "        text-align: right;\n",
       "    }\n",
       "</style>\n",
       "<table border=\"1\" class=\"dataframe\">\n",
       "  <thead>\n",
       "    <tr style=\"text-align: right;\">\n",
       "      <th></th>\n",
       "      <th>model</th>\n",
       "      <th>accuracy(%)</th>\n",
       "    </tr>\n",
       "  </thead>\n",
       "  <tbody>\n",
       "    <tr>\n",
       "      <th>0</th>\n",
       "      <td>Naive Bayes(baseline_model)</td>\n",
       "      <td>66</td>\n",
       "    </tr>\n",
       "    <tr>\n",
       "      <th>1</th>\n",
       "      <td>XGBoost</td>\n",
       "      <td>95</td>\n",
       "    </tr>\n",
       "    <tr>\n",
       "      <th>2</th>\n",
       "      <td>CNN</td>\n",
       "      <td>95</td>\n",
       "    </tr>\n",
       "    <tr>\n",
       "      <th>3</th>\n",
       "      <td>BERT</td>\n",
       "      <td>59</td>\n",
       "    </tr>\n",
       "  </tbody>\n",
       "</table>\n",
       "</div>"
      ],
      "text/plain": [
       "                         model  accuracy(%)\n",
       "0  Naive Bayes(baseline_model)           66\n",
       "1                      XGBoost           95\n",
       "2                          CNN           95\n",
       "3                         BERT           59"
      ]
     },
     "execution_count": 111,
     "metadata": {},
     "output_type": "execute_result"
    }
   ],
   "source": [
    "accuracies = {'model':['Naive Bayes(baseline_model)', 'XGBoost','CNN', 'BERT'], \n",
    "            \n",
    "            'accuracy(%)':[ base_accuracy, xg_accuracy, cnn_accuracy, bert_accuracy ] } \n",
    "final_accuracy = pd.DataFrame (accuracies)\n",
    "final_accuracy"
   ]
  },
  {
   "cell_type": "code",
   "execution_count": 113,
   "id": "3843792e",
   "metadata": {},
   "outputs": [
    {
     "data": {
      "image/png": "[encoded data removed]",
      "text/plain": [
       "<Figure size 720x576 with 1 Axes>"
      ]
     },
     "metadata": {
      "needs_background": "light"
     },
     "output_type": "display_data"
    }
   ],
   "source": [
    "#Visualize the result\n",
    "plt.figure(figsize=(10,8))\n",
    "sns.boxplot(data = final_accuracy, x = 'model', y = 'accuracy(%)', width=0.2, linewidth = 5)\n",
    "plt.title('Accuracy Results from Model Training', fontdict={'size':20})\n",
    "plt.xlabel( 'Model', fontdict= {'size':20})\n",
    "plt.ylabel ('Accuracy(%)', fontdict= {'size':20})\n",
    "plt.show()"
   ]
  },
  {
   "cell_type": "markdown",
   "id": "13d8a7c2",
   "metadata": {},
   "source": [
    "The results produced by CNN and XGboost after testing on new data set that has been held out is also shown"
   ]
  },
  {
   "cell_type": "code",
   "execution_count": 114,
   "id": "1d4cb069",
   "metadata": {},
   "outputs": [
    {
     "data": {
      "text/html": [
       "<div>\n",
       "<style scoped>\n",
       "    .dataframe tbody tr th:only-of-type {\n",
       "        vertical-align: middle;\n",
       "    }\n",
       "\n",
       "    .dataframe tbody tr th {\n",
       "        vertical-align: top;\n",
       "    }\n",
       "\n",
       "    .dataframe thead th {\n",
       "        text-align: right;\n",
       "    }\n",
       "</style>\n",
       "<table border=\"1\" class=\"dataframe\">\n",
       "  <thead>\n",
       "    <tr style=\"text-align: right;\">\n",
       "      <th></th>\n",
       "      <th>model</th>\n",
       "      <th>accuracy(%)</th>\n",
       "    </tr>\n",
       "  </thead>\n",
       "  <tbody>\n",
       "    <tr>\n",
       "      <th>0</th>\n",
       "      <td>XGBoost</td>\n",
       "      <td>73</td>\n",
       "    </tr>\n",
       "    <tr>\n",
       "      <th>1</th>\n",
       "      <td>CNN</td>\n",
       "      <td>58</td>\n",
       "    </tr>\n",
       "  </tbody>\n",
       "</table>\n",
       "</div>"
      ],
      "text/plain": [
       "     model  accuracy(%)\n",
       "0  XGBoost           73\n",
       "1      CNN           58"
      ]
     },
     "execution_count": 114,
     "metadata": {},
     "output_type": "execute_result"
    }
   ],
   "source": [
    "new_data_accuracy =  {'model':['XGBoost','CNN'], \n",
    "            \n",
    "            'accuracy(%)':[ xg_test_accuracy, cnn_test_accuracy ] }\n",
    "\n",
    "new_data_accuracy_df = pd.DataFrame(new_data_accuracy)\n",
    "new_data_accuracy_df"
   ]
  },
  {
   "cell_type": "code",
   "execution_count": 115,
   "id": "b79f8743",
   "metadata": {},
   "outputs": [
    {
     "data": {
      "image/png": "[encoded data removed]",
      "text/plain": [
       "<Figure size 720x576 with 1 Axes>"
      ]
     },
     "metadata": {
      "needs_background": "light"
     },
     "output_type": "display_data"
    }
   ],
   "source": [
    "#Visualize the result\n",
    "plt.figure(figsize=(10,8))\n",
    "sns.barplot(data = new_data_accuracy_df, y = 'accuracy(%)', x = 'model')\n",
    "plt.xlabel( 'Model', fontdict= {'size':20})\n",
    "plt.ylabel ('Accuracy(%)', fontdict= {'size':20})\n",
    "plt.title('Model Accuracy on New Data', fontdict= {'size':20} )\n",
    "plt.show()"
   ]
  },
  {
   "cell_type": "code",
   "execution_count": 116,
   "id": "4d059259",
   "metadata": {},
   "outputs": [
    {
     "name": "stdout",
     "output_type": "stream",
     "text": [
      "the accuracy result  of the LDA model is: 30\n"
     ]
    }
   ],
   "source": [
    "print ('the accuracy result  of the LDA model is:', lda_accuracy)"
   ]
  },
  {
   "cell_type": "markdown",
   "id": "3180098f",
   "metadata": {},
   "source": [
    "The accuracy can be improved by performing text summarization on the scripts before passing them through the topic models.\n",
    "\n",
    "Other topic modeling approach can also be explored\n",
    "\n",
    "Availabilty of more data across all target labels will also improve the accuracies rather than pefroming text augmentation"
   ]
  },
  {
   "cell_type": "code",
   "execution_count": null,
   "id": "55564810",
   "metadata": {},
   "outputs": [],
   "source": []
  }
 ],
 "metadata": {
  "kernelspec": {
   "display_name": "Python 3 (ipykernel)",
   "language": "python",
   "name": "python3"
  },
  "language_info": {
   "codemirror_mode": {
    "name": "ipython",
    "version": 3
   },
   "file_extension": ".py",
   "mimetype": "text/x-python",
   "name": "python",
   "nbconvert_exporter": "python",
   "pygments_lexer": "ipython3",
   "version": "3.9.7"
  }
 },
 "nbformat": 4,
 "nbformat_minor": 5
}
